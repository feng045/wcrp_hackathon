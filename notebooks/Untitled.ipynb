{
 "cells": [
  {
   "cell_type": "code",
   "execution_count": 2,
   "id": "d69f98cb-af51-44f0-b22c-e4390a29dd99",
   "metadata": {},
   "outputs": [],
   "source": [
    "import matplotlib\n",
    "import numpy"
   ]
  },
  {
   "cell_type": "markdown",
   "id": "5e46a251-b95b-4e11-9069-fb63f3a6f189",
   "metadata": {},
   "source": [
    "# Title 1: how to build a ENSO sim\n",
    "\n",
    "$\\frac{dT}{dt} = $"
   ]
  },
  {
   "cell_type": "code",
   "execution_count": 3,
   "id": "54a39cca-88b3-40ac-951f-cb667b75af57",
   "metadata": {},
   "outputs": [
    {
     "ename": "NameError",
     "evalue": "name 'taskA' is not defined",
     "output_type": "error",
     "traceback": [
      "\u001b[0;31m---------------------------------------------------------------------------\u001b[0m",
      "\u001b[0;31mNameError\u001b[0m                                 Traceback (most recent call last)",
      "Cell \u001b[0;32mIn[3], line 1\u001b[0m\n\u001b[0;32m----> 1\u001b[0m \u001b[43mtaskA\u001b[49m()\n",
      "\u001b[0;31mNameError\u001b[0m: name 'taskA' is not defined"
     ]
    }
   ],
   "source": [
    "taskA()"
   ]
  },
  {
   "cell_type": "code",
   "execution_count": null,
   "id": "998305e1-285b-402e-88a0-b4064f074060",
   "metadata": {},
   "outputs": [],
   "source": []
  }
 ],
 "metadata": {
  "kernelspec": {
   "display_name": "upflo_env",
   "language": "python",
   "name": "upflo_env"
  },
  "language_info": {
   "codemirror_mode": {
    "name": "ipython",
    "version": 3
   },
   "file_extension": ".py",
   "mimetype": "text/x-python",
   "name": "python",
   "nbconvert_exporter": "python",
   "pygments_lexer": "ipython3",
   "version": "3.12.7"
  }
 },
 "nbformat": 4,
 "nbformat_minor": 5
}
