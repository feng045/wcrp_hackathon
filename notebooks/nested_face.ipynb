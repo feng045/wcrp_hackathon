{
 "cells": [
  {
   "cell_type": "code",
   "id": "f2032242-5d96-40c5-aaf4-917a08f41c99",
   "metadata": {
    "ExecuteTime": {
     "end_time": "2025-01-24T18:37:16.463377Z",
     "start_time": "2025-01-24T18:37:16.460577Z"
    }
   },
   "source": [
    "import matplotlib.pyplot as plt\n",
    "import numpy as np"
   ],
   "outputs": [],
   "execution_count": 2
  },
  {
   "cell_type": "code",
   "id": "cb30ed1c-7faa-42d2-8779-f72d48220cda",
   "metadata": {
    "ExecuteTime": {
     "end_time": "2025-01-24T18:37:48.785270Z",
     "start_time": "2025-01-24T18:37:48.782133Z"
    }
   },
   "source": "a = np.arange(16).reshape((4,4))\n",
   "outputs": [],
   "execution_count": 3
  },
  {
   "metadata": {
    "ExecuteTime": {
     "end_time": "2025-01-24T18:37:58.910104Z",
     "start_time": "2025-01-24T18:37:58.901466Z"
    }
   },
   "cell_type": "code",
   "source": "a",
   "id": "9d14fa0f41db47bc",
   "outputs": [
    {
     "data": {
      "text/plain": [
       "array([[ 0,  1,  2,  3],\n",
       "       [ 4,  5,  6,  7],\n",
       "       [ 8,  9, 10, 11],\n",
       "       [12, 13, 14, 15]])"
      ]
     },
     "execution_count": 4,
     "metadata": {},
     "output_type": "execute_result"
    }
   ],
   "execution_count": 4
  },
  {
   "metadata": {
    "ExecuteTime": {
     "end_time": "2025-01-24T18:39:46.997899Z",
     "start_time": "2025-01-24T18:39:46.992931Z"
    }
   },
   "cell_type": "code",
   "source": [
    "a0 = np.arange(4).reshape((2,2))\n",
    "a0"
   ],
   "id": "215a6ef81ac2bfa2",
   "outputs": [
    {
     "data": {
      "text/plain": [
       "array([[0, 1],\n",
       "       [2, 3]])"
      ]
     },
     "execution_count": 5,
     "metadata": {},
     "output_type": "execute_result"
    }
   ],
   "execution_count": 5
  },
  {
   "metadata": {
    "ExecuteTime": {
     "end_time": "2025-01-24T21:09:58.519477Z",
     "start_time": "2025-01-24T21:09:58.507732Z"
    }
   },
   "cell_type": "code",
   "source": [
    "def hp_face_level_next(a):\n",
    "    a0 = np.arange(4).reshape((2, 2))\n",
    "    tilesize = a.shape[0]\n",
    "    return np.repeat(np.repeat(a, 2, axis=0), 2, axis=1) * 4 + np.tile(a0, (tilesize, tilesize))\n",
    "\n",
    "def hp_face_level(n):\n",
    "    a = np.arange(4).reshape((2, 2))\n",
    "    for i in range(n - 1):\n",
    "        a = hp_face_level_next(a)\n",
    "    return a\n"
   ],
   "id": "a35ebdd7d0d0dd32",
   "outputs": [],
   "execution_count": 29
  },
  {
   "metadata": {
    "ExecuteTime": {
     "end_time": "2025-01-24T21:13:16.846318Z",
     "start_time": "2025-01-24T21:13:16.840360Z"
    }
   },
   "cell_type": "code",
   "source": [
    "a = np.arange(16)\n",
    "f2 = hp_face_level(2)\n",
    "idx = a[f2.flatten()]\n",
    "a[idx].reshape(4, 4)"
   ],
   "id": "f274467df95262c3",
   "outputs": [
    {
     "data": {
      "text/plain": [
       "array([[ 0,  1,  4,  5],\n",
       "       [ 2,  3,  6,  7],\n",
       "       [ 8,  9, 12, 13],\n",
       "       [10, 11, 14, 15]])"
      ]
     },
     "execution_count": 39,
     "metadata": {},
     "output_type": "execute_result"
    }
   ],
   "execution_count": 39
  },
  {
   "metadata": {
    "ExecuteTime": {
     "end_time": "2025-01-24T18:48:48.184423Z",
     "start_time": "2025-01-24T18:48:47.999749Z"
    }
   },
   "cell_type": "code",
   "source": "plt.imshow(anext(anext(anext(a0))))",
   "id": "a6e2beeb873f6abc",
   "outputs": [
    {
     "data": {
      "text/plain": [
       "<matplotlib.image.AxesImage at 0x7fea3e075940>"
      ]
     },
     "execution_count": 28,
     "metadata": {},
     "output_type": "execute_result"
    },
    {
     "data": {
      "text/plain": [
       "<Figure size 640x480 with 1 Axes>"
      ],
      "image/png": "[encoded data removed]"
     },
     "metadata": {},
     "output_type": "display_data"
    }
   ],
   "execution_count": 28
  },
  {
   "metadata": {},
   "cell_type": "code",
   "outputs": [],
   "execution_count": null,
   "source": "",
   "id": "156ececd27b7ef12"
  }
 ],
 "metadata": {
  "kernelspec": {
   "display_name": "wcrp_hackathon_env",
   "language": "python",
   "name": "wcrp_hackathon_env"
  },
  "language_info": {
   "codemirror_mode": {
    "name": "ipython",
    "version": 3
   },
   "file_extension": ".py",
   "mimetype": "text/x-python",
   "name": "python",
   "nbconvert_exporter": "python",
   "pygments_lexer": "ipython3",
   "version": "3.12.7"
  }
 },
 "nbformat": 4,
 "nbformat_minor": 5
}
