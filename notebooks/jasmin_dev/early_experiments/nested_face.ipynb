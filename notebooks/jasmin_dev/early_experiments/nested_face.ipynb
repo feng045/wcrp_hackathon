{
 "cells": [
  {
   "cell_type": "code",
   "execution_count": 1,
   "id": "f2032242-5d96-40c5-aaf4-917a08f41c99",
   "metadata": {
    "ExecuteTime": {
     "end_time": "2025-01-24T18:37:16.463377Z",
     "start_time": "2025-01-24T18:37:16.460577Z"
    }
   },
   "outputs": [],
   "source": [
    "import matplotlib.pyplot as plt\n",
    "import numpy as np"
   ]
  },
  {
   "cell_type": "code",
   "execution_count": 2,
   "id": "cb30ed1c-7faa-42d2-8779-f72d48220cda",
   "metadata": {
    "ExecuteTime": {
     "end_time": "2025-01-24T18:37:48.785270Z",
     "start_time": "2025-01-24T18:37:48.782133Z"
    }
   },
   "outputs": [],
   "source": [
    "a = np.arange(16).reshape((4,4))\n"
   ]
  },
  {
   "cell_type": "code",
   "execution_count": 3,
   "id": "9d14fa0f41db47bc",
   "metadata": {
    "ExecuteTime": {
     "end_time": "2025-01-24T18:37:58.910104Z",
     "start_time": "2025-01-24T18:37:58.901466Z"
    }
   },
   "outputs": [
    {
     "data": {
      "text/plain": [
       "array([[ 0,  1,  2,  3],\n",
       "       [ 4,  5,  6,  7],\n",
       "       [ 8,  9, 10, 11],\n",
       "       [12, 13, 14, 15]])"
      ]
     },
     "execution_count": 3,
     "metadata": {},
     "output_type": "execute_result"
    }
   ],
   "source": [
    "a"
   ]
  },
  {
   "cell_type": "code",
   "execution_count": 4,
   "id": "215a6ef81ac2bfa2",
   "metadata": {
    "ExecuteTime": {
     "end_time": "2025-01-24T18:39:46.997899Z",
     "start_time": "2025-01-24T18:39:46.992931Z"
    }
   },
   "outputs": [
    {
     "data": {
      "text/plain": [
       "array([[0, 1],\n",
       "       [2, 3]])"
      ]
     },
     "execution_count": 4,
     "metadata": {},
     "output_type": "execute_result"
    }
   ],
   "source": [
    "a0 = np.arange(4).reshape((2,2))\n",
    "a0"
   ]
  },
  {
   "cell_type": "code",
   "execution_count": 5,
   "id": "a35ebdd7d0d0dd32",
   "metadata": {
    "ExecuteTime": {
     "end_time": "2025-01-24T21:09:58.519477Z",
     "start_time": "2025-01-24T21:09:58.507732Z"
    }
   },
   "outputs": [],
   "source": [
    "def hp_face_level_next(a):\n",
    "    a0 = np.arange(4).reshape((2, 2))\n",
    "    tilesize = a.shape[0]\n",
    "    return np.repeat(np.repeat(a, 2, axis=0), 2, axis=1) * 4 + np.tile(a0, (tilesize, tilesize))\n",
    "\n",
    "def hp_face_level(n):\n",
    "    a = np.arange(4).reshape((2, 2))\n",
    "    for i in range(n - 1):\n",
    "        a = hp_face_level_next(a)\n",
    "    return a\n"
   ]
  },
  {
   "cell_type": "code",
   "execution_count": 6,
   "id": "f274467df95262c3",
   "metadata": {
    "ExecuteTime": {
     "end_time": "2025-01-24T21:13:16.846318Z",
     "start_time": "2025-01-24T21:13:16.840360Z"
    }
   },
   "outputs": [
    {
     "data": {
      "text/plain": [
       "array([[ 0,  1,  4,  5],\n",
       "       [ 2,  3,  6,  7],\n",
       "       [ 8,  9, 12, 13],\n",
       "       [10, 11, 14, 15]])"
      ]
     },
     "execution_count": 6,
     "metadata": {},
     "output_type": "execute_result"
    }
   ],
   "source": [
    "a = np.arange(16)\n",
    "f2 = hp_face_level(2)\n",
    "idx = a[f2.flatten()]\n",
    "a[idx].reshape(4, 4)"
   ]
  },
  {
   "cell_type": "code",
   "execution_count": 9,
   "id": "a6e2beeb873f6abc",
   "metadata": {
    "ExecuteTime": {
     "end_time": "2025-01-24T18:48:48.184423Z",
     "start_time": "2025-01-24T18:48:47.999749Z"
    }
   },
   "outputs": [
    {
     "data": {
      "image/png": "[encoded data removed]",
      "text/plain": [
       "<Figure size 432x288 with 1 Axes>"
      ]
     },
     "metadata": {
      "needs_background": "light"
     },
     "output_type": "display_data"
    }
   ],
   "source": [
    "plt.imshow(hp_face_level(3));"
   ]
  },
  {
   "cell_type": "code",
   "execution_count": 12,
   "id": "156ececd27b7ef12",
   "metadata": {},
   "outputs": [
    {
     "data": {
      "text/plain": [
       "array([[ 0,  1,  4,  5, 16, 17, 20, 21],\n",
       "       [ 2,  3,  6,  7, 18, 19, 22, 23],\n",
       "       [ 8,  9, 12, 13, 24, 25, 28, 29],\n",
       "       [10, 11, 14, 15, 26, 27, 30, 31],\n",
       "       [32, 33, 36, 37, 48, 49, 52, 53],\n",
       "       [34, 35, 38, 39, 50, 51, 54, 55],\n",
       "       [40, 41, 44, 45, 56, 57, 60, 61],\n",
       "       [42, 43, 46, 47, 58, 59, 62, 63]])"
      ]
     },
     "execution_count": 12,
     "metadata": {},
     "output_type": "execute_result"
    }
   ],
   "source": [
    "f3 = hp_face_level(3)\n",
    "f3"
   ]
  },
  {
   "cell_type": "code",
   "execution_count": 20,
   "id": "3a7b8647-a5a9-4cc5-bbcd-06dfa8a0ae57",
   "metadata": {},
   "outputs": [
    {
     "data": {
      "text/plain": [
       "array([[ 0,  0,  1,  1,  4,  4,  5,  5],\n",
       "       [ 0,  0,  1,  1,  4,  4,  5,  5],\n",
       "       [ 2,  2,  3,  3,  6,  6,  7,  7],\n",
       "       [ 2,  2,  3,  3,  6,  6,  7,  7],\n",
       "       [ 8,  8,  9,  9, 12, 12, 13, 13],\n",
       "       [ 8,  8,  9,  9, 12, 12, 13, 13],\n",
       "       [10, 10, 11, 11, 14, 14, 15, 15],\n",
       "       [10, 10, 11, 11, 14, 14, 15, 15]])"
      ]
     },
     "execution_count": 20,
     "metadata": {},
     "output_type": "execute_result"
    }
   ],
   "source": [
    "d3"
   ]
  },
  {
   "cell_type": "code",
   "execution_count": 15,
   "id": "3c24199c-de1a-4d48-8e26-82d8e44810eb",
   "metadata": {},
   "outputs": [
    {
     "data": {
      "text/plain": [
       "\u001b[0;31mDocstring:\u001b[0m\n",
       "bincount(x, weights=None, minlength=0)\n",
       "\n",
       "Count number of occurrences of each value in array of non-negative ints.\n",
       "\n",
       "The number of bins (of size 1) is one larger than the largest value in\n",
       "`x`. If `minlength` is specified, there will be at least this number\n",
       "of bins in the output array (though it will be longer if necessary,\n",
       "depending on the contents of `x`).\n",
       "Each bin gives the number of occurrences of its index value in `x`.\n",
       "If `weights` is specified the input array is weighted by it, i.e. if a\n",
       "value ``n`` is found at position ``i``, ``out[n] += weight[i]`` instead\n",
       "of ``out[n] += 1``.\n",
       "\n",
       "Parameters\n",
       "----------\n",
       "x : array_like, 1 dimension, nonnegative ints\n",
       "    Input array.\n",
       "weights : array_like, optional\n",
       "    Weights, array of the same shape as `x`.\n",
       "minlength : int, optional\n",
       "    A minimum number of bins for the output array.\n",
       "\n",
       "    .. versionadded:: 1.6.0\n",
       "\n",
       "Returns\n",
       "-------\n",
       "out : ndarray of ints\n",
       "    The result of binning the input array.\n",
       "    The length of `out` is equal to ``np.amax(x)+1``.\n",
       "\n",
       "Raises\n",
       "------\n",
       "ValueError\n",
       "    If the input is not 1-dimensional, or contains elements with negative\n",
       "    values, or if `minlength` is negative.\n",
       "TypeError\n",
       "    If the type of the input is float or complex.\n",
       "\n",
       "See Also\n",
       "--------\n",
       "histogram, digitize, unique\n",
       "\n",
       "Examples\n",
       "--------\n",
       ">>> np.bincount(np.arange(5))\n",
       "array([1, 1, 1, 1, 1])\n",
       ">>> np.bincount(np.array([0, 1, 1, 3, 2, 1, 7]))\n",
       "array([1, 3, 1, 1, 0, 0, 0, 1])\n",
       "\n",
       ">>> x = np.array([0, 1, 1, 3, 2, 1, 7, 23])\n",
       ">>> np.bincount(x).size == np.amax(x)+1\n",
       "True\n",
       "\n",
       "The input array needs to be of integer dtype, otherwise a\n",
       "TypeError is raised:\n",
       "\n",
       ">>> np.bincount(np.arange(5, dtype=float))\n",
       "Traceback (most recent call last):\n",
       "  ...\n",
       "TypeError: Cannot cast array data from dtype('float64') to dtype('int64')\n",
       "according to the rule 'safe'\n",
       "\n",
       "A possible use of ``bincount`` is to perform sums over\n",
       "variable-size chunks of an array, using the ``weights`` keyword.\n",
       "\n",
       ">>> w = np.array([0.3, 0.5, 0.2, 0.7, 1., -0.6]) # weights\n",
       ">>> x = np.array([0, 1, 1, 2, 2, 2])\n",
       ">>> np.bincount(x,  weights=w)\n",
       "array([ 0.3,  0.7,  1.1])\n",
       "\u001b[0;31mType:\u001b[0m      function\n"
      ]
     },
     "metadata": {},
     "output_type": "display_data"
    }
   ],
   "source": [
    "np.bincount?"
   ]
  },
  {
   "cell_type": "code",
   "execution_count": 29,
   "id": "50b2d452-c412-4be9-bbe8-02cd5c3c204e",
   "metadata": {},
   "outputs": [
    {
     "name": "stdout",
     "output_type": "stream",
     "text": [
      "14.4 µs ± 658 ns per loop (mean ± std. dev. of 7 runs, 100,000 loops each)\n"
     ]
    }
   ],
   "source": [
    "%%timeit\n",
    "d3 = np.digitize(f3, bins=np.arange(0, 64, 4)) - 1\n",
    "(np.bincount(d3.ravel(), weights=f3.ravel()) / 4).reshape(4, 4)"
   ]
  },
  {
   "cell_type": "code",
   "execution_count": 24,
   "id": "008bff9f-28ef-42ed-b6f0-2711ee4ad4ac",
   "metadata": {},
   "outputs": [
    {
     "data": {
      "text/plain": [
       "array([[ 0,  1,  4,  5, 16, 17, 20, 21],\n",
       "       [ 2,  3,  6,  7, 18, 19, 22, 23],\n",
       "       [ 8,  9, 12, 13, 24, 25, 28, 29],\n",
       "       [10, 11, 14, 15, 26, 27, 30, 31],\n",
       "       [32, 33, 36, 37, 48, 49, 52, 53],\n",
       "       [34, 35, 38, 39, 50, 51, 54, 55],\n",
       "       [40, 41, 44, 45, 56, 57, 60, 61],\n",
       "       [42, 43, 46, 47, 58, 59, 62, 63]])"
      ]
     },
     "execution_count": 24,
     "metadata": {},
     "output_type": "execute_result"
    }
   ],
   "source": []
  },
  {
   "cell_type": "code",
   "execution_count": 30,
   "id": "de7f9402-a63e-4d08-b316-291b3f1a9b77",
   "metadata": {},
   "outputs": [
    {
     "name": "stdout",
     "output_type": "stream",
     "text": [
      "12.6 µs ± 191 ns per loop (mean ± std. dev. of 7 runs, 100,000 loops each)\n"
     ]
    }
   ],
   "source": [
    "%%timeit\n",
    "f3.reshape(4, 2, 4, 2).mean(axis=(1, 3))"
   ]
  },
  {
   "cell_type": "code",
   "execution_count": 27,
   "id": "ad357941-7307-4de1-962f-47218015d7ca",
   "metadata": {},
   "outputs": [
    {
     "data": {
      "text/plain": [
       "(8, 8)"
      ]
     },
     "execution_count": 27,
     "metadata": {},
     "output_type": "execute_result"
    }
   ],
   "source": [
    "f3.shape"
   ]
  },
  {
   "cell_type": "code",
   "execution_count": null,
   "id": "44e8daaa-c93f-44d1-be9b-cd43251be4b0",
   "metadata": {},
   "outputs": [],
   "source": []
  }
 ],
 "metadata": {
  "kernelspec": {
   "display_name": "mcs_prime_env",
   "language": "python",
   "name": "mcs_prime_env"
  },
  "language_info": {
   "codemirror_mode": {
    "name": "ipython",
    "version": 3
   },
   "file_extension": ".py",
   "mimetype": "text/x-python",
   "name": "python",
   "nbconvert_exporter": "python",
   "pygments_lexer": "ipython3",
   "version": "3.10.4"
  }
 },
 "nbformat": 4,
 "nbformat_minor": 5
}
