{
 "cells": [
  {
   "cell_type": "code",
   "execution_count": 1,
   "id": "a6d5bc0e-6bfd-4a7d-b905-22a0b0fad3ea",
   "metadata": {
    "execution": {
     "iopub.execute_input": "2025-03-20T21:40:55.668615Z",
     "iopub.status.busy": "2025-03-20T21:40:55.668048Z",
     "iopub.status.idle": "2025-03-20T21:40:58.924803Z",
     "shell.execute_reply": "2025-03-20T21:40:58.923830Z",
     "shell.execute_reply.started": "2025-03-20T21:40:55.668559Z"
    }
   },
   "outputs": [],
   "source": [
    "import iris\n",
    "import xarray as xr"
   ]
  },
  {
   "cell_type": "code",
   "execution_count": 3,
   "id": "280e6bde-b077-4643-b471-0ee6074ec0f6",
   "metadata": {
    "execution": {
     "iopub.execute_input": "2025-03-21T09:31:41.220794Z",
     "iopub.status.busy": "2025-03-21T09:31:41.220431Z",
     "iopub.status.idle": "2025-03-21T09:31:46.810342Z",
     "shell.execute_reply": "2025-03-21T09:31:46.809416Z",
     "shell.execute_reply.started": "2025-03-21T09:31:41.220771Z"
    }
   },
   "outputs": [
    {
     "name": "stdout",
     "output_type": "stream",
     "text": [
      "0.015625 True\n"
     ]
    }
   ],
   "source": [
    "import iris\n",
    "import numpy as np\n",
    "\n",
    "cubes = iris.load('/gws/nopw/j04/kscale/DYAMOND3_example_data/sample_data_hirerarchy/5km-RAL3/glm/field.pp/apvera.pp/glm.n2560_RAL3p3.apvera_20200120T00.pp')\n",
    "T = cubes.extract_cube('air_temperature')\n",
    "min_diff = np.diff(np.sort(np.unique(T.data))).min()\n",
    "print(min_diff, min_diff == 1 / 64)"
   ]
  },
  {
   "cell_type": "code",
   "execution_count": 2,
   "id": "bbb66658-4f6a-4300-90d0-e4372b7745b2",
   "metadata": {
    "execution": {
     "iopub.execute_input": "2025-03-20T21:40:58.926463Z",
     "iopub.status.busy": "2025-03-20T21:40:58.926090Z",
     "iopub.status.idle": "2025-03-20T21:41:04.870240Z",
     "shell.execute_reply": "2025-03-20T21:41:04.869376Z",
     "shell.execute_reply.started": "2025-03-20T21:40:58.926439Z"
    }
   },
   "outputs": [
    {
     "name": "stderr",
     "output_type": "stream",
     "text": [
      "/home/users/mmuetz/miniforge3/envs/hackathon_env/lib/python3.12/site-packages/pyproj/network.py:59: UserWarning: pyproj unable to set PROJ database path.\n",
      "  _set_context_ca_bundle_path(ca_bundle_path)\n"
     ]
    }
   ],
   "source": [
    "cubes = iris.load('/gws/nopw/j04/kscale/DYAMOND3_example_data/sample_data_hirerarchy/5km-RAL3/glm/field.pp/apvera.pp/glm.n2560_RAL3p3.apvera_20200120T00.pp')"
   ]
  },
  {
   "cell_type": "code",
   "execution_count": 4,
   "id": "9b9f70fd-5f06-4cb2-a9e3-9aaddecaae9b",
   "metadata": {
    "execution": {
     "iopub.execute_input": "2025-03-20T21:41:16.895082Z",
     "iopub.status.busy": "2025-03-20T21:41:16.894454Z",
     "iopub.status.idle": "2025-03-20T21:41:16.905069Z",
     "shell.execute_reply": "2025-03-20T21:41:16.903716Z",
     "shell.execute_reply.started": "2025-03-20T21:41:16.895031Z"
    }
   },
   "outputs": [
    {
     "data": {
      "text/plain": [
       "[dtype('float32'),\n",
       " dtype('float32'),\n",
       " dtype('float32'),\n",
       " dtype('float32'),\n",
       " dtype('int32'),\n",
       " dtype('float32'),\n",
       " dtype('float32'),\n",
       " dtype('float32'),\n",
       " dtype('float32'),\n",
       " dtype('float32'),\n",
       " dtype('float32'),\n",
       " dtype('float32'),\n",
       " dtype('float32'),\n",
       " dtype('float32'),\n",
       " dtype('float32'),\n",
       " dtype('float32'),\n",
       " dtype('float32'),\n",
       " dtype('float32'),\n",
       " dtype('float32'),\n",
       " dtype('float32'),\n",
       " dtype('float32'),\n",
       " dtype('float32'),\n",
       " dtype('float32'),\n",
       " dtype('float32'),\n",
       " dtype('float32'),\n",
       " dtype('float32')]"
      ]
     },
     "execution_count": 4,
     "metadata": {},
     "output_type": "execute_result"
    }
   ],
   "source": [
    "[c.dtype for c in cubes]"
   ]
  },
  {
   "cell_type": "code",
   "execution_count": 5,
   "id": "d9dbe1a4-e8e1-4e26-97e8-ae0e9412aa11",
   "metadata": {
    "execution": {
     "iopub.execute_input": "2025-03-20T21:52:17.196432Z",
     "iopub.status.busy": "2025-03-20T21:52:17.195608Z",
     "iopub.status.idle": "2025-03-20T21:52:18.353085Z",
     "shell.execute_reply": "2025-03-20T21:52:18.352134Z",
     "shell.execute_reply.started": "2025-03-20T21:52:17.196379Z"
    }
   },
   "outputs": [
    {
     "name": "stderr",
     "output_type": "stream",
     "text": [
      "/tmp/ipykernel_955/3035529485.py:1: FutureWarning: In a future version of xarray decode_timedelta will default to False rather than None. To silence this warning, set decode_timedelta to True, False, or a 'CFTimedeltaCoder' instance.\n",
      "  ds = xr.open_dataset('/work/scratch-nopw2/mmuetz/wcrp_hackathon/DYAMOND3_example_data/5km-RAL3/20200120T00.3d.nc')\n"
     ]
    }
   ],
   "source": [
    "ds = xr.open_dataset('/work/scratch-nopw2/mmuetz/wcrp_hackathon/DYAMOND3_example_data/5km-RAL3/20200120T00.3d.nc')"
   ]
  },
  {
   "cell_type": "code",
   "execution_count": 6,
   "id": "7dea43a3-d5aa-45ee-b67d-391a0a8fd48a",
   "metadata": {
    "execution": {
     "iopub.execute_input": "2025-03-20T21:52:21.803120Z",
     "iopub.status.busy": "2025-03-20T21:52:21.801897Z",
     "iopub.status.idle": "2025-03-20T21:52:21.862058Z",
     "shell.execute_reply": "2025-03-20T21:52:21.861362Z",
     "shell.execute_reply.started": "2025-03-20T21:52:21.803059Z"
    }
   },
   "outputs": [
    {
     "data": {
      "text/html": [
       "<div><svg style=\"position: absolute; width: 0; height: 0; overflow: hidden\">\n",
       "<defs>\n",
       "<symbol id=\"icon-database\" viewBox=\"0 0 32 32\">\n",
       "<path d=\"M16 0c-8.837 0-16 2.239-16 5v4c0 2.761 7.163 5 16 5s16-2.239 16-5v-4c0-2.761-7.163-5-16-5z\"></path>\n",
       "<path d=\"M16 17c-8.837 0-16-2.239-16-5v6c0 2.761 7.163 5 16 5s16-2.239 16-5v-6c0 2.761-7.163 5-16 5z\"></path>\n",
       "<path d=\"M16 26c-8.837 0-16-2.239-16-5v6c0 2.761 7.163 5 16 5s16-2.239 16-5v-6c0 2.761-7.163 5-16 5z\"></path>\n",
       "</symbol>\n",
       "<symbol id=\"icon-file-text2\" viewBox=\"0 0 32 32\">\n",
       "<path d=\"M28.681 7.159c-0.694-0.947-1.662-2.053-2.724-3.116s-2.169-2.030-3.116-2.724c-1.612-1.182-2.393-1.319-2.841-1.319h-15.5c-1.378 0-2.5 1.121-2.5 2.5v27c0 1.378 1.122 2.5 2.5 2.5h23c1.378 0 2.5-1.122 2.5-2.5v-19.5c0-0.448-0.137-1.23-1.319-2.841zM24.543 5.457c0.959 0.959 1.712 1.825 2.268 2.543h-4.811v-4.811c0.718 0.556 1.584 1.309 2.543 2.268zM28 29.5c0 0.271-0.229 0.5-0.5 0.5h-23c-0.271 0-0.5-0.229-0.5-0.5v-27c0-0.271 0.229-0.5 0.5-0.5 0 0 15.499-0 15.5 0v7c0 0.552 0.448 1 1 1h7v19.5z\"></path>\n",
       "<path d=\"M23 26h-14c-0.552 0-1-0.448-1-1s0.448-1 1-1h14c0.552 0 1 0.448 1 1s-0.448 1-1 1z\"></path>\n",
       "<path d=\"M23 22h-14c-0.552 0-1-0.448-1-1s0.448-1 1-1h14c0.552 0 1 0.448 1 1s-0.448 1-1 1z\"></path>\n",
       "<path d=\"M23 18h-14c-0.552 0-1-0.448-1-1s0.448-1 1-1h14c0.552 0 1 0.448 1 1s-0.448 1-1 1z\"></path>\n",
       "</symbol>\n",
       "</defs>\n",
       "</svg>\n",
       "<style>/* CSS stylesheet for displaying xarray objects in jupyterlab.\n",
       " *\n",
       " */\n",
       "\n",
       ":root {\n",
       "  --xr-font-color0: var(--jp-content-font-color0, rgba(0, 0, 0, 1));\n",
       "  --xr-font-color2: var(--jp-content-font-color2, rgba(0, 0, 0, 0.54));\n",
       "  --xr-font-color3: var(--jp-content-font-color3, rgba(0, 0, 0, 0.38));\n",
       "  --xr-border-color: var(--jp-border-color2, #e0e0e0);\n",
       "  --xr-disabled-color: var(--jp-layout-color3, #bdbdbd);\n",
       "  --xr-background-color: var(--jp-layout-color0, white);\n",
       "  --xr-background-color-row-even: var(--jp-layout-color1, white);\n",
       "  --xr-background-color-row-odd: var(--jp-layout-color2, #eeeeee);\n",
       "}\n",
       "\n",
       "html[theme=\"dark\"],\n",
       "html[data-theme=\"dark\"],\n",
       "body[data-theme=\"dark\"],\n",
       "body.vscode-dark {\n",
       "  --xr-font-color0: rgba(255, 255, 255, 1);\n",
       "  --xr-font-color2: rgba(255, 255, 255, 0.54);\n",
       "  --xr-font-color3: rgba(255, 255, 255, 0.38);\n",
       "  --xr-border-color: #1f1f1f;\n",
       "  --xr-disabled-color: #515151;\n",
       "  --xr-background-color: #111111;\n",
       "  --xr-background-color-row-even: #111111;\n",
       "  --xr-background-color-row-odd: #313131;\n",
       "}\n",
       "\n",
       ".xr-wrap {\n",
       "  display: block !important;\n",
       "  min-width: 300px;\n",
       "  max-width: 700px;\n",
       "}\n",
       "\n",
       ".xr-text-repr-fallback {\n",
       "  /* fallback to plain text repr when CSS is not injected (untrusted notebook) */\n",
       "  display: none;\n",
       "}\n",
       "\n",
       ".xr-header {\n",
       "  padding-top: 6px;\n",
       "  padding-bottom: 6px;\n",
       "  margin-bottom: 4px;\n",
       "  border-bottom: solid 1px var(--xr-border-color);\n",
       "}\n",
       "\n",
       ".xr-header > div,\n",
       ".xr-header > ul {\n",
       "  display: inline;\n",
       "  margin-top: 0;\n",
       "  margin-bottom: 0;\n",
       "}\n",
       "\n",
       ".xr-obj-type,\n",
       ".xr-array-name {\n",
       "  margin-left: 2px;\n",
       "  margin-right: 10px;\n",
       "}\n",
       "\n",
       ".xr-obj-type {\n",
       "  color: var(--xr-font-color2);\n",
       "}\n",
       "\n",
       ".xr-sections {\n",
       "  padding-left: 0 !important;\n",
       "  display: grid;\n",
       "  grid-template-columns: 150px auto auto 1fr 0 20px 0 20px;\n",
       "}\n",
       "\n",
       ".xr-section-item {\n",
       "  display: contents;\n",
       "}\n",
       "\n",
       ".xr-section-item input {\n",
       "  display: inline-block;\n",
       "  opacity: 0;\n",
       "  height: 0;\n",
       "}\n",
       "\n",
       ".xr-section-item input + label {\n",
       "  color: var(--xr-disabled-color);\n",
       "}\n",
       "\n",
       ".xr-section-item input:enabled + label {\n",
       "  cursor: pointer;\n",
       "  color: var(--xr-font-color2);\n",
       "}\n",
       "\n",
       ".xr-section-item input:focus + label {\n",
       "  border: 2px solid var(--xr-font-color0);\n",
       "}\n",
       "\n",
       ".xr-section-item input:enabled + label:hover {\n",
       "  color: var(--xr-font-color0);\n",
       "}\n",
       "\n",
       ".xr-section-summary {\n",
       "  grid-column: 1;\n",
       "  color: var(--xr-font-color2);\n",
       "  font-weight: 500;\n",
       "}\n",
       "\n",
       ".xr-section-summary > span {\n",
       "  display: inline-block;\n",
       "  padding-left: 0.5em;\n",
       "}\n",
       "\n",
       ".xr-section-summary-in:disabled + label {\n",
       "  color: var(--xr-font-color2);\n",
       "}\n",
       "\n",
       ".xr-section-summary-in + label:before {\n",
       "  display: inline-block;\n",
       "  content: \"►\";\n",
       "  font-size: 11px;\n",
       "  width: 15px;\n",
       "  text-align: center;\n",
       "}\n",
       "\n",
       ".xr-section-summary-in:disabled + label:before {\n",
       "  color: var(--xr-disabled-color);\n",
       "}\n",
       "\n",
       ".xr-section-summary-in:checked + label:before {\n",
       "  content: \"▼\";\n",
       "}\n",
       "\n",
       ".xr-section-summary-in:checked + label > span {\n",
       "  display: none;\n",
       "}\n",
       "\n",
       ".xr-section-summary,\n",
       ".xr-section-inline-details {\n",
       "  padding-top: 4px;\n",
       "  padding-bottom: 4px;\n",
       "}\n",
       "\n",
       ".xr-section-inline-details {\n",
       "  grid-column: 2 / -1;\n",
       "}\n",
       "\n",
       ".xr-section-details {\n",
       "  display: none;\n",
       "  grid-column: 1 / -1;\n",
       "  margin-bottom: 5px;\n",
       "}\n",
       "\n",
       ".xr-section-summary-in:checked ~ .xr-section-details {\n",
       "  display: contents;\n",
       "}\n",
       "\n",
       ".xr-array-wrap {\n",
       "  grid-column: 1 / -1;\n",
       "  display: grid;\n",
       "  grid-template-columns: 20px auto;\n",
       "}\n",
       "\n",
       ".xr-array-wrap > label {\n",
       "  grid-column: 1;\n",
       "  vertical-align: top;\n",
       "}\n",
       "\n",
       ".xr-preview {\n",
       "  color: var(--xr-font-color3);\n",
       "}\n",
       "\n",
       ".xr-array-preview,\n",
       ".xr-array-data {\n",
       "  padding: 0 5px !important;\n",
       "  grid-column: 2;\n",
       "}\n",
       "\n",
       ".xr-array-data,\n",
       ".xr-array-in:checked ~ .xr-array-preview {\n",
       "  display: none;\n",
       "}\n",
       "\n",
       ".xr-array-in:checked ~ .xr-array-data,\n",
       ".xr-array-preview {\n",
       "  display: inline-block;\n",
       "}\n",
       "\n",
       ".xr-dim-list {\n",
       "  display: inline-block !important;\n",
       "  list-style: none;\n",
       "  padding: 0 !important;\n",
       "  margin: 0;\n",
       "}\n",
       "\n",
       ".xr-dim-list li {\n",
       "  display: inline-block;\n",
       "  padding: 0;\n",
       "  margin: 0;\n",
       "}\n",
       "\n",
       ".xr-dim-list:before {\n",
       "  content: \"(\";\n",
       "}\n",
       "\n",
       ".xr-dim-list:after {\n",
       "  content: \")\";\n",
       "}\n",
       "\n",
       ".xr-dim-list li:not(:last-child):after {\n",
       "  content: \",\";\n",
       "  padding-right: 5px;\n",
       "}\n",
       "\n",
       ".xr-has-index {\n",
       "  font-weight: bold;\n",
       "}\n",
       "\n",
       ".xr-var-list,\n",
       ".xr-var-item {\n",
       "  display: contents;\n",
       "}\n",
       "\n",
       ".xr-var-item > div,\n",
       ".xr-var-item label,\n",
       ".xr-var-item > .xr-var-name span {\n",
       "  background-color: var(--xr-background-color-row-even);\n",
       "  margin-bottom: 0;\n",
       "}\n",
       "\n",
       ".xr-var-item > .xr-var-name:hover span {\n",
       "  padding-right: 5px;\n",
       "}\n",
       "\n",
       ".xr-var-list > li:nth-child(odd) > div,\n",
       ".xr-var-list > li:nth-child(odd) > label,\n",
       ".xr-var-list > li:nth-child(odd) > .xr-var-name span {\n",
       "  background-color: var(--xr-background-color-row-odd);\n",
       "}\n",
       "\n",
       ".xr-var-name {\n",
       "  grid-column: 1;\n",
       "}\n",
       "\n",
       ".xr-var-dims {\n",
       "  grid-column: 2;\n",
       "}\n",
       "\n",
       ".xr-var-dtype {\n",
       "  grid-column: 3;\n",
       "  text-align: right;\n",
       "  color: var(--xr-font-color2);\n",
       "}\n",
       "\n",
       ".xr-var-preview {\n",
       "  grid-column: 4;\n",
       "}\n",
       "\n",
       ".xr-index-preview {\n",
       "  grid-column: 2 / 5;\n",
       "  color: var(--xr-font-color2);\n",
       "}\n",
       "\n",
       ".xr-var-name,\n",
       ".xr-var-dims,\n",
       ".xr-var-dtype,\n",
       ".xr-preview,\n",
       ".xr-attrs dt {\n",
       "  white-space: nowrap;\n",
       "  overflow: hidden;\n",
       "  text-overflow: ellipsis;\n",
       "  padding-right: 10px;\n",
       "}\n",
       "\n",
       ".xr-var-name:hover,\n",
       ".xr-var-dims:hover,\n",
       ".xr-var-dtype:hover,\n",
       ".xr-attrs dt:hover {\n",
       "  overflow: visible;\n",
       "  width: auto;\n",
       "  z-index: 1;\n",
       "}\n",
       "\n",
       ".xr-var-attrs,\n",
       ".xr-var-data,\n",
       ".xr-index-data {\n",
       "  display: none;\n",
       "  background-color: var(--xr-background-color) !important;\n",
       "  padding-bottom: 5px !important;\n",
       "}\n",
       "\n",
       ".xr-var-attrs-in:checked ~ .xr-var-attrs,\n",
       ".xr-var-data-in:checked ~ .xr-var-data,\n",
       ".xr-index-data-in:checked ~ .xr-index-data {\n",
       "  display: block;\n",
       "}\n",
       "\n",
       ".xr-var-data > table {\n",
       "  float: right;\n",
       "}\n",
       "\n",
       ".xr-var-name span,\n",
       ".xr-var-data,\n",
       ".xr-index-name div,\n",
       ".xr-index-data,\n",
       ".xr-attrs {\n",
       "  padding-left: 25px !important;\n",
       "}\n",
       "\n",
       ".xr-attrs,\n",
       ".xr-var-attrs,\n",
       ".xr-var-data,\n",
       ".xr-index-data {\n",
       "  grid-column: 1 / -1;\n",
       "}\n",
       "\n",
       "dl.xr-attrs {\n",
       "  padding: 0;\n",
       "  margin: 0;\n",
       "  display: grid;\n",
       "  grid-template-columns: 125px auto;\n",
       "}\n",
       "\n",
       ".xr-attrs dt,\n",
       ".xr-attrs dd {\n",
       "  padding: 0;\n",
       "  margin: 0;\n",
       "  float: left;\n",
       "  padding-right: 10px;\n",
       "  width: auto;\n",
       "}\n",
       "\n",
       ".xr-attrs dt {\n",
       "  font-weight: normal;\n",
       "  grid-column: 1;\n",
       "}\n",
       "\n",
       ".xr-attrs dt:hover span {\n",
       "  display: inline-block;\n",
       "  background: var(--xr-background-color);\n",
       "  padding-right: 10px;\n",
       "}\n",
       "\n",
       ".xr-attrs dd {\n",
       "  grid-column: 2;\n",
       "  white-space: pre-wrap;\n",
       "  word-break: break-all;\n",
       "}\n",
       "\n",
       ".xr-icon-database,\n",
       ".xr-icon-file-text2,\n",
       ".xr-no-icon {\n",
       "  display: inline-block;\n",
       "  vertical-align: middle;\n",
       "  width: 1em;\n",
       "  height: 1.5em !important;\n",
       "  stroke-width: 0;\n",
       "  stroke: currentColor;\n",
       "  fill: currentColor;\n",
       "}\n",
       "</style><pre class='xr-text-repr-fallback'>&lt;xarray.Dataset&gt; Size: 98GB\n",
       "Dimensions:                                     (time: 5, pressure: 25,\n",
       "                                                 latitude: 3841,\n",
       "                                                 longitude: 5120,\n",
       "                                                 latitude_0: 3840,\n",
       "                                                 longitude_0: 5120, time_0: 4)\n",
       "Coordinates:\n",
       "  * time                                        (time) datetime64[ns] 40B 202...\n",
       "  * pressure                                    (pressure) float32 100B 1.0 ....\n",
       "  * latitude                                    (latitude) float32 15kB -90.0...\n",
       "  * longitude                                   (longitude) float32 20kB 0.0 ...\n",
       "    forecast_period                             (time) timedelta64[ns] 40B ...\n",
       "    forecast_reference_time                     datetime64[ns] 8B ...\n",
       "  * latitude_0                                  (latitude_0) float32 15kB -89...\n",
       "  * longitude_0                                 (longitude_0) float32 20kB 0....\n",
       "  * time_0                                      (time_0) datetime64[ns] 32B 2...\n",
       "Data variables:\n",
       "    x_wind                                      (time, pressure, latitude, longitude) float32 10GB ...\n",
       "    latitude_longitude                          int32 4B ...\n",
       "    geopotential_height                         (time, pressure, latitude_0, longitude_0) float32 10GB ...\n",
       "    y_wind                                      (time, pressure, latitude, longitude) float32 10GB ...\n",
       "    relative_humidity                           (time, pressure, latitude_0, longitude_0) float32 10GB ...\n",
       "    specific_humidity                           (time, pressure, latitude, longitude) float32 10GB ...\n",
       "    air_temperature                             (time, pressure, latitude_0, longitude_0) float32 10GB ...\n",
       "    mass_fraction_of_cloud_ice_in_air           (time_0, pressure, latitude_0, longitude_0) float32 8GB ...\n",
       "    mass_fraction_of_cloud_liquid_water_in_air  (time_0, pressure, latitude_0, longitude_0) float32 8GB ...\n",
       "    mass_fraction_of_graupel_in_air             (time_0, pressure, latitude_0, longitude_0) float32 8GB ...\n",
       "    mass_fraction_of_rain_in_air                (time_0, pressure, latitude_0, longitude_0) float32 8GB ...\n",
       "    mass_fraction_of_cloud_ice_crystals_in_air  (time_0, pressure, latitude_0, longitude_0) float32 8GB ...\n",
       "Attributes:\n",
       "    source:       Data from Met Office Unified Model\n",
       "    um_version:   13.5\n",
       "    Conventions:  CF-1.7</pre><div class='xr-wrap' style='display:none'><div class='xr-header'><div class='xr-obj-type'>xarray.Dataset</div></div><ul class='xr-sections'><li class='xr-section-item'><input id='section-6fb6b0c5-05b6-4bc2-8f9a-1999e2bb2b49' class='xr-section-summary-in' type='checkbox' disabled ><label for='section-6fb6b0c5-05b6-4bc2-8f9a-1999e2bb2b49' class='xr-section-summary'  title='Expand/collapse section'>Dimensions:</label><div class='xr-section-inline-details'><ul class='xr-dim-list'><li><span class='xr-has-index'>time</span>: 5</li><li><span class='xr-has-index'>pressure</span>: 25</li><li><span class='xr-has-index'>latitude</span>: 3841</li><li><span class='xr-has-index'>longitude</span>: 5120</li><li><span class='xr-has-index'>latitude_0</span>: 3840</li><li><span class='xr-has-index'>longitude_0</span>: 5120</li><li><span class='xr-has-index'>time_0</span>: 4</li></ul></div><div class='xr-section-details'></div></li><li class='xr-section-item'><input id='section-c802df79-9809-4d5e-be89-06ea8a185cad' class='xr-section-summary-in' type='checkbox'  checked><label for='section-c802df79-9809-4d5e-be89-06ea8a185cad' class='xr-section-summary' >Coordinates: <span>(9)</span></label><div class='xr-section-inline-details'></div><div class='xr-section-details'><ul class='xr-var-list'><li class='xr-var-item'><div class='xr-var-name'><span class='xr-has-index'>time</span></div><div class='xr-var-dims'>(time)</div><div class='xr-var-dtype'>datetime64[ns]</div><div class='xr-var-preview xr-preview'>2020-01-20 ... 2020-01-20T12:00:00</div><input id='attrs-f84d50ed-5327-4896-8b44-4962717f0f99' class='xr-var-attrs-in' type='checkbox' ><label for='attrs-f84d50ed-5327-4896-8b44-4962717f0f99' title='Show/Hide attributes'><svg class='icon xr-icon-file-text2'><use xlink:href='#icon-file-text2'></use></svg></label><input id='data-489c6ecf-ea6a-4b37-b3fb-f16c7963419d' class='xr-var-data-in' type='checkbox'><label for='data-489c6ecf-ea6a-4b37-b3fb-f16c7963419d' title='Show/Hide data repr'><svg class='icon xr-icon-database'><use xlink:href='#icon-database'></use></svg></label><div class='xr-var-attrs'><dl class='xr-attrs'><dt><span>axis :</span></dt><dd>T</dd><dt><span>standard_name :</span></dt><dd>time</dd></dl></div><div class='xr-var-data'><pre>array([&#x27;2020-01-20T00:00:00.000000000&#x27;, &#x27;2020-01-20T03:00:00.000000000&#x27;,\n",
       "       &#x27;2020-01-20T06:00:00.000000000&#x27;, &#x27;2020-01-20T09:00:00.000000000&#x27;,\n",
       "       &#x27;2020-01-20T12:00:00.000000000&#x27;], dtype=&#x27;datetime64[ns]&#x27;)</pre></div></li><li class='xr-var-item'><div class='xr-var-name'><span class='xr-has-index'>pressure</span></div><div class='xr-var-dims'>(pressure)</div><div class='xr-var-dtype'>float32</div><div class='xr-var-preview xr-preview'>1.0 5.0 10.0 ... 950.0 975.0 1e+03</div><input id='attrs-431d106b-5f73-4b4c-828b-60ec5748f3f4' class='xr-var-attrs-in' type='checkbox' ><label for='attrs-431d106b-5f73-4b4c-828b-60ec5748f3f4' title='Show/Hide attributes'><svg class='icon xr-icon-file-text2'><use xlink:href='#icon-file-text2'></use></svg></label><input id='data-6dd02398-d97d-4d51-8427-9c0222e28329' class='xr-var-data-in' type='checkbox'><label for='data-6dd02398-d97d-4d51-8427-9c0222e28329' title='Show/Hide data repr'><svg class='icon xr-icon-database'><use xlink:href='#icon-database'></use></svg></label><div class='xr-var-attrs'><dl class='xr-attrs'><dt><span>axis :</span></dt><dd>Z</dd><dt><span>units :</span></dt><dd>hPa</dd><dt><span>long_name :</span></dt><dd>pressure</dd></dl></div><div class='xr-var-data'><pre>array([   1.,    5.,   10.,   20.,   30.,   50.,   70.,  100.,  150.,  200.,\n",
       "        250.,  300.,  400.,  500.,  600.,  700.,  750.,  800.,  850.,  875.,\n",
       "        900.,  925.,  950.,  975., 1000.], dtype=float32)</pre></div></li><li class='xr-var-item'><div class='xr-var-name'><span class='xr-has-index'>latitude</span></div><div class='xr-var-dims'>(latitude)</div><div class='xr-var-dtype'>float32</div><div class='xr-var-preview xr-preview'>-90.0 -89.95 -89.91 ... 89.95 90.0</div><input id='attrs-d03409e5-5dfe-49fd-a286-6cd7f202fbb4' class='xr-var-attrs-in' type='checkbox' ><label for='attrs-d03409e5-5dfe-49fd-a286-6cd7f202fbb4' title='Show/Hide attributes'><svg class='icon xr-icon-file-text2'><use xlink:href='#icon-file-text2'></use></svg></label><input id='data-b3a6bb1b-58e9-491c-9c3c-ff66da6c3760' class='xr-var-data-in' type='checkbox'><label for='data-b3a6bb1b-58e9-491c-9c3c-ff66da6c3760' title='Show/Hide data repr'><svg class='icon xr-icon-database'><use xlink:href='#icon-database'></use></svg></label><div class='xr-var-attrs'><dl class='xr-attrs'><dt><span>axis :</span></dt><dd>Y</dd><dt><span>units :</span></dt><dd>degrees_north</dd><dt><span>standard_name :</span></dt><dd>latitude</dd></dl></div><div class='xr-var-data'><pre>array([-90.      , -89.953125, -89.90625 , ...,  89.90625 ,  89.953125,\n",
       "        90.      ], dtype=float32)</pre></div></li><li class='xr-var-item'><div class='xr-var-name'><span class='xr-has-index'>longitude</span></div><div class='xr-var-dims'>(longitude)</div><div class='xr-var-dtype'>float32</div><div class='xr-var-preview xr-preview'>0.0 0.07031 0.1406 ... 359.9 359.9</div><input id='attrs-77365470-2c25-4394-83ff-a88c472b7fab' class='xr-var-attrs-in' type='checkbox' ><label for='attrs-77365470-2c25-4394-83ff-a88c472b7fab' title='Show/Hide attributes'><svg class='icon xr-icon-file-text2'><use xlink:href='#icon-file-text2'></use></svg></label><input id='data-5c34624a-6bb2-4773-ad83-11b0b904c704' class='xr-var-data-in' type='checkbox'><label for='data-5c34624a-6bb2-4773-ad83-11b0b904c704' title='Show/Hide data repr'><svg class='icon xr-icon-database'><use xlink:href='#icon-database'></use></svg></label><div class='xr-var-attrs'><dl class='xr-attrs'><dt><span>axis :</span></dt><dd>X</dd><dt><span>units :</span></dt><dd>degrees_east</dd><dt><span>standard_name :</span></dt><dd>longitude</dd></dl></div><div class='xr-var-data'><pre>array([0.000000e+00, 7.031250e-02, 1.406250e-01, ..., 3.597891e+02,\n",
       "       3.598594e+02, 3.599297e+02], dtype=float32)</pre></div></li><li class='xr-var-item'><div class='xr-var-name'><span>forecast_period</span></div><div class='xr-var-dims'>(time)</div><div class='xr-var-dtype'>timedelta64[ns]</div><div class='xr-var-preview xr-preview'>...</div><input id='attrs-698af07a-dfa0-465f-a064-0568d765d15c' class='xr-var-attrs-in' type='checkbox' ><label for='attrs-698af07a-dfa0-465f-a064-0568d765d15c' title='Show/Hide attributes'><svg class='icon xr-icon-file-text2'><use xlink:href='#icon-file-text2'></use></svg></label><input id='data-0f0898ca-9ce7-4fb5-a312-bb8fa4752627' class='xr-var-data-in' type='checkbox'><label for='data-0f0898ca-9ce7-4fb5-a312-bb8fa4752627' title='Show/Hide data repr'><svg class='icon xr-icon-database'><use xlink:href='#icon-database'></use></svg></label><div class='xr-var-attrs'><dl class='xr-attrs'><dt><span>standard_name :</span></dt><dd>forecast_period</dd></dl></div><div class='xr-var-data'><pre>[5 values with dtype=timedelta64[ns]]</pre></div></li><li class='xr-var-item'><div class='xr-var-name'><span>forecast_reference_time</span></div><div class='xr-var-dims'>()</div><div class='xr-var-dtype'>datetime64[ns]</div><div class='xr-var-preview xr-preview'>...</div><input id='attrs-4b4e9f21-b075-49fd-9288-16f499b2a39f' class='xr-var-attrs-in' type='checkbox' ><label for='attrs-4b4e9f21-b075-49fd-9288-16f499b2a39f' title='Show/Hide attributes'><svg class='icon xr-icon-file-text2'><use xlink:href='#icon-file-text2'></use></svg></label><input id='data-68d72b4d-ec76-4c72-9e99-0dbe4fda4e18' class='xr-var-data-in' type='checkbox'><label for='data-68d72b4d-ec76-4c72-9e99-0dbe4fda4e18' title='Show/Hide data repr'><svg class='icon xr-icon-database'><use xlink:href='#icon-database'></use></svg></label><div class='xr-var-attrs'><dl class='xr-attrs'><dt><span>standard_name :</span></dt><dd>forecast_reference_time</dd></dl></div><div class='xr-var-data'><pre>[1 values with dtype=datetime64[ns]]</pre></div></li><li class='xr-var-item'><div class='xr-var-name'><span class='xr-has-index'>latitude_0</span></div><div class='xr-var-dims'>(latitude_0)</div><div class='xr-var-dtype'>float32</div><div class='xr-var-preview xr-preview'>-89.98 -89.93 ... 89.93 89.98</div><input id='attrs-49f01aa3-4258-4b31-8bce-3ed9603ced8d' class='xr-var-attrs-in' type='checkbox' ><label for='attrs-49f01aa3-4258-4b31-8bce-3ed9603ced8d' title='Show/Hide attributes'><svg class='icon xr-icon-file-text2'><use xlink:href='#icon-file-text2'></use></svg></label><input id='data-79711565-6926-424d-9412-3c6bd8ea589e' class='xr-var-data-in' type='checkbox'><label for='data-79711565-6926-424d-9412-3c6bd8ea589e' title='Show/Hide data repr'><svg class='icon xr-icon-database'><use xlink:href='#icon-database'></use></svg></label><div class='xr-var-attrs'><dl class='xr-attrs'><dt><span>axis :</span></dt><dd>Y</dd><dt><span>units :</span></dt><dd>degrees_north</dd><dt><span>standard_name :</span></dt><dd>latitude</dd></dl></div><div class='xr-var-data'><pre>array([-89.97656, -89.92969, -89.88281, ...,  89.88281,  89.92969,  89.97656],\n",
       "      dtype=float32)</pre></div></li><li class='xr-var-item'><div class='xr-var-name'><span class='xr-has-index'>longitude_0</span></div><div class='xr-var-dims'>(longitude_0)</div><div class='xr-var-dtype'>float32</div><div class='xr-var-preview xr-preview'>0.03516 0.1055 ... 359.9 360.0</div><input id='attrs-ba374906-2844-408a-8f8a-3b6cd02c8ad9' class='xr-var-attrs-in' type='checkbox' ><label for='attrs-ba374906-2844-408a-8f8a-3b6cd02c8ad9' title='Show/Hide attributes'><svg class='icon xr-icon-file-text2'><use xlink:href='#icon-file-text2'></use></svg></label><input id='data-7884a422-4311-4921-8145-c29831841fc8' class='xr-var-data-in' type='checkbox'><label for='data-7884a422-4311-4921-8145-c29831841fc8' title='Show/Hide data repr'><svg class='icon xr-icon-database'><use xlink:href='#icon-database'></use></svg></label><div class='xr-var-attrs'><dl class='xr-attrs'><dt><span>axis :</span></dt><dd>X</dd><dt><span>units :</span></dt><dd>degrees_east</dd><dt><span>standard_name :</span></dt><dd>longitude</dd></dl></div><div class='xr-var-data'><pre>array([3.515625e-02, 1.054688e-01, 1.757812e-01, ..., 3.598242e+02,\n",
       "       3.598945e+02, 3.599648e+02], dtype=float32)</pre></div></li><li class='xr-var-item'><div class='xr-var-name'><span class='xr-has-index'>time_0</span></div><div class='xr-var-dims'>(time_0)</div><div class='xr-var-dtype'>datetime64[ns]</div><div class='xr-var-preview xr-preview'>2020-01-20T03:00:00 ... 2020-01-...</div><input id='attrs-0e466aca-2061-48ed-b30c-59a4a8b9aad7' class='xr-var-attrs-in' type='checkbox' ><label for='attrs-0e466aca-2061-48ed-b30c-59a4a8b9aad7' title='Show/Hide attributes'><svg class='icon xr-icon-file-text2'><use xlink:href='#icon-file-text2'></use></svg></label><input id='data-edf7b558-28ac-42e3-9915-8022b8c4778a' class='xr-var-data-in' type='checkbox'><label for='data-edf7b558-28ac-42e3-9915-8022b8c4778a' title='Show/Hide data repr'><svg class='icon xr-icon-database'><use xlink:href='#icon-database'></use></svg></label><div class='xr-var-attrs'><dl class='xr-attrs'><dt><span>axis :</span></dt><dd>T</dd><dt><span>standard_name :</span></dt><dd>time</dd></dl></div><div class='xr-var-data'><pre>array([&#x27;2020-01-20T03:00:00.000000000&#x27;, &#x27;2020-01-20T06:00:00.000000000&#x27;,\n",
       "       &#x27;2020-01-20T09:00:00.000000000&#x27;, &#x27;2020-01-20T12:00:00.000000000&#x27;],\n",
       "      dtype=&#x27;datetime64[ns]&#x27;)</pre></div></li></ul></div></li><li class='xr-section-item'><input id='section-8cae93ff-403e-40ea-9b8d-02f2e462ba03' class='xr-section-summary-in' type='checkbox'  checked><label for='section-8cae93ff-403e-40ea-9b8d-02f2e462ba03' class='xr-section-summary' >Data variables: <span>(12)</span></label><div class='xr-section-inline-details'></div><div class='xr-section-details'><ul class='xr-var-list'><li class='xr-var-item'><div class='xr-var-name'><span>x_wind</span></div><div class='xr-var-dims'>(time, pressure, latitude, longitude)</div><div class='xr-var-dtype'>float32</div><div class='xr-var-preview xr-preview'>...</div><input id='attrs-d7a69fae-f190-40c0-90d3-9c4984e38b84' class='xr-var-attrs-in' type='checkbox' ><label for='attrs-d7a69fae-f190-40c0-90d3-9c4984e38b84' title='Show/Hide attributes'><svg class='icon xr-icon-file-text2'><use xlink:href='#icon-file-text2'></use></svg></label><input id='data-37d245ce-458d-4dba-b745-eea1e9be49df' class='xr-var-data-in' type='checkbox'><label for='data-37d245ce-458d-4dba-b745-eea1e9be49df' title='Show/Hide data repr'><svg class='icon xr-icon-database'><use xlink:href='#icon-database'></use></svg></label><div class='xr-var-attrs'><dl class='xr-attrs'><dt><span>standard_name :</span></dt><dd>x_wind</dd><dt><span>units :</span></dt><dd>m s-1</dd><dt><span>um_stash_source :</span></dt><dd>m01s15i201</dd><dt><span>grid_mapping :</span></dt><dd>latitude_longitude</dd></dl></div><div class='xr-var-data'><pre>[2458240000 values with dtype=float32]</pre></div></li><li class='xr-var-item'><div class='xr-var-name'><span>latitude_longitude</span></div><div class='xr-var-dims'>()</div><div class='xr-var-dtype'>int32</div><div class='xr-var-preview xr-preview'>...</div><input id='attrs-df05d162-a779-44e9-b046-93ba3462b257' class='xr-var-attrs-in' type='checkbox' ><label for='attrs-df05d162-a779-44e9-b046-93ba3462b257' title='Show/Hide attributes'><svg class='icon xr-icon-file-text2'><use xlink:href='#icon-file-text2'></use></svg></label><input id='data-fb561ad5-8f01-408d-8488-0656bd6fdb69' class='xr-var-data-in' type='checkbox'><label for='data-fb561ad5-8f01-408d-8488-0656bd6fdb69' title='Show/Hide data repr'><svg class='icon xr-icon-database'><use xlink:href='#icon-database'></use></svg></label><div class='xr-var-attrs'><dl class='xr-attrs'><dt><span>grid_mapping_name :</span></dt><dd>latitude_longitude</dd><dt><span>longitude_of_prime_meridian :</span></dt><dd>0.0</dd><dt><span>earth_radius :</span></dt><dd>6371229.0</dd></dl></div><div class='xr-var-data'><pre>[1 values with dtype=int32]</pre></div></li><li class='xr-var-item'><div class='xr-var-name'><span>geopotential_height</span></div><div class='xr-var-dims'>(time, pressure, latitude_0, longitude_0)</div><div class='xr-var-dtype'>float32</div><div class='xr-var-preview xr-preview'>...</div><input id='attrs-55b7277f-5a60-44ed-9a79-74ab9b93b29a' class='xr-var-attrs-in' type='checkbox' ><label for='attrs-55b7277f-5a60-44ed-9a79-74ab9b93b29a' title='Show/Hide attributes'><svg class='icon xr-icon-file-text2'><use xlink:href='#icon-file-text2'></use></svg></label><input id='data-adda167c-7c26-41a5-8561-291fed84ed3c' class='xr-var-data-in' type='checkbox'><label for='data-adda167c-7c26-41a5-8561-291fed84ed3c' title='Show/Hide data repr'><svg class='icon xr-icon-database'><use xlink:href='#icon-database'></use></svg></label><div class='xr-var-attrs'><dl class='xr-attrs'><dt><span>standard_name :</span></dt><dd>geopotential_height</dd><dt><span>units :</span></dt><dd>m</dd><dt><span>um_stash_source :</span></dt><dd>m01s16i202</dd><dt><span>grid_mapping :</span></dt><dd>latitude_longitude</dd></dl></div><div class='xr-var-data'><pre>[2457600000 values with dtype=float32]</pre></div></li><li class='xr-var-item'><div class='xr-var-name'><span>y_wind</span></div><div class='xr-var-dims'>(time, pressure, latitude, longitude)</div><div class='xr-var-dtype'>float32</div><div class='xr-var-preview xr-preview'>...</div><input id='attrs-cbcafbd3-b25d-4c36-bfe9-3aa632882049' class='xr-var-attrs-in' type='checkbox' ><label for='attrs-cbcafbd3-b25d-4c36-bfe9-3aa632882049' title='Show/Hide attributes'><svg class='icon xr-icon-file-text2'><use xlink:href='#icon-file-text2'></use></svg></label><input id='data-ee5ceed0-75ba-4b1e-b709-166f28efde1e' class='xr-var-data-in' type='checkbox'><label for='data-ee5ceed0-75ba-4b1e-b709-166f28efde1e' title='Show/Hide data repr'><svg class='icon xr-icon-database'><use xlink:href='#icon-database'></use></svg></label><div class='xr-var-attrs'><dl class='xr-attrs'><dt><span>standard_name :</span></dt><dd>y_wind</dd><dt><span>units :</span></dt><dd>m s-1</dd><dt><span>um_stash_source :</span></dt><dd>m01s15i202</dd><dt><span>grid_mapping :</span></dt><dd>latitude_longitude</dd></dl></div><div class='xr-var-data'><pre>[2458240000 values with dtype=float32]</pre></div></li><li class='xr-var-item'><div class='xr-var-name'><span>relative_humidity</span></div><div class='xr-var-dims'>(time, pressure, latitude_0, longitude_0)</div><div class='xr-var-dtype'>float32</div><div class='xr-var-preview xr-preview'>...</div><input id='attrs-b04ba322-5d9d-46e2-9491-40dd317bfe84' class='xr-var-attrs-in' type='checkbox' ><label for='attrs-b04ba322-5d9d-46e2-9491-40dd317bfe84' title='Show/Hide attributes'><svg class='icon xr-icon-file-text2'><use xlink:href='#icon-file-text2'></use></svg></label><input id='data-f5d9839c-f60e-474d-bdff-a541e1e9c094' class='xr-var-data-in' type='checkbox'><label for='data-f5d9839c-f60e-474d-bdff-a541e1e9c094' title='Show/Hide data repr'><svg class='icon xr-icon-database'><use xlink:href='#icon-database'></use></svg></label><div class='xr-var-attrs'><dl class='xr-attrs'><dt><span>standard_name :</span></dt><dd>relative_humidity</dd><dt><span>units :</span></dt><dd>%</dd><dt><span>um_stash_source :</span></dt><dd>m01s16i256</dd><dt><span>grid_mapping :</span></dt><dd>latitude_longitude</dd></dl></div><div class='xr-var-data'><pre>[2457600000 values with dtype=float32]</pre></div></li><li class='xr-var-item'><div class='xr-var-name'><span>specific_humidity</span></div><div class='xr-var-dims'>(time, pressure, latitude, longitude)</div><div class='xr-var-dtype'>float32</div><div class='xr-var-preview xr-preview'>...</div><input id='attrs-2d140eba-05fa-4a43-ad70-ad5e9ca80a76' class='xr-var-attrs-in' type='checkbox' ><label for='attrs-2d140eba-05fa-4a43-ad70-ad5e9ca80a76' title='Show/Hide attributes'><svg class='icon xr-icon-file-text2'><use xlink:href='#icon-file-text2'></use></svg></label><input id='data-cb1f25e6-b252-4ce4-af65-17c1119b3287' class='xr-var-data-in' type='checkbox'><label for='data-cb1f25e6-b252-4ce4-af65-17c1119b3287' title='Show/Hide data repr'><svg class='icon xr-icon-database'><use xlink:href='#icon-database'></use></svg></label><div class='xr-var-attrs'><dl class='xr-attrs'><dt><span>standard_name :</span></dt><dd>specific_humidity</dd><dt><span>units :</span></dt><dd>1</dd><dt><span>um_stash_source :</span></dt><dd>m01s30i205</dd><dt><span>grid_mapping :</span></dt><dd>latitude_longitude</dd></dl></div><div class='xr-var-data'><pre>[2458240000 values with dtype=float32]</pre></div></li><li class='xr-var-item'><div class='xr-var-name'><span>air_temperature</span></div><div class='xr-var-dims'>(time, pressure, latitude_0, longitude_0)</div><div class='xr-var-dtype'>float32</div><div class='xr-var-preview xr-preview'>...</div><input id='attrs-7c2f4f52-776f-4c9e-820d-f83d9995a18e' class='xr-var-attrs-in' type='checkbox' ><label for='attrs-7c2f4f52-776f-4c9e-820d-f83d9995a18e' title='Show/Hide attributes'><svg class='icon xr-icon-file-text2'><use xlink:href='#icon-file-text2'></use></svg></label><input id='data-c3812c41-d026-486a-885f-e24468f55d2c' class='xr-var-data-in' type='checkbox'><label for='data-c3812c41-d026-486a-885f-e24468f55d2c' title='Show/Hide data repr'><svg class='icon xr-icon-database'><use xlink:href='#icon-database'></use></svg></label><div class='xr-var-attrs'><dl class='xr-attrs'><dt><span>standard_name :</span></dt><dd>air_temperature</dd><dt><span>units :</span></dt><dd>K</dd><dt><span>um_stash_source :</span></dt><dd>m01s16i203</dd><dt><span>grid_mapping :</span></dt><dd>latitude_longitude</dd></dl></div><div class='xr-var-data'><pre>[2457600000 values with dtype=float32]</pre></div></li><li class='xr-var-item'><div class='xr-var-name'><span>mass_fraction_of_cloud_ice_in_air</span></div><div class='xr-var-dims'>(time_0, pressure, latitude_0, longitude_0)</div><div class='xr-var-dtype'>float32</div><div class='xr-var-preview xr-preview'>...</div><input id='attrs-80dc1914-b5d8-4696-9f54-f3cd61bc2aac' class='xr-var-attrs-in' type='checkbox' ><label for='attrs-80dc1914-b5d8-4696-9f54-f3cd61bc2aac' title='Show/Hide attributes'><svg class='icon xr-icon-file-text2'><use xlink:href='#icon-file-text2'></use></svg></label><input id='data-647c2ea7-115d-4f52-b173-98e6c2223664' class='xr-var-data-in' type='checkbox'><label for='data-647c2ea7-115d-4f52-b173-98e6c2223664' title='Show/Hide data repr'><svg class='icon xr-icon-database'><use xlink:href='#icon-database'></use></svg></label><div class='xr-var-attrs'><dl class='xr-attrs'><dt><span>long_name :</span></dt><dd>mass_fraction_of_cloud_ice_in_air</dd><dt><span>units :</span></dt><dd>kg kg-1</dd><dt><span>um_stash_source :</span></dt><dd>m01s00i012</dd><dt><span>grid_mapping :</span></dt><dd>latitude_longitude</dd></dl></div><div class='xr-var-data'><pre>[1966080000 values with dtype=float32]</pre></div></li><li class='xr-var-item'><div class='xr-var-name'><span>mass_fraction_of_cloud_liquid_water_in_air</span></div><div class='xr-var-dims'>(time_0, pressure, latitude_0, longitude_0)</div><div class='xr-var-dtype'>float32</div><div class='xr-var-preview xr-preview'>...</div><input id='attrs-8aef8faf-3201-4ba4-a690-7414d7168569' class='xr-var-attrs-in' type='checkbox' ><label for='attrs-8aef8faf-3201-4ba4-a690-7414d7168569' title='Show/Hide attributes'><svg class='icon xr-icon-file-text2'><use xlink:href='#icon-file-text2'></use></svg></label><input id='data-1b907f3f-662b-469d-9d77-9eda17e39701' class='xr-var-data-in' type='checkbox'><label for='data-1b907f3f-662b-469d-9d77-9eda17e39701' title='Show/Hide data repr'><svg class='icon xr-icon-database'><use xlink:href='#icon-database'></use></svg></label><div class='xr-var-attrs'><dl class='xr-attrs'><dt><span>long_name :</span></dt><dd>mass_fraction_of_cloud_liquid_water_in_air</dd><dt><span>units :</span></dt><dd>kg kg-1</dd><dt><span>um_stash_source :</span></dt><dd>m01s00i254</dd><dt><span>grid_mapping :</span></dt><dd>latitude_longitude</dd></dl></div><div class='xr-var-data'><pre>[1966080000 values with dtype=float32]</pre></div></li><li class='xr-var-item'><div class='xr-var-name'><span>mass_fraction_of_graupel_in_air</span></div><div class='xr-var-dims'>(time_0, pressure, latitude_0, longitude_0)</div><div class='xr-var-dtype'>float32</div><div class='xr-var-preview xr-preview'>...</div><input id='attrs-06e22f9a-44cc-4cb9-9d73-dce0c7f93bb3' class='xr-var-attrs-in' type='checkbox' ><label for='attrs-06e22f9a-44cc-4cb9-9d73-dce0c7f93bb3' title='Show/Hide attributes'><svg class='icon xr-icon-file-text2'><use xlink:href='#icon-file-text2'></use></svg></label><input id='data-60901ef4-6c14-4fef-972c-4bd974f87b5d' class='xr-var-data-in' type='checkbox'><label for='data-60901ef4-6c14-4fef-972c-4bd974f87b5d' title='Show/Hide data repr'><svg class='icon xr-icon-database'><use xlink:href='#icon-database'></use></svg></label><div class='xr-var-attrs'><dl class='xr-attrs'><dt><span>long_name :</span></dt><dd>mass_fraction_of_graupel_in_air</dd><dt><span>units :</span></dt><dd>kg kg-1</dd><dt><span>um_stash_source :</span></dt><dd>m01s00i273</dd><dt><span>grid_mapping :</span></dt><dd>latitude_longitude</dd></dl></div><div class='xr-var-data'><pre>[1966080000 values with dtype=float32]</pre></div></li><li class='xr-var-item'><div class='xr-var-name'><span>mass_fraction_of_rain_in_air</span></div><div class='xr-var-dims'>(time_0, pressure, latitude_0, longitude_0)</div><div class='xr-var-dtype'>float32</div><div class='xr-var-preview xr-preview'>...</div><input id='attrs-71142971-da60-48e0-bcd7-ac7a4d1419bc' class='xr-var-attrs-in' type='checkbox' ><label for='attrs-71142971-da60-48e0-bcd7-ac7a4d1419bc' title='Show/Hide attributes'><svg class='icon xr-icon-file-text2'><use xlink:href='#icon-file-text2'></use></svg></label><input id='data-fc8d1895-ec57-45ce-af68-b4dcdb316f04' class='xr-var-data-in' type='checkbox'><label for='data-fc8d1895-ec57-45ce-af68-b4dcdb316f04' title='Show/Hide data repr'><svg class='icon xr-icon-database'><use xlink:href='#icon-database'></use></svg></label><div class='xr-var-attrs'><dl class='xr-attrs'><dt><span>long_name :</span></dt><dd>mass_fraction_of_rain_in_air</dd><dt><span>units :</span></dt><dd>kg kg-1</dd><dt><span>um_stash_source :</span></dt><dd>m01s00i272</dd><dt><span>grid_mapping :</span></dt><dd>latitude_longitude</dd></dl></div><div class='xr-var-data'><pre>[1966080000 values with dtype=float32]</pre></div></li><li class='xr-var-item'><div class='xr-var-name'><span>mass_fraction_of_cloud_ice_crystals_in_air</span></div><div class='xr-var-dims'>(time_0, pressure, latitude_0, longitude_0)</div><div class='xr-var-dtype'>float32</div><div class='xr-var-preview xr-preview'>...</div><input id='attrs-ea4f0a24-f861-4f61-8c53-abcaf8cd4138' class='xr-var-attrs-in' type='checkbox' ><label for='attrs-ea4f0a24-f861-4f61-8c53-abcaf8cd4138' title='Show/Hide attributes'><svg class='icon xr-icon-file-text2'><use xlink:href='#icon-file-text2'></use></svg></label><input id='data-1de4a846-6a8e-4ddb-a73b-f89dff82417c' class='xr-var-data-in' type='checkbox'><label for='data-1de4a846-6a8e-4ddb-a73b-f89dff82417c' title='Show/Hide data repr'><svg class='icon xr-icon-database'><use xlink:href='#icon-database'></use></svg></label><div class='xr-var-attrs'><dl class='xr-attrs'><dt><span>long_name :</span></dt><dd>mass_fraction_of_cloud_ice_crystals_in_air</dd><dt><span>units :</span></dt><dd>kg kg-1</dd><dt><span>um_stash_source :</span></dt><dd>m01s00i271</dd><dt><span>grid_mapping :</span></dt><dd>latitude_longitude</dd></dl></div><div class='xr-var-data'><pre>[1966080000 values with dtype=float32]</pre></div></li></ul></div></li><li class='xr-section-item'><input id='section-b4fd29cf-5816-428b-b877-2ec680aaa866' class='xr-section-summary-in' type='checkbox'  ><label for='section-b4fd29cf-5816-428b-b877-2ec680aaa866' class='xr-section-summary' >Indexes: <span>(7)</span></label><div class='xr-section-inline-details'></div><div class='xr-section-details'><ul class='xr-var-list'><li class='xr-var-item'><div class='xr-index-name'><div>time</div></div><div class='xr-index-preview'>PandasIndex</div><input type='checkbox' disabled/><label></label><input id='index-8b8913de-4e3e-42b4-bd98-44943e01e5b4' class='xr-index-data-in' type='checkbox'/><label for='index-8b8913de-4e3e-42b4-bd98-44943e01e5b4' title='Show/Hide index repr'><svg class='icon xr-icon-database'><use xlink:href='#icon-database'></use></svg></label><div class='xr-index-data'><pre>PandasIndex(DatetimeIndex([&#x27;2020-01-20 00:00:00&#x27;, &#x27;2020-01-20 03:00:00&#x27;,\n",
       "               &#x27;2020-01-20 06:00:00&#x27;, &#x27;2020-01-20 09:00:00&#x27;,\n",
       "               &#x27;2020-01-20 12:00:00&#x27;],\n",
       "              dtype=&#x27;datetime64[ns]&#x27;, name=&#x27;time&#x27;, freq=None))</pre></div></li><li class='xr-var-item'><div class='xr-index-name'><div>pressure</div></div><div class='xr-index-preview'>PandasIndex</div><input type='checkbox' disabled/><label></label><input id='index-43bbcc75-b740-4618-987d-a3c5343349a4' class='xr-index-data-in' type='checkbox'/><label for='index-43bbcc75-b740-4618-987d-a3c5343349a4' title='Show/Hide index repr'><svg class='icon xr-icon-database'><use xlink:href='#icon-database'></use></svg></label><div class='xr-index-data'><pre>PandasIndex(Index([   1.0,    5.0,   10.0,   20.0,   30.0,   50.0,   70.0,  100.0,  150.0,\n",
       "        200.0,  250.0,  300.0,  400.0,  500.0,  600.0,  700.0,  750.0,  800.0,\n",
       "        850.0,  875.0,  900.0,  925.0,  950.0,  975.0, 1000.0],\n",
       "      dtype=&#x27;float32&#x27;, name=&#x27;pressure&#x27;))</pre></div></li><li class='xr-var-item'><div class='xr-index-name'><div>latitude</div></div><div class='xr-index-preview'>PandasIndex</div><input type='checkbox' disabled/><label></label><input id='index-67207b7d-9b89-4258-b55e-cfa19643e12f' class='xr-index-data-in' type='checkbox'/><label for='index-67207b7d-9b89-4258-b55e-cfa19643e12f' title='Show/Hide index repr'><svg class='icon xr-icon-database'><use xlink:href='#icon-database'></use></svg></label><div class='xr-index-data'><pre>PandasIndex(Index([     -90.0, -89.953125,  -89.90625, -89.859375,   -89.8125, -89.765625,\n",
       "        -89.71875, -89.671875,    -89.625, -89.578125,\n",
       "       ...\n",
       "        89.578125,     89.625,  89.671875,   89.71875,  89.765625,    89.8125,\n",
       "        89.859375,   89.90625,  89.953125,       90.0],\n",
       "      dtype=&#x27;float32&#x27;, name=&#x27;latitude&#x27;, length=3841))</pre></div></li><li class='xr-var-item'><div class='xr-index-name'><div>longitude</div></div><div class='xr-index-preview'>PandasIndex</div><input type='checkbox' disabled/><label></label><input id='index-b764dee3-4c2c-4afe-860c-73d5b3a02480' class='xr-index-data-in' type='checkbox'/><label for='index-b764dee3-4c2c-4afe-860c-73d5b3a02480' title='Show/Hide index repr'><svg class='icon xr-icon-database'><use xlink:href='#icon-database'></use></svg></label><div class='xr-index-data'><pre>PandasIndex(Index([        0.0,   0.0703125,    0.140625,   0.2109375,     0.28125,\n",
       "         0.3515625,    0.421875,   0.4921875,      0.5625,   0.6328125,\n",
       "       ...\n",
       "        359.296875, 359.3671875,    359.4375, 359.5078125,  359.578125,\n",
       "       359.6484375,   359.71875, 359.7890625,  359.859375, 359.9296875],\n",
       "      dtype=&#x27;float32&#x27;, name=&#x27;longitude&#x27;, length=5120))</pre></div></li><li class='xr-var-item'><div class='xr-index-name'><div>latitude_0</div></div><div class='xr-index-preview'>PandasIndex</div><input type='checkbox' disabled/><label></label><input id='index-e855715a-561c-4c17-a608-68c2f19f2d6d' class='xr-index-data-in' type='checkbox'/><label for='index-e855715a-561c-4c17-a608-68c2f19f2d6d' title='Show/Hide index repr'><svg class='icon xr-icon-database'><use xlink:href='#icon-database'></use></svg></label><div class='xr-index-data'><pre>PandasIndex(Index([-89.9765625, -89.9296875, -89.8828125, -89.8359375, -89.7890625,\n",
       "       -89.7421875, -89.6953125, -89.6484375, -89.6015625, -89.5546875,\n",
       "       ...\n",
       "        89.5546875,  89.6015625,  89.6484375,  89.6953125,  89.7421875,\n",
       "        89.7890625,  89.8359375,  89.8828125,  89.9296875,  89.9765625],\n",
       "      dtype=&#x27;float32&#x27;, name=&#x27;latitude_0&#x27;, length=3840))</pre></div></li><li class='xr-var-item'><div class='xr-index-name'><div>longitude_0</div></div><div class='xr-index-preview'>PandasIndex</div><input type='checkbox' disabled/><label></label><input id='index-3c0ef0be-1876-4b2f-aa69-390568e6efdf' class='xr-index-data-in' type='checkbox'/><label for='index-3c0ef0be-1876-4b2f-aa69-390568e6efdf' title='Show/Hide index repr'><svg class='icon xr-icon-database'><use xlink:href='#icon-database'></use></svg></label><div class='xr-index-data'><pre>PandasIndex(Index([  0.03515625,   0.10546875,   0.17578125,   0.24609375,   0.31640625,\n",
       "         0.38671875,   0.45703125,   0.52734375,   0.59765625,   0.66796875,\n",
       "       ...\n",
       "       359.33203125, 359.40234375, 359.47265625, 359.54296875, 359.61328125,\n",
       "       359.68359375, 359.75390625, 359.82421875, 359.89453125, 359.96484375],\n",
       "      dtype=&#x27;float32&#x27;, name=&#x27;longitude_0&#x27;, length=5120))</pre></div></li><li class='xr-var-item'><div class='xr-index-name'><div>time_0</div></div><div class='xr-index-preview'>PandasIndex</div><input type='checkbox' disabled/><label></label><input id='index-a22d806d-f0eb-4c4b-815f-aecf5617d8a6' class='xr-index-data-in' type='checkbox'/><label for='index-a22d806d-f0eb-4c4b-815f-aecf5617d8a6' title='Show/Hide index repr'><svg class='icon xr-icon-database'><use xlink:href='#icon-database'></use></svg></label><div class='xr-index-data'><pre>PandasIndex(DatetimeIndex([&#x27;2020-01-20 03:00:00&#x27;, &#x27;2020-01-20 06:00:00&#x27;,\n",
       "               &#x27;2020-01-20 09:00:00&#x27;, &#x27;2020-01-20 12:00:00&#x27;],\n",
       "              dtype=&#x27;datetime64[ns]&#x27;, name=&#x27;time_0&#x27;, freq=None))</pre></div></li></ul></div></li><li class='xr-section-item'><input id='section-2df23699-b937-4f88-b80c-a0223daa6b21' class='xr-section-summary-in' type='checkbox'  checked><label for='section-2df23699-b937-4f88-b80c-a0223daa6b21' class='xr-section-summary' >Attributes: <span>(3)</span></label><div class='xr-section-inline-details'></div><div class='xr-section-details'><dl class='xr-attrs'><dt><span>source :</span></dt><dd>Data from Met Office Unified Model</dd><dt><span>um_version :</span></dt><dd>13.5</dd><dt><span>Conventions :</span></dt><dd>CF-1.7</dd></dl></div></li></ul></div></div>"
      ],
      "text/plain": [
       "<xarray.Dataset> Size: 98GB\n",
       "Dimensions:                                     (time: 5, pressure: 25,\n",
       "                                                 latitude: 3841,\n",
       "                                                 longitude: 5120,\n",
       "                                                 latitude_0: 3840,\n",
       "                                                 longitude_0: 5120, time_0: 4)\n",
       "Coordinates:\n",
       "  * time                                        (time) datetime64[ns] 40B 202...\n",
       "  * pressure                                    (pressure) float32 100B 1.0 ....\n",
       "  * latitude                                    (latitude) float32 15kB -90.0...\n",
       "  * longitude                                   (longitude) float32 20kB 0.0 ...\n",
       "    forecast_period                             (time) timedelta64[ns] 40B ...\n",
       "    forecast_reference_time                     datetime64[ns] 8B ...\n",
       "  * latitude_0                                  (latitude_0) float32 15kB -89...\n",
       "  * longitude_0                                 (longitude_0) float32 20kB 0....\n",
       "  * time_0                                      (time_0) datetime64[ns] 32B 2...\n",
       "Data variables:\n",
       "    x_wind                                      (time, pressure, latitude, longitude) float32 10GB ...\n",
       "    latitude_longitude                          int32 4B ...\n",
       "    geopotential_height                         (time, pressure, latitude_0, longitude_0) float32 10GB ...\n",
       "    y_wind                                      (time, pressure, latitude, longitude) float32 10GB ...\n",
       "    relative_humidity                           (time, pressure, latitude_0, longitude_0) float32 10GB ...\n",
       "    specific_humidity                           (time, pressure, latitude, longitude) float32 10GB ...\n",
       "    air_temperature                             (time, pressure, latitude_0, longitude_0) float32 10GB ...\n",
       "    mass_fraction_of_cloud_ice_in_air           (time_0, pressure, latitude_0, longitude_0) float32 8GB ...\n",
       "    mass_fraction_of_cloud_liquid_water_in_air  (time_0, pressure, latitude_0, longitude_0) float32 8GB ...\n",
       "    mass_fraction_of_graupel_in_air             (time_0, pressure, latitude_0, longitude_0) float32 8GB ...\n",
       "    mass_fraction_of_rain_in_air                (time_0, pressure, latitude_0, longitude_0) float32 8GB ...\n",
       "    mass_fraction_of_cloud_ice_crystals_in_air  (time_0, pressure, latitude_0, longitude_0) float32 8GB ...\n",
       "Attributes:\n",
       "    source:       Data from Met Office Unified Model\n",
       "    um_version:   13.5\n",
       "    Conventions:  CF-1.7"
      ]
     },
     "execution_count": 6,
     "metadata": {},
     "output_type": "execute_result"
    }
   ],
   "source": [
    "ds"
   ]
  },
  {
   "cell_type": "code",
   "execution_count": null,
   "id": "81356204-e0ba-497b-91c2-be4459caeb82",
   "metadata": {},
   "outputs": [],
   "source": []
  },
  {
   "cell_type": "code",
   "execution_count": 4,
   "id": "d6345eca-4ce9-4c5a-81b0-d771fe3e701c",
   "metadata": {
    "execution": {
     "iopub.execute_input": "2025-03-20T21:24:45.841027Z",
     "iopub.status.busy": "2025-03-20T21:24:45.840368Z",
     "iopub.status.idle": "2025-03-20T21:24:45.848113Z",
     "shell.execute_reply": "2025-03-20T21:24:45.846112Z",
     "shell.execute_reply.started": "2025-03-20T21:24:45.840953Z"
    }
   },
   "outputs": [],
   "source": [
    "T = cubes[2]"
   ]
  },
  {
   "cell_type": "code",
   "execution_count": 5,
   "id": "ebe7da2d-864d-4e81-8222-b86fb92a624a",
   "metadata": {
    "execution": {
     "iopub.execute_input": "2025-03-20T21:24:52.180705Z",
     "iopub.status.busy": "2025-03-20T21:24:52.178988Z",
     "iopub.status.idle": "2025-03-20T21:24:54.686127Z",
     "shell.execute_reply": "2025-03-20T21:24:54.685527Z",
     "shell.execute_reply.started": "2025-03-20T21:24:52.180637Z"
    }
   },
   "outputs": [
    {
     "data": {
      "text/plain": [
       "dtype('float32')"
      ]
     },
     "execution_count": 5,
     "metadata": {},
     "output_type": "execute_result"
    }
   ],
   "source": [
    "T.data.dtype"
   ]
  },
  {
   "cell_type": "code",
   "execution_count": 7,
   "id": "6ef4f2b6-a9e4-47d2-a9cb-29c6d3c1ad66",
   "metadata": {
    "execution": {
     "iopub.execute_input": "2025-03-20T21:25:38.175353Z",
     "iopub.status.busy": "2025-03-20T21:25:38.174595Z",
     "iopub.status.idle": "2025-03-20T21:25:39.383478Z",
     "shell.execute_reply": "2025-03-20T21:25:39.382213Z",
     "shell.execute_reply.started": "2025-03-20T21:25:38.175301Z"
    }
   },
   "outputs": [
    {
     "name": "stderr",
     "output_type": "stream",
     "text": [
      "/home/users/mmuetz/miniforge3/envs/hackathon_env/lib/python3.12/site-packages/iris/fileformats/netcdf/saver.py:2668: IrisDeprecation: Saving to netcdf with legacy-style attribute handling for backwards compatibility.\n",
      "This mode is deprecated since Iris 3.8, and will eventually be removed.\n",
      "Please consider enabling the new split-attributes handling mode, by setting 'iris.FUTURE.save_split_attrs = True'.\n",
      "  warn_deprecated(message)\n"
     ]
    }
   ],
   "source": [
    "iris.save(T, 'T.nc')"
   ]
  },
  {
   "cell_type": "code",
   "execution_count": 9,
   "id": "2497b84c-e5f2-4fdc-b915-e182015e80f7",
   "metadata": {
    "execution": {
     "iopub.execute_input": "2025-03-20T21:26:01.846972Z",
     "iopub.status.busy": "2025-03-20T21:26:01.844638Z",
     "iopub.status.idle": "2025-03-20T21:26:01.866627Z",
     "shell.execute_reply": "2025-03-20T21:26:01.865768Z",
     "shell.execute_reply.started": "2025-03-20T21:26:01.846902Z"
    }
   },
   "outputs": [
    {
     "name": "stderr",
     "output_type": "stream",
     "text": [
      "/tmp/ipykernel_713/4195154850.py:1: FutureWarning: In a future version of xarray decode_timedelta will default to False rather than None. To silence this warning, set decode_timedelta to True, False, or a 'CFTimedeltaCoder' instance.\n",
      "  ds = xr.open_dataset('T.nc')\n"
     ]
    }
   ],
   "source": [
    "ds = xr.open_dataset('T.nc')"
   ]
  },
  {
   "cell_type": "code",
   "execution_count": 18,
   "id": "971f1553-a878-4c6a-9f0b-ddfecb2c276a",
   "metadata": {
    "execution": {
     "iopub.execute_input": "2025-03-20T21:29:48.357166Z",
     "iopub.status.busy": "2025-03-20T21:29:48.356385Z",
     "iopub.status.idle": "2025-03-20T21:29:50.419073Z",
     "shell.execute_reply": "2025-03-20T21:29:50.418503Z",
     "shell.execute_reply.started": "2025-03-20T21:29:48.357116Z"
    }
   },
   "outputs": [
    {
     "data": {
      "text/plain": [
       "np.float32(0.015625)"
      ]
     },
     "execution_count": 18,
     "metadata": {},
     "output_type": "execute_result"
    }
   ],
   "source": [
    "import numpy as np\n",
    "np.diff(np.sort(np.unique(ds.air_temperature.values))).min()"
   ]
  },
  {
   "cell_type": "code",
   "execution_count": 16,
   "id": "dc0f9f78-9045-41f3-80de-9578b11410b0",
   "metadata": {
    "execution": {
     "iopub.execute_input": "2025-03-20T21:28:04.269742Z",
     "iopub.status.busy": "2025-03-20T21:28:04.269019Z",
     "iopub.status.idle": "2025-03-20T21:28:04.279185Z",
     "shell.execute_reply": "2025-03-20T21:28:04.277986Z",
     "shell.execute_reply.started": "2025-03-20T21:28:04.269692Z"
    }
   },
   "outputs": [
    {
     "name": "stdout",
     "output_type": "stream",
     "text": [
      "air_temperature / (K)               (time: 13; latitude: 3840; longitude: 5120)\n",
      "    Dimension coordinates:\n",
      "        time                             x             -                -\n",
      "        latitude                         -             x                -\n",
      "        longitude                        -             -                x\n",
      "    Auxiliary coordinates:\n",
      "        forecast_period                  x             -                -\n",
      "    Scalar coordinates:\n",
      "        forecast_reference_time     2020-01-20 00:00:00\n",
      "        height                      1.5 m\n",
      "    Attributes:\n",
      "        STASH                       m01s03i236\n",
      "        source                      'Data from Met Office Unified Model'\n",
      "        um_version                  '13.5'\n"
     ]
    }
   ],
   "source": [
    "print(T)"
   ]
  },
  {
   "cell_type": "code",
   "execution_count": 19,
   "id": "32c0e9f3-c96a-4443-8859-833f66c63c85",
   "metadata": {
    "execution": {
     "iopub.execute_input": "2025-03-20T21:30:13.359339Z",
     "iopub.status.busy": "2025-03-20T21:30:13.358356Z",
     "iopub.status.idle": "2025-03-20T21:30:13.366969Z",
     "shell.execute_reply": "2025-03-20T21:30:13.365334Z",
     "shell.execute_reply.started": "2025-03-20T21:30:13.359286Z"
    }
   },
   "outputs": [
    {
     "data": {
      "text/plain": [
       "64.0"
      ]
     },
     "execution_count": 19,
     "metadata": {},
     "output_type": "execute_result"
    }
   ],
   "source": [
    "1 / 0.015625"
   ]
  },
  {
   "cell_type": "code",
   "execution_count": 20,
   "id": "55b8034e-c40f-42ab-8f07-c1fa7c479ee0",
   "metadata": {
    "execution": {
     "iopub.execute_input": "2025-03-20T21:31:53.597107Z",
     "iopub.status.busy": "2025-03-20T21:31:53.596337Z",
     "iopub.status.idle": "2025-03-20T21:31:53.647026Z",
     "shell.execute_reply": "2025-03-20T21:31:53.646041Z",
     "shell.execute_reply.started": "2025-03-20T21:31:53.597054Z"
    }
   },
   "outputs": [
    {
     "data": {
      "text/plain": [
       "\u001b[31mSignature:\u001b[39m iris.save(source, target, saver=\u001b[38;5;28;01mNone\u001b[39;00m, **kwargs)\n",
       "\u001b[31mDocstring:\u001b[39m\n",
       "Save one or more Cubes to file (or other writeable).\n",
       "\n",
       "Iris currently supports three file formats for saving, which it can\n",
       "recognise by filename extension:\n",
       "\n",
       "* **netCDF** - the Unidata network Common Data Format,\n",
       "  see :func:`iris.fileformats.netcdf.save`\n",
       "* **GRIB2** - the WMO GRIdded Binary data format,\n",
       "  see :func:`iris_grib.save_grib2`.\n",
       "* **PP** - the Met Office UM Post Processing Format,\n",
       "  see :func:`iris.fileformats.pp.save`\n",
       "\n",
       "A custom saver can be provided to the function to write to a different\n",
       "file format.\n",
       "\n",
       "Parameters\n",
       "----------\n",
       "source : :class:`iris.cube.Cube` or :class:`iris.cube.CubeList`\n",
       "target : str or pathlib.PurePath or io.TextIOWrapper\n",
       "    When given a filename or file, Iris can determine the\n",
       "    file format.\n",
       "saver : str or function, optional\n",
       "    Specifies the file format to save.\n",
       "    If omitted, Iris will attempt to determine the format.\n",
       "    If a string, this is the recognised filename extension\n",
       "    (where the actual filename may not have it).\n",
       "\n",
       "    Otherwise the value is a saver function, of the form:\n",
       "    ``my_saver(cube, target)`` plus any custom keywords. It\n",
       "    is assumed that a saver will accept an ``append`` keyword\n",
       "    if its file format can handle multiple cubes. See also\n",
       "    :func:`iris.io.add_saver`.\n",
       "**kwargs : dict, optional\n",
       "    All other keywords are passed through to the saver function; see the\n",
       "    relevant saver documentation for more information on keyword arguments.\n",
       "\n",
       "Warnings\n",
       "--------\n",
       "Saving a cube whose data has been loaded lazily\n",
       "(if `cube.has_lazy_data()` returns `True`) to the same file it expects\n",
       "to load data from will cause both the data in-memory and the data on\n",
       "disk to be lost.\n",
       "\n",
       ".. code-block:: python\n",
       "\n",
       "   cube = iris.load_cube(\"somefile.nc\")\n",
       "   # The next line causes data loss in 'somefile.nc' and the cube.\n",
       "   iris.save(cube, \"somefile.nc\")\n",
       "\n",
       "In general, overwriting a file which is the source for any lazily loaded\n",
       "data can result in corruption. Users should proceed with caution when\n",
       "attempting to overwrite an existing file.\n",
       "\n",
       "Examples\n",
       "--------\n",
       ">>> # Setting up\n",
       ">>> import iris\n",
       ">>> my_cube = iris.load_cube(iris.sample_data_path('air_temp.pp'))\n",
       ">>> my_cube_list = iris.load(iris.sample_data_path('space_weather.nc'))\n",
       "\n",
       ">>> # Save a cube to PP\n",
       ">>> iris.save(my_cube, \"myfile.pp\")\n",
       "\n",
       ">>> # Save a cube list to a PP file, appending to the contents of the file\n",
       ">>> # if it already exists\n",
       ">>> iris.save(my_cube_list, \"myfile.pp\", append=True)\n",
       "\n",
       ">>> # Save a cube to netCDF, defaults to NETCDF4 file format\n",
       ">>> iris.save(my_cube, \"myfile.nc\")\n",
       "\n",
       ">>> # Save a cube list to netCDF, using the NETCDF3_CLASSIC storage option\n",
       ">>> iris.save(my_cube_list, \"myfile.nc\", netcdf_format=\"NETCDF3_CLASSIC\")\n",
       "\n",
       "Notes\n",
       "-----\n",
       "This function maintains laziness when called; it does not realise data.\n",
       "See more at :doc:`/userguide/real_and_lazy_data`.\n",
       "\u001b[31mFile:\u001b[39m      ~/miniforge3/envs/hackathon_env/lib/python3.12/site-packages/iris/io/__init__.py\n",
       "\u001b[31mType:\u001b[39m      function"
      ]
     },
     "metadata": {},
     "output_type": "display_data"
    }
   ],
   "source": [
    "iris.save?"
   ]
  },
  {
   "cell_type": "code",
   "execution_count": 22,
   "id": "1b8cd5c7-8f47-4fa8-9973-d7a0d52fb2ea",
   "metadata": {
    "execution": {
     "iopub.execute_input": "2025-03-20T21:32:52.053259Z",
     "iopub.status.busy": "2025-03-20T21:32:52.052638Z",
     "iopub.status.idle": "2025-03-20T21:32:52.059044Z",
     "shell.execute_reply": "2025-03-20T21:32:52.057811Z",
     "shell.execute_reply.started": "2025-03-20T21:32:52.053208Z"
    }
   },
   "outputs": [],
   "source": [
    "import iris.fileformats.netcdf"
   ]
  },
  {
   "cell_type": "code",
   "execution_count": 23,
   "id": "82630bd8-c727-47f3-b01c-c0b3c9e0831e",
   "metadata": {
    "execution": {
     "iopub.execute_input": "2025-03-20T21:33:02.616340Z",
     "iopub.status.busy": "2025-03-20T21:33:02.615561Z",
     "iopub.status.idle": "2025-03-20T21:33:02.779469Z",
     "shell.execute_reply": "2025-03-20T21:33:02.778759Z",
     "shell.execute_reply.started": "2025-03-20T21:33:02.616290Z"
    }
   },
   "outputs": [
    {
     "data": {
      "text/plain": [
       "\u001b[31mSignature:\u001b[39m\n",
       "iris.fileformats.netcdf.save(\n",
       "    cube,\n",
       "    filename,\n",
       "    netcdf_format=\u001b[33m'NETCDF4'\u001b[39m,\n",
       "    local_keys=\u001b[38;5;28;01mNone\u001b[39;00m,\n",
       "    unlimited_dimensions=\u001b[38;5;28;01mNone\u001b[39;00m,\n",
       "    zlib=\u001b[38;5;28;01mFalse\u001b[39;00m,\n",
       "    complevel=\u001b[32m4\u001b[39m,\n",
       "    shuffle=\u001b[38;5;28;01mTrue\u001b[39;00m,\n",
       "    fletcher32=\u001b[38;5;28;01mFalse\u001b[39;00m,\n",
       "    contiguous=\u001b[38;5;28;01mFalse\u001b[39;00m,\n",
       "    chunksizes=\u001b[38;5;28;01mNone\u001b[39;00m,\n",
       "    endian=\u001b[33m'native'\u001b[39m,\n",
       "    least_significant_digit=\u001b[38;5;28;01mNone\u001b[39;00m,\n",
       "    packing=\u001b[38;5;28;01mNone\u001b[39;00m,\n",
       "    fill_value=\u001b[38;5;28;01mNone\u001b[39;00m,\n",
       "    compute=\u001b[38;5;28;01mTrue\u001b[39;00m,\n",
       ")\n",
       "\u001b[31mDocstring:\u001b[39m\n",
       "Save cube(s) to a netCDF file, given the cube and the filename.\n",
       "\n",
       "* Iris will write CF 1.7 compliant NetCDF files.\n",
       "* **If split-attribute saving is disabled**, i.e.\n",
       "  :data:`iris.FUTURE` ``.save_split_attrs`` is ``False``, then attributes\n",
       "  dictionaries on each cube in the saved cube list will be compared, and common\n",
       "  attributes saved as NetCDF global attributes where appropriate.\n",
       "\n",
       "  Or, **when split-attribute saving is enabled**, then ``cube.attributes.locals``\n",
       "  are always saved as attributes of data-variables, and ``cube.attributes.globals``\n",
       "  are saved as global (dataset) attributes, where possible.\n",
       "  Since the 2 types are now distinguished : see :class:`~iris.cube.CubeAttrsDict`.\n",
       "* Keyword arguments specifying how to save the data are applied\n",
       "  to each cube. To use different settings for different cubes, use\n",
       "  the NetCDF Context manager (:class:`~Saver`) directly.\n",
       "* The save process will stream the data payload to the file using dask,\n",
       "  enabling large data payloads to be saved and maintaining the 'lazy'\n",
       "  status of the cube's data payload, unless the netcdf_format is explicitly\n",
       "  specified to be 'NETCDF3' or 'NETCDF3_CLASSIC'.\n",
       "\n",
       "Parameters\n",
       "----------\n",
       "cube : :class:`iris.cube.Cube` or :class:`iris.cube.CubeList`\n",
       "    A :class:`iris.cube.Cube`, :class:`iris.cube.CubeList` or other\n",
       "    iterable of cubes to be saved to a netCDF file.\n",
       "filename : str\n",
       "    Name of the netCDF file to save the cube(s).\n",
       "    **Or** an open, writeable :class:`netCDF4.Dataset`, or compatible object.\n",
       "\n",
       "    .. note::\n",
       "        When saving to a dataset, ``compute`` **must** be ``False`` :\n",
       "        See the ``compute`` parameter.\n",
       "\n",
       "netcdf_format : str, default=\"NETCDF\"\n",
       "    Underlying netCDF file format, one of 'NETCDF4', 'NETCDF4_CLASSIC',\n",
       "    'NETCDF3_CLASSIC' or 'NETCDF3_64BIT'. Default is 'NETCDF4' format.\n",
       "local_keys : iterable of str, optional\n",
       "    An iterable of cube attribute keys. Any cube attributes with\n",
       "    matching keys will become attributes on the data variable rather\n",
       "    than global attributes.\n",
       "\n",
       "    .. note::\n",
       "        This is *ignored* if 'split-attribute saving' is **enabled**,\n",
       "        i.e. when ``iris.FUTURE.save_split_attrs`` is ``True``.\n",
       "\n",
       "unlimited_dimensions : iterable of str and/or :class:`iris.coords.Coord` objects, optional\n",
       "    List of coordinate names (or coordinate objects) corresponding\n",
       "    to coordinate dimensions of `cube` to save with the NetCDF dimension\n",
       "    variable length 'UNLIMITED'. By default, no unlimited dimensions are\n",
       "    saved. Only the 'NETCDF4' format supports multiple 'UNLIMITED'\n",
       "    dimensions.\n",
       "zlib : bool, default=False\n",
       "    If `True`, the data will be compressed in the netCDF file using gzip\n",
       "    compression (default `False`).\n",
       "complevel : int, default=4\n",
       "    An integer between 1 and 9 describing the level of compression desired\n",
       "    (default 4). Ignored if `zlib=False`.\n",
       "shuffle : bool, default=True\n",
       "    If `True`, the HDF5 shuffle filter will be applied before compressing\n",
       "    the data (default `True`). This significantly improves compression.\n",
       "    Ignored if `zlib=False`.\n",
       "fletcher32 : bool, default=False\n",
       "    If `True`, the Fletcher32 HDF5 checksum algorithm is activated to\n",
       "    detect errors. Default `False`.\n",
       "contiguous : bool, default=False\n",
       "    If `True`, the variable data is stored contiguously on disk. Default\n",
       "    `False`. Setting to `True` for a variable with an unlimited dimension\n",
       "    will trigger an error.\n",
       "chunksizes : tuple of int, optional\n",
       "    Used to manually specify the HDF5 chunksizes for each dimension of the\n",
       "    variable. A detailed discussion of HDF chunking and I/O performance is\n",
       "    available\n",
       "    `here <https://www.esrl.noaa.gov/psd/data/gridded/conventions/cdc_netcdf_standard.shtml>`__.\n",
       "    Basically, you want the chunk size for each dimension to match as\n",
       "    closely as possible the size of the data block that users will read\n",
       "    from the file. `chunksizes` cannot be set if `contiguous=True`.\n",
       "endian : str, default=\"native\"\n",
       "    Used to control whether the data is stored in little or big endian\n",
       "    format on disk. Possible values are 'little', 'big' or 'native'\n",
       "    (default). The library will automatically handle endian conversions\n",
       "    when the data is read, but if the data is always going to be read on a\n",
       "    computer with the opposite format as the one used to create the file,\n",
       "    there may be some performance advantage to be gained by setting the\n",
       "    endian-ness.\n",
       "least_significant_digit : int, optional\n",
       "    If `least_significant_digit` is specified, variable data will be\n",
       "    truncated (quantized). In conjunction with `zlib=True` this produces\n",
       "    'lossy', but significantly more efficient compression. For example, if\n",
       "    `least_significant_digit=1`, data will be quantized using\n",
       "    `numpy.around(scale*data)/scale`, where `scale = 2**bits`, and `bits`\n",
       "    is determined so that a precision of 0.1 is retained (in this case\n",
       "    `bits=4`). From\n",
       "\n",
       "    \"least_significant_digit -- power of ten of the smallest decimal place\n",
       "    in unpacked data that is a reliable value\". Default is `None`, or no\n",
       "    quantization, or 'lossless' compression.\n",
       "packing : type or str or dict or list, optional\n",
       "    A numpy integer datatype (signed or unsigned) or a string that\n",
       "    describes a numpy integer dtype (i.e. 'i2', 'short', 'u4') or a dict\n",
       "    of packing parameters as described below or an iterable of such types,\n",
       "    strings, or dicts. This provides support for netCDF data packing as\n",
       "    described in\n",
       "    `here <https://www.esrl.noaa.gov/psd/data/gridded/conventions/cdc_netcdf_standard.shtml>`__\n",
       "    If this argument is a type (or type string), appropriate values of\n",
       "    scale_factor and add_offset will be automatically calculated based\n",
       "    on `cube.data` and possible masking. For more control, pass a dict with\n",
       "    one or more of the following keys: `dtype` (required), `scale_factor`\n",
       "    and `add_offset`. Note that automatic calculation of packing parameters\n",
       "    will trigger loading of lazy data; set them manually using a dict to\n",
       "    avoid this. The default is `None`, in which case the datatype is\n",
       "    determined from the cube and no packing will occur. If this argument is\n",
       "    a list it must have the same number of elements as `cube` if `cube` is\n",
       "    a :class:`iris.cube.CubeList`, or one element, and each element of\n",
       "    this argument will be applied to each cube separately.\n",
       "fill_value : numeric or list, optional\n",
       "    The value to use for the `_FillValue` attribute on the netCDF variable.\n",
       "    If `packing` is specified the value of `fill_value` should be in the\n",
       "    domain of the packed data. If this argument is a list it must have the\n",
       "    same number of elements as `cube` if `cube` is a\n",
       "    :class:`iris.cube.CubeList`, or a single element, and each element of\n",
       "    this argument will be applied to each cube separately.\n",
       "compute : bool, default=True\n",
       "    Default is ``True``, meaning complete the file immediately, and return ``None``.\n",
       "\n",
       "    When ``False``, create the output file but don't write any lazy array content to\n",
       "    its variables, such as lazy cube data or aux-coord points and bounds.\n",
       "    Instead return a :class:`dask.delayed.Delayed` which, when computed, will\n",
       "    stream all the lazy content via :meth:`dask.store`, to complete the file.\n",
       "    Several such data saves can be performed in parallel, by passing a list of them\n",
       "    into a :func:`dask.compute` call.\n",
       "\n",
       "    .. note::\n",
       "        If saving to an open dataset instead of a filepath, then the caller\n",
       "        **must** specify ``compute=False``, and complete delayed saves **after\n",
       "        closing the dataset**.\n",
       "        This is because delayed saves may be performed in other processes : These\n",
       "        must (re-)open the dataset for writing, which will fail if the file is\n",
       "        still open for writing by the caller.\n",
       "\n",
       "Returns\n",
       "-------\n",
       "None or dask.delayed.Delayed\n",
       "    If `compute=True`, returns `None`.\n",
       "    Otherwise returns a :class:`dask.delayed.Delayed`, which implements delayed\n",
       "    writing to fill in the variables data.\n",
       "\n",
       "Notes\n",
       "-----\n",
       "The `zlib`, `complevel`, `shuffle`, `fletcher32`, `contiguous`,\n",
       "`chunksizes` and `endian` keywords are silently ignored for netCDF 3\n",
       "files that do not use HDF5.\n",
       "\u001b[31mFile:\u001b[39m      ~/miniforge3/envs/hackathon_env/lib/python3.12/site-packages/iris/fileformats/netcdf/saver.py\n",
       "\u001b[31mType:\u001b[39m      function"
      ]
     },
     "metadata": {},
     "output_type": "display_data"
    }
   ],
   "source": [
    "iris.fileformats.netcdf.save?"
   ]
  },
  {
   "cell_type": "code",
   "execution_count": null,
   "id": "2ebcb9bf-78a3-4ca6-bbfe-35d60f605c77",
   "metadata": {
    "execution": {
     "execution_failed": "2025-03-20T21:40:36.745Z",
     "iopub.execute_input": "2025-03-20T21:39:52.600640Z",
     "iopub.status.busy": "2025-03-20T21:39:52.600024Z"
    }
   },
   "outputs": [],
   "source": [
    "[c.data.dtype for c in cubes]"
   ]
  },
  {
   "cell_type": "code",
   "execution_count": 7,
   "id": "68c1d1f3-b880-4b92-94ad-c39000747d79",
   "metadata": {
    "execution": {
     "iopub.execute_input": "2025-03-20T21:54:10.869493Z",
     "iopub.status.busy": "2025-03-20T21:54:10.868647Z",
     "iopub.status.idle": "2025-03-20T21:54:10.874146Z",
     "shell.execute_reply": "2025-03-20T21:54:10.873167Z",
     "shell.execute_reply.started": "2025-03-20T21:54:10.869440Z"
    }
   },
   "outputs": [],
   "source": [
    "import dask.array"
   ]
  },
  {
   "cell_type": "code",
   "execution_count": 10,
   "id": "5ee9be2d-dd16-4110-845e-8175ab67820e",
   "metadata": {
    "execution": {
     "iopub.execute_input": "2025-03-20T21:54:42.115945Z",
     "iopub.status.busy": "2025-03-20T21:54:42.115176Z",
     "iopub.status.idle": "2025-03-20T21:54:42.132750Z",
     "shell.execute_reply": "2025-03-20T21:54:42.132029Z",
     "shell.execute_reply.started": "2025-03-20T21:54:42.115895Z"
    }
   },
   "outputs": [
    {
     "data": {
      "text/html": [
       "<table>\n",
       "    <tr>\n",
       "        <td>\n",
       "            <table style=\"border-collapse: collapse;\">\n",
       "                <thead>\n",
       "                    <tr>\n",
       "                        <td> </td>\n",
       "                        <th> Array </th>\n",
       "                        <th> Chunk </th>\n",
       "                    </tr>\n",
       "                </thead>\n",
       "                <tbody>\n",
       "                    \n",
       "                    <tr>\n",
       "                        <th> Bytes </th>\n",
       "                        <td> 3.91 kiB </td>\n",
       "                        <td> 3.91 kiB </td>\n",
       "                    </tr>\n",
       "                    \n",
       "                    <tr>\n",
       "                        <th> Shape </th>\n",
       "                        <td> (1000,) </td>\n",
       "                        <td> (1000,) </td>\n",
       "                    </tr>\n",
       "                    <tr>\n",
       "                        <th> Dask graph </th>\n",
       "                        <td colspan=\"2\"> 1 chunks in 1 graph layer </td>\n",
       "                    </tr>\n",
       "                    <tr>\n",
       "                        <th> Data type </th>\n",
       "                        <td colspan=\"2\"> float32 numpy.ndarray </td>\n",
       "                    </tr>\n",
       "                </tbody>\n",
       "            </table>\n",
       "        </td>\n",
       "        <td>\n",
       "        <svg width=\"170\" height=\"75\" style=\"stroke:rgb(0,0,0);stroke-width:1\" >\n",
       "\n",
       "  <!-- Horizontal lines -->\n",
       "  <line x1=\"0\" y1=\"0\" x2=\"120\" y2=\"0\" style=\"stroke-width:2\" />\n",
       "  <line x1=\"0\" y1=\"25\" x2=\"120\" y2=\"25\" style=\"stroke-width:2\" />\n",
       "\n",
       "  <!-- Vertical lines -->\n",
       "  <line x1=\"0\" y1=\"0\" x2=\"0\" y2=\"25\" style=\"stroke-width:2\" />\n",
       "  <line x1=\"120\" y1=\"0\" x2=\"120\" y2=\"25\" style=\"stroke-width:2\" />\n",
       "\n",
       "  <!-- Colored Rectangle -->\n",
       "  <polygon points=\"0.0,0.0 120.0,0.0 120.0,25.412616514582485 0.0,25.412616514582485\" style=\"fill:#ECB172A0;stroke-width:0\"/>\n",
       "\n",
       "  <!-- Text -->\n",
       "  <text x=\"60.000000\" y=\"45.412617\" font-size=\"1.0rem\" font-weight=\"100\" text-anchor=\"middle\" >1000</text>\n",
       "  <text x=\"140.000000\" y=\"12.706308\" font-size=\"1.0rem\" font-weight=\"100\" text-anchor=\"middle\" transform=\"rotate(0,140.000000,12.706308)\">1</text>\n",
       "</svg>\n",
       "        </td>\n",
       "    </tr>\n",
       "</table>"
      ],
      "text/plain": [
       "dask.array<zeros_like, shape=(1000,), dtype=float32, chunksize=(1000,), chunktype=numpy.ndarray>"
      ]
     },
     "execution_count": 10,
     "metadata": {},
     "output_type": "execute_result"
    }
   ],
   "source": [
    "import numpy as np\n",
    "dask.array.zeros(1000, dtype=np.float32)"
   ]
  },
  {
   "cell_type": "code",
   "execution_count": null,
   "id": "52f1cecd-4d51-48b3-a127-5a00676f95c6",
   "metadata": {},
   "outputs": [],
   "source": []
  }
 ],
 "metadata": {
  "kernelspec": {
   "display_name": "hackathon_env",
   "language": "python",
   "name": "hackathon_env"
  },
  "language_info": {
   "codemirror_mode": {
    "name": "ipython",
    "version": 3
   },
   "file_extension": ".py",
   "mimetype": "text/x-python",
   "name": "python",
   "nbconvert_exporter": "python",
   "pygments_lexer": "ipython3",
   "version": "3.12.9"
  }
 },
 "nbformat": 4,
 "nbformat_minor": 5
}
