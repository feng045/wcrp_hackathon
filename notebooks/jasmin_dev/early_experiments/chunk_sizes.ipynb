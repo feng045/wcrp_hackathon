{
 "cells": [
  {
   "cell_type": "code",
   "execution_count": 39,
   "id": "c901ce0d-5fa4-43fe-8f21-3619c37e460e",
   "metadata": {
    "execution": {
     "iopub.execute_input": "2025-03-31T13:01:02.179798Z",
     "iopub.status.busy": "2025-03-31T13:01:02.179077Z",
     "iopub.status.idle": "2025-03-31T13:01:02.185326Z",
     "shell.execute_reply": "2025-03-31T13:01:02.184128Z",
     "shell.execute_reply.started": "2025-03-31T13:01:02.179729Z"
    }
   },
   "outputs": [],
   "source": [
    "from math import prod\n",
    "#from tabulate import tabulate"
   ]
  },
  {
   "cell_type": "code",
   "execution_count": null,
   "id": "8b17b527-85e1-4516-934f-bb71e14276c9",
   "metadata": {
    "execution": {
     "iopub.execute_input": "2025-03-31T12:51:05.231053Z",
     "iopub.status.busy": "2025-03-31T12:51:05.229706Z",
     "iopub.status.idle": "2025-03-31T12:51:05.239235Z",
     "shell.execute_reply": "2025-03-31T12:51:05.237815Z",
     "shell.execute_reply.started": "2025-03-31T12:51:05.230975Z"
    }
   },
   "outputs": [],
   "source": [
    "zooms = range(11)[::-1]\n",
    "desired_chunk_size = 5e6\n",
    "for z in zooms:\n",
    "    npix = 12 * 4**z\n",
    "    spatial_chunk = 4**9\n",
    "    time_chunk = npix / spatial_chunk"
   ]
  },
  {
   "cell_type": "code",
   "execution_count": 2,
   "id": "63b95a2a-e9e3-49ae-8d08-ed81cc2b878f",
   "metadata": {
    "execution": {
     "iopub.execute_input": "2025-03-31T12:44:02.005524Z",
     "iopub.status.busy": "2025-03-31T12:44:02.004958Z",
     "iopub.status.idle": "2025-03-31T12:44:02.013957Z",
     "shell.execute_reply": "2025-03-31T12:44:02.012691Z",
     "shell.execute_reply.started": "2025-03-31T12:44:02.005470Z"
    }
   },
   "outputs": [
    {
     "data": {
      "text/plain": [
       "1048576"
      ]
     },
     "execution_count": 2,
     "metadata": {},
     "output_type": "execute_result"
    }
   ],
   "source": [
    "4**9 * 4"
   ]
  },
  {
   "cell_type": "code",
   "execution_count": 4,
   "id": "53196060-4e2d-417c-81e0-eda7711be1d9",
   "metadata": {
    "execution": {
     "iopub.execute_input": "2025-03-31T12:44:28.325868Z",
     "iopub.status.busy": "2025-03-31T12:44:28.325147Z",
     "iopub.status.idle": "2025-03-31T12:44:28.333106Z",
     "shell.execute_reply": "2025-03-31T12:44:28.332129Z",
     "shell.execute_reply.started": "2025-03-31T12:44:28.325817Z"
    }
   },
   "outputs": [
    {
     "data": {
      "text/plain": [
       "4.194304"
      ]
     },
     "execution_count": 4,
     "metadata": {},
     "output_type": "execute_result"
    }
   ],
   "source": [
    "4**10 * 4 / 1e6"
   ]
  },
  {
   "cell_type": "code",
   "execution_count": 5,
   "id": "116a8911-caa9-40cc-93e5-2e8a6664925a",
   "metadata": {
    "execution": {
     "iopub.execute_input": "2025-03-31T12:47:13.796756Z",
     "iopub.status.busy": "2025-03-31T12:47:13.795834Z",
     "iopub.status.idle": "2025-03-31T12:47:13.800583Z",
     "shell.execute_reply": "2025-03-31T12:47:13.799625Z",
     "shell.execute_reply.started": "2025-03-31T12:47:13.796710Z"
    }
   },
   "outputs": [],
   "source": [
    "chunks = {}"
   ]
  },
  {
   "cell_type": "code",
   "execution_count": 54,
   "id": "3d920491-3654-4587-89eb-05e4ea26774d",
   "metadata": {
    "execution": {
     "iopub.execute_input": "2025-03-31T13:08:51.635557Z",
     "iopub.status.busy": "2025-03-31T13:08:51.634605Z",
     "iopub.status.idle": "2025-03-31T13:08:51.642694Z",
     "shell.execute_reply": "2025-03-31T13:08:51.641561Z",
     "shell.execute_reply.started": "2025-03-31T13:08:51.635503Z"
    }
   },
   "outputs": [],
   "source": [
    "chunks2d = {\n",
    "    10: (1, 4**10),\n",
    "    9: (4, 4**9),\n",
    "    8: (4**2, 4**8),\n",
    "    7: (4**3, 4**7),\n",
    "    6: (4**3, 4**7),\n",
    "    5: (4**3, 12 * 4**5),\n",
    "    4: (4**4, 12 * 4**4),\n",
    "    3: (4**5, 12 * 4**3),\n",
    "    2: (4**6, 12 * 4**2),\n",
    "    1: (4**7, 12 * 4**1),\n",
    "    0: (4**8, 12 * 4**0),\n",
    "}    "
   ]
  },
  {
   "cell_type": "code",
   "execution_count": 55,
   "id": "4b65a3f7-5044-470d-9abb-9b58435c78b7",
   "metadata": {
    "execution": {
     "iopub.execute_input": "2025-03-31T13:08:52.033191Z",
     "iopub.status.busy": "2025-03-31T13:08:52.032461Z",
     "iopub.status.idle": "2025-03-31T13:08:52.041025Z",
     "shell.execute_reply": "2025-03-31T13:08:52.040016Z",
     "shell.execute_reply.started": "2025-03-31T13:08:52.033140Z"
    }
   },
   "outputs": [
    {
     "name": "stdout",
     "output_type": "stream",
     "text": [
      "10 (12582912): (1, 1048576), 12.0 4.00 MB\n",
      "9 (3145728): (4, 262144), 12.0 4.00 MB\n",
      "8 (786432): (16, 65536), 12.0 4.00 MB\n",
      "7 (196608): (64, 16384), 12.0 4.00 MB\n",
      "6 (49152): (64, 16384), 3.0 4.00 MB\n",
      "5 (12288): (64, 12288), 1.0 3.00 MB\n",
      "4 (3072): (256, 3072), 1.0 3.00 MB\n",
      "3 (768): (1024, 768), 1.0 3.00 MB\n",
      "2 (192): (4096, 192), 1.0 3.00 MB\n",
      "1 (48): (16384, 48), 1.0 3.00 MB\n",
      "0 (12): (65536, 12), 1.0 3.00 MB\n"
     ]
    }
   ],
   "source": [
    "for z, chunk in chunks2d.items():\n",
    "    npix = 12 * 4**z\n",
    "    nchunks_spatial = npix / chunk[-1]\n",
    "    size_MB = prod(chunk) * 4 / 2**20\n",
    "    print(f'{z} ({npix}): {chunk}, {nchunks_spatial} {size_MB:.2f} MB')"
   ]
  },
  {
   "cell_type": "code",
   "execution_count": 70,
   "id": "d2aa7ae0-2505-4f20-ae61-f1c1574b25f0",
   "metadata": {
    "execution": {
     "iopub.execute_input": "2025-03-31T13:18:14.839324Z",
     "iopub.status.busy": "2025-03-31T13:18:14.838882Z",
     "iopub.status.idle": "2025-03-31T13:18:14.844959Z",
     "shell.execute_reply": "2025-03-31T13:18:14.844096Z",
     "shell.execute_reply.started": "2025-03-31T13:18:14.839293Z"
    }
   },
   "outputs": [],
   "source": [
    "chunks3d = {\n",
    "    10: (1, 5, 4**9),\n",
    "    9: (4, 5, 4**8),\n",
    "    8: (4**2, 5, 4**7),\n",
    "    7: (4**3, 5, 4**6),\n",
    "    6: (4**3, 5, 4**6),\n",
    "    5: (4**3, 5, 12 * 4**4),\n",
    "    4: (4**3, 5, 12 * 4**4),\n",
    "    3: (4**4, 5, 12 * 4**3),\n",
    "    2: (4**4, 25, 12 * 4**2),\n",
    "    1: (4**5, 25, 12 * 4**1),\n",
    "    0: (4**6, 25, 12 * 4**0),\n",
    "}  "
   ]
  },
  {
   "cell_type": "code",
   "execution_count": 71,
   "id": "47485571-ea59-4bcd-b88f-452c934bdb00",
   "metadata": {
    "execution": {
     "iopub.execute_input": "2025-03-31T13:18:15.408046Z",
     "iopub.status.busy": "2025-03-31T13:18:15.407418Z",
     "iopub.status.idle": "2025-03-31T13:18:15.418466Z",
     "shell.execute_reply": "2025-03-31T13:18:15.416927Z",
     "shell.execute_reply.started": "2025-03-31T13:18:15.407992Z"
    }
   },
   "outputs": [
    {
     "name": "stdout",
     "output_type": "stream",
     "text": [
      "10 (12582912): (1, 5, 262144), 48.0 5.00 MB\n",
      "9 (3145728): (4, 5, 65536), 48.0 5.00 MB\n",
      "8 (786432): (16, 5, 16384), 48.0 5.00 MB\n",
      "7 (196608): (64, 5, 4096), 48.0 5.00 MB\n",
      "6 (49152): (64, 5, 4096), 12.0 5.00 MB\n",
      "5 (12288): (64, 5, 3072), 4.0 3.75 MB\n",
      "4 (3072): (64, 5, 3072), 1.0 3.75 MB\n",
      "3 (768): (256, 5, 768), 1.0 3.75 MB\n",
      "2 (192): (256, 25, 192), 1.0 4.69 MB\n",
      "1 (48): (1024, 25, 48), 1.0 4.69 MB\n",
      "0 (12): (4096, 25, 12), 1.0 4.69 MB\n"
     ]
    }
   ],
   "source": [
    "for z, chunk in chunks3d.items():\n",
    "    npix = 12 * 4**z\n",
    "    nchunks_spatial = npix / chunk[-1]\n",
    "    size_MB = prod(chunk) * 4 / 2**20\n",
    "    print(f'{z} ({npix}): {chunk}, {nchunks_spatial} {size_MB:.2f} MB')"
   ]
  },
  {
   "cell_type": "code",
   "execution_count": null,
   "id": "ef4f6324-4bbe-43bd-ba40-7b6ac8782131",
   "metadata": {},
   "outputs": [],
   "source": []
  }
 ],
 "metadata": {
  "kernelspec": {
   "display_name": "hackathon_env",
   "language": "python",
   "name": "hackathon_env"
  },
  "language_info": {
   "codemirror_mode": {
    "name": "ipython",
    "version": 3
   },
   "file_extension": ".py",
   "mimetype": "text/x-python",
   "name": "python",
   "nbconvert_exporter": "python",
   "pygments_lexer": "ipython3",
   "version": "3.12.9"
  }
 },
 "nbformat": 4,
 "nbformat_minor": 5
}
