{
 "cells": [
  {
   "cell_type": "code",
   "execution_count": 2,
   "id": "aac8a28b-2c52-47b8-a162-0812e96617be",
   "metadata": {
    "execution": {
     "iopub.execute_input": "2025-03-17T19:06:00.018666Z",
     "iopub.status.busy": "2025-03-17T19:06:00.018292Z",
     "iopub.status.idle": "2025-03-17T19:06:00.022741Z",
     "shell.execute_reply": "2025-03-17T19:06:00.022190Z",
     "shell.execute_reply.started": "2025-03-17T19:06:00.018640Z"
    }
   },
   "outputs": [
    {
     "data": {
      "text/plain": [
       "176.42857142857144"
      ]
     },
     "execution_count": 2,
     "metadata": {},
     "output_type": "execute_result"
    }
   ],
   "source": [
    "pl = 65 / 7\n",
    "ml = pl * 60 / 25\n",
    "pl * 7 + ml * 5"
   ]
  },
  {
   "cell_type": "code",
   "execution_count": null,
   "id": "b984184c-bff8-4761-8ce1-90918ecccea2",
   "metadata": {},
   "outputs": [],
   "source": []
  }
 ],
 "metadata": {
  "kernelspec": {
   "display_name": "hackathon_env",
   "language": "python",
   "name": "hackathon_env"
  },
  "language_info": {
   "codemirror_mode": {
    "name": "ipython",
    "version": 3
   },
   "file_extension": ".py",
   "mimetype": "text/x-python",
   "name": "python",
   "nbconvert_exporter": "python",
   "pygments_lexer": "ipython3",
   "version": "3.12.9"
  }
 },
 "nbformat": 4,
 "nbformat_minor": 5
}
