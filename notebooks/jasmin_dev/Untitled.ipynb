{
 "cells": [
  {
   "cell_type": "code",
   "execution_count": 1,
   "id": "f603a066-a203-4677-a4d5-aaaa07a9e336",
   "metadata": {
    "execution": {
     "iopub.execute_input": "2025-03-12T16:09:36.828797Z",
     "iopub.status.busy": "2025-03-12T16:09:36.828553Z",
     "iopub.status.idle": "2025-03-12T16:09:59.432760Z",
     "shell.execute_reply": "2025-03-12T16:09:59.432172Z",
     "shell.execute_reply.started": "2025-03-12T16:09:36.828775Z"
    }
   },
   "outputs": [],
   "source": [
    "import xarray as xr"
   ]
  },
  {
   "cell_type": "code",
   "execution_count": 2,
   "id": "fbc68b6c-1d69-4ee2-ab8a-4e0e81f55713",
   "metadata": {
    "execution": {
     "iopub.execute_input": "2025-03-12T16:09:59.434318Z",
     "iopub.status.busy": "2025-03-12T16:09:59.433880Z",
     "iopub.status.idle": "2025-03-12T16:10:32.714919Z",
     "shell.execute_reply": "2025-03-12T16:10:32.714329Z",
     "shell.execute_reply.started": "2025-03-12T16:09:59.434295Z"
    }
   },
   "outputs": [
    {
     "name": "stderr",
     "output_type": "stream",
     "text": [
      "/home/users/mmuetz/miniforge3/envs/hackathon_env/lib/python3.12/site-packages/pyproj/network.py:59: UserWarning: pyproj unable to set PROJ database path.\n",
      "  _set_context_ca_bundle_path(ca_bundle_path)\n",
      "/tmp/ipykernel_4750/274706201.py:1: FutureWarning: In a future version of xarray decode_timedelta will default to False rather than None. To silence this warning, set decode_timedelta to True, False, or a 'CFTimedeltaCoder' instance.\n",
      "  ds = xr.open_dataset('http://hackathon-o.s3.jc.rl.ac.uk/dwest77-test-0603/hpz8_a.z1.0.zarr', engine='zarr')\n"
     ]
    }
   ],
   "source": [
    "ds = xr.open_dataset('http://hackathon-o.s3.jc.rl.ac.uk/dwest77-test-0603/hpz8_a.z1.0.zarr', engine='zarr')"
   ]
  },
  {
   "cell_type": "code",
   "execution_count": null,
   "id": "926c8077-7226-4f53-9fd5-68c17868a6b5",
   "metadata": {
    "execution": {
     "iopub.status.busy": "2025-03-12T16:11:49.041034Z",
     "iopub.status.idle": "2025-03-12T16:11:49.041275Z",
     "shell.execute_reply": "2025-03-12T16:11:49.041167Z",
     "shell.execute_reply.started": "2025-03-12T16:11:49.041155Z"
    }
   },
   "outputs": [],
   "source": [
    "ds"
   ]
  },
  {
   "cell_type": "code",
   "execution_count": 3,
   "id": "9ff259a6-f622-462f-882a-37788e113348",
   "metadata": {
    "execution": {
     "iopub.execute_input": "2025-03-12T16:11:14.507995Z",
     "iopub.status.busy": "2025-03-12T16:11:14.507618Z",
     "iopub.status.idle": "2025-03-12T16:11:49.040499Z",
     "shell.execute_reply": "2025-03-12T16:11:49.039704Z",
     "shell.execute_reply.started": "2025-03-12T16:11:14.507971Z"
    }
   },
   "outputs": [
    {
     "ename": "AttributeError",
     "evalue": "type object 'Catalog' has no attribute 'from_url'",
     "output_type": "error",
     "traceback": [
      "\u001b[31m---------------------------------------------------------------------------\u001b[39m",
      "\u001b[31mAttributeError\u001b[39m                            Traceback (most recent call last)",
      "\u001b[36mCell\u001b[39m\u001b[36m \u001b[39m\u001b[32mIn[3]\u001b[39m\u001b[32m, line 3\u001b[39m\n\u001b[32m      1\u001b[39m \u001b[38;5;28;01mimport\u001b[39;00m\u001b[38;5;250m \u001b[39m\u001b[34;01mpystac\u001b[39;00m\n\u001b[32m----> \u001b[39m\u001b[32m3\u001b[39m cat = \u001b[43mpystac\u001b[49m\u001b[43m.\u001b[49m\u001b[43mCatalog\u001b[49m\u001b[43m.\u001b[49m\u001b[43mfrom_url\u001b[49m(\u001b[33m'\u001b[39m\u001b[33mhttps://radiantearth.github.io/stac-browser/#/external/api.stac.ceda.ac.uk/collections/wcrp\u001b[39m\u001b[33m'\u001b[39m)\n",
      "\u001b[31mAttributeError\u001b[39m: type object 'Catalog' has no attribute 'from_url'"
     ]
    }
   ],
   "source": [
    "import pystac\n",
    "\n",
    "cat = pystac.Catalog.from_url('https://radiantearth.github.io/stac-browser/#/external/api.stac.ceda.ac.uk/collections/wcrp')"
   ]
  },
  {
   "cell_type": "code",
   "execution_count": 4,
   "id": "514c0c49-e9e9-49bd-9290-df3119ff398e",
   "metadata": {
    "execution": {
     "iopub.execute_input": "2025-03-12T16:12:56.244104Z",
     "iopub.status.busy": "2025-03-12T16:12:56.243698Z",
     "iopub.status.idle": "2025-03-12T16:12:56.365918Z",
     "shell.execute_reply": "2025-03-12T16:12:56.365171Z",
     "shell.execute_reply.started": "2025-03-12T16:12:56.244078Z"
    }
   },
   "outputs": [
    {
     "ename": "ModuleNotFoundError",
     "evalue": "No module named 'pystac_client'",
     "output_type": "error",
     "traceback": [
      "\u001b[31m---------------------------------------------------------------------------\u001b[39m",
      "\u001b[31mModuleNotFoundError\u001b[39m                       Traceback (most recent call last)",
      "\u001b[36mCell\u001b[39m\u001b[36m \u001b[39m\u001b[32mIn[4]\u001b[39m\u001b[32m, line 1\u001b[39m\n\u001b[32m----> \u001b[39m\u001b[32m1\u001b[39m \u001b[38;5;28;01mfrom\u001b[39;00m\u001b[38;5;250m \u001b[39m\u001b[34;01mpystac_client\u001b[39;00m\u001b[38;5;250m \u001b[39m\u001b[38;5;28;01mimport\u001b[39;00m Client\n",
      "\u001b[31mModuleNotFoundError\u001b[39m: No module named 'pystac_client'"
     ]
    }
   ],
   "source": [
    "from pystac_client import Client"
   ]
  },
  {
   "cell_type": "code",
   "execution_count": null,
   "id": "c41cd4f1-2dcb-4f5d-895b-73ee68ad22fc",
   "metadata": {},
   "outputs": [],
   "source": []
  }
 ],
 "metadata": {
  "kernelspec": {
   "display_name": "hackathon_env",
   "language": "python",
   "name": "hackathon_env"
  },
  "language_info": {
   "codemirror_mode": {
    "name": "ipython",
    "version": 3
   },
   "file_extension": ".py",
   "mimetype": "text/x-python",
   "name": "python",
   "nbconvert_exporter": "python",
   "pygments_lexer": "ipython3",
   "version": "3.12.9"
  }
 },
 "nbformat": 4,
 "nbformat_minor": 5
}
