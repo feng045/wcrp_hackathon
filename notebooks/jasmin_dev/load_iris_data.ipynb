{
 "cells": [
  {
   "cell_type": "code",
   "execution_count": 1,
   "id": "98ee9b89-bdc7-4bc7-9f9c-f3a59a1286dd",
   "metadata": {
    "execution": {
     "iopub.execute_input": "2025-05-06T17:13:51.026874Z",
     "iopub.status.busy": "2025-05-06T17:13:51.026617Z",
     "iopub.status.idle": "2025-05-06T17:13:51.207120Z",
     "shell.execute_reply": "2025-05-06T17:13:51.206777Z",
     "shell.execute_reply.started": "2025-05-06T17:13:51.026862Z"
    }
   },
   "outputs": [],
   "source": [
    "import iris"
   ]
  },
  {
   "cell_type": "code",
   "execution_count": 2,
   "id": "9d852fbb-47e0-4e20-8cfa-fabaf3ffd034",
   "metadata": {
    "execution": {
     "iopub.execute_input": "2025-05-06T17:15:06.173377Z",
     "iopub.status.busy": "2025-05-06T17:15:06.173163Z",
     "iopub.status.idle": "2025-05-06T17:15:55.366856Z",
     "shell.execute_reply": "2025-05-06T17:15:55.366489Z",
     "shell.execute_reply.started": "2025-05-06T17:15:06.173365Z"
    }
   },
   "outputs": [
    {
     "name": "stderr",
     "output_type": "stream",
     "text": [
      "/home/users/mmuetz/miniforge3/envs/hackathon_env/lib/python3.12/site-packages/pyproj/network.py:59: UserWarning: pyproj unable to set PROJ database path.\n",
      "  _set_context_ca_bundle_path(ca_bundle_path)\n",
      "/home/users/mmuetz/miniforge3/envs/hackathon_env/lib/python3.12/site-packages/iris/fileformats/rules.py:371: IrisUserWarning: Unable to create instance of HybridHeightFactory. The source data contains no field(s) for 'orography'.\n",
      "  warnings.warn(\n"
     ]
    }
   ],
   "source": [
    "cubes_dict = {}\n",
    "for s in 'abcd':\n",
    "    print(s)\n",
    "    cubes_dict[s] = iris.load(f'/gws/nopw/j04/kscale/DYAMOND3_data/5km-RAL3/glm/field.pp/apver{s}.pp/glm.n2560_RAL3p3.apver{s}_20200120T00.pp')"
   ]
  },
  {
   "cell_type": "code",
   "execution_count": 9,
   "id": "459b8eb7-443c-4eb3-8df7-f3c18ff27909",
   "metadata": {
    "execution": {
     "iopub.execute_input": "2025-05-06T17:20:34.662476Z",
     "iopub.status.busy": "2025-05-06T17:20:34.661994Z",
     "iopub.status.idle": "2025-05-06T17:20:34.664162Z",
     "shell.execute_reply": "2025-05-06T17:20:34.663902Z",
     "shell.execute_reply.started": "2025-05-06T17:20:34.662461Z"
    }
   },
   "outputs": [],
   "source": [
    "c = cubes_dict['b'][20]"
   ]
  },
  {
   "cell_type": "code",
   "execution_count": 11,
   "id": "e8a924fa-8070-4e13-a2f0-335d274c3231",
   "metadata": {
    "execution": {
     "iopub.execute_input": "2025-05-06T17:20:49.296085Z",
     "iopub.status.busy": "2025-05-06T17:20:49.295910Z",
     "iopub.status.idle": "2025-05-06T17:20:49.298526Z",
     "shell.execute_reply": "2025-05-06T17:20:49.298274Z",
     "shell.execute_reply.started": "2025-05-06T17:20:49.296074Z"
    }
   },
   "outputs": [
    {
     "data": {
      "text/plain": [
       "CubeAttrsDict(globals={}, locals={'source': 'Data from Met Office Unified Model', 'um_version': '13.5', 'STASH': STASH(model=1, section=8, item=223)})"
      ]
     },
     "execution_count": 11,
     "metadata": {},
     "output_type": "execute_result"
    }
   ],
   "source": []
  },
  {
   "cell_type": "code",
   "execution_count": 17,
   "id": "e3fc9795-d6f8-49a6-8cb6-ab21d1974d9f",
   "metadata": {
    "execution": {
     "iopub.execute_input": "2025-05-06T17:23:26.171988Z",
     "iopub.status.busy": "2025-05-06T17:23:26.171724Z",
     "iopub.status.idle": "2025-05-06T17:23:33.114883Z",
     "shell.execute_reply": "2025-05-06T17:23:33.114569Z",
     "shell.execute_reply.started": "2025-05-06T17:23:26.171976Z"
    }
   },
   "outputs": [
    {
     "data": {
      "text/html": [
       "\n",
       "<style>\n",
       "    .accordion-140409827293168 {\n",
       "        color: var(--jp-ui-font-color2);\n",
       "        background: var(--jp-layout-color2);\n",
       "        cursor: pointer;\n",
       "        padding: 10px;\n",
       "        border: 1px solid var(--jp-border-color0);\n",
       "        width: 100%;\n",
       "        text-align: left;\n",
       "        font-size: 14px;\n",
       "        font-family: var(--jp-code-font-family);\n",
       "        font-weight: normal;\n",
       "        outline: none;\n",
       "        transition: 0.4s;\n",
       "    }\n",
       "    .active {\n",
       "        background: var(--jp-layout-color1);\n",
       "        font-weight: 900;\n",
       "    }\n",
       "    .accordion-140409827293168.active {\n",
       "        border: 1px solid var(--jp-brand-color1) !important;\n",
       "    }\n",
       "    .accordion-140409827293168:hover {\n",
       "        box-shadow: var(--jp-input-box-shadow);\n",
       "        border: 2px solid var(--jp-brand-color1);\n",
       "    }\n",
       "    .panel-140409827293168 {\n",
       "        padding: 0 18px;\n",
       "        margin-bottom: 5px;\n",
       "        background-color: var(--jp-layout-color1);\n",
       "        display: none;\n",
       "        overflow: hidden;\n",
       "        border: 1px solid var(--jp-brand-color2);\n",
       "    }\n",
       "</style>\n",
       "<script type=\"text/javascript\">\n",
       "    var accordion = document.getElementsByClassName(\"accordion-140409827293168\");\n",
       "    var i;\n",
       "\n",
       "    for (i = 0; i < accordion.length; i++) {\n",
       "        accordion[i].addEventListener(\"click\", function() {\n",
       "            this.classList.toggle(\"active\");\n",
       "\n",
       "            var panel = this.nextElementSibling;\n",
       "            if (panel.style.display === \"block\") {\n",
       "                panel.style.display = \"none\";\n",
       "            } else {\n",
       "                panel.style.display = \"block\";\n",
       "            }\n",
       "        });\n",
       "    }\n",
       "</script>\n",
       "\n",
       "<button class=\"accordion-140409827293168\">0: moisture_content_of_soil_layer / (kg m-2) (depth: 4; latitude: 3840; longitude: 5120)</button>\n",
       "<div class=\"panel-140409827293168\">\n",
       "    <p>\n",
       "<style>\n",
       "  a.iris {\n",
       "      text-decoration: none !important;\n",
       "  }\n",
       "  table.iris {\n",
       "      white-space: pre;\n",
       "      border: 1px solid;\n",
       "      border-color: #9c9c9c;\n",
       "      font-family: monaco, monospace;\n",
       "  }\n",
       "  th.iris {\n",
       "      background: #303f3f;\n",
       "      color: #e0e0e0;\n",
       "      border-left: 1px solid;\n",
       "      border-color: #9c9c9c;\n",
       "      font-size: 1.05em;\n",
       "      min-width: 50px;\n",
       "      max-width: 125px;\n",
       "  }\n",
       "  tr.iris :first-child {\n",
       "      border-right: 1px solid #9c9c9c !important;\n",
       "  }\n",
       "  td.iris-title {\n",
       "      background: #d5dcdf;\n",
       "      border-top: 1px solid #9c9c9c;\n",
       "      font-weight: bold;\n",
       "  }\n",
       "  .iris-word-cell {\n",
       "      text-align: left !important;\n",
       "      white-space: pre;\n",
       "  }\n",
       "  .iris-subheading-cell {\n",
       "      padding-left: 2em !important;\n",
       "  }\n",
       "  .iris-inclusion-cell {\n",
       "      padding-right: 1em !important;\n",
       "  }\n",
       "  .iris-panel-body {\n",
       "      padding-top: 0px;\n",
       "  }\n",
       "  .iris-panel-title {\n",
       "      padding-left: 3em;\n",
       "  }\n",
       "  .iris-panel-title {\n",
       "      margin-top: 7px;\n",
       "  }\n",
       "</style>\n",
       "<table class=\"iris\" id=\"140409813734448\">\n",
       "    <tr class=\"iris\">\n",
       "<th class=\"iris iris-word-cell\">Moisture Content Of Soil Layer (kg m-2)</th>\n",
       "<th class=\"iris iris-word-cell\">depth</th>\n",
       "<th class=\"iris iris-word-cell\">latitude</th>\n",
       "<th class=\"iris iris-word-cell\">longitude</th>\n",
       "</tr>\n",
       "    <tr class=\"iris\">\n",
       "<td class=\"iris-word-cell iris-subheading-cell\">Shape</td>\n",
       "<td class=\"iris iris-inclusion-cell\">4</td>\n",
       "<td class=\"iris iris-inclusion-cell\">3840</td>\n",
       "<td class=\"iris iris-inclusion-cell\">5120</td>\n",
       "</tr>\n",
       "    <tr class=\"iris\">\n",
       "    <td class=\"iris-title iris-word-cell\">Dimension coordinates</td>\n",
       "    <td class=\"iris-title\"></td>\n",
       "    <td class=\"iris-title\"></td>\n",
       "    <td class=\"iris-title\"></td>\n",
       "</tr>\n",
       "<tr class=\"iris\">\n",
       "    <td class=\"iris-word-cell iris-subheading-cell\">\tdepth</td>\n",
       "    <td class=\"iris-inclusion-cell\">x</td>\n",
       "    <td class=\"iris-inclusion-cell\">-</td>\n",
       "    <td class=\"iris-inclusion-cell\">-</td>\n",
       "</tr>\n",
       "<tr class=\"iris\">\n",
       "    <td class=\"iris-word-cell iris-subheading-cell\">\tlatitude</td>\n",
       "    <td class=\"iris-inclusion-cell\">-</td>\n",
       "    <td class=\"iris-inclusion-cell\">x</td>\n",
       "    <td class=\"iris-inclusion-cell\">-</td>\n",
       "</tr>\n",
       "<tr class=\"iris\">\n",
       "    <td class=\"iris-word-cell iris-subheading-cell\">\tlongitude</td>\n",
       "    <td class=\"iris-inclusion-cell\">-</td>\n",
       "    <td class=\"iris-inclusion-cell\">-</td>\n",
       "    <td class=\"iris-inclusion-cell\">x</td>\n",
       "</tr>\n",
       "<tr class=\"iris\">\n",
       "    <td class=\"iris-title iris-word-cell\">Scalar coordinates</td>\n",
       "    <td class=\"iris-title\"></td>\n",
       "    <td class=\"iris-title\"></td>\n",
       "    <td class=\"iris-title\"></td>\n",
       "</tr>\n",
       "<tr class=\"iris\">\n",
       "    <td class=\"iris-word-cell iris-subheading-cell\">\tforecast_period</td>\n",
       "    <td class=\"iris-word-cell\" colspan=\"3\">0.03333333332557231 hours</td>\n",
       "</tr>\n",
       "<tr class=\"iris\">\n",
       "    <td class=\"iris-word-cell iris-subheading-cell\">\tforecast_reference_time</td>\n",
       "    <td class=\"iris-word-cell\" colspan=\"3\">2020-01-22 00:00:00</td>\n",
       "</tr>\n",
       "<tr class=\"iris\">\n",
       "    <td class=\"iris-word-cell iris-subheading-cell\">\ttime</td>\n",
       "    <td class=\"iris-word-cell\" colspan=\"3\">2020-01-22 00:02:00</td>\n",
       "</tr>\n",
       "<tr class=\"iris\">\n",
       "    <td class=\"iris-title iris-word-cell\">Attributes</td>\n",
       "    <td class=\"iris-title\"></td>\n",
       "    <td class=\"iris-title\"></td>\n",
       "    <td class=\"iris-title\"></td>\n",
       "</tr>\n",
       "<tr class=\"iris\">\n",
       "    <td class=\"iris-word-cell iris-subheading-cell\">\tSTASH</td>\n",
       "    <td class=\"iris-word-cell\" colspan=\"3\">m01s08i223</td>\n",
       "</tr>\n",
       "<tr class=\"iris\">\n",
       "    <td class=\"iris-word-cell iris-subheading-cell\">\tsource</td>\n",
       "    <td class=\"iris-word-cell\" colspan=\"3\">&#x27;Data from Met Office Unified Model&#x27;</td>\n",
       "</tr>\n",
       "<tr class=\"iris\">\n",
       "    <td class=\"iris-word-cell iris-subheading-cell\">\tum_version</td>\n",
       "    <td class=\"iris-word-cell\" colspan=\"3\">&#x27;13.5&#x27;</td>\n",
       "</tr>\n",
       "</table>\n",
       "        </p>\n",
       "</div>\n",
       "    \n",
       "    "
      ],
      "text/plain": [
       "[<iris 'Cube' of moisture_content_of_soil_layer / (kg m-2) (depth: 4; latitude: 3840; longitude: 5120)>]"
      ]
     },
     "execution_count": 17,
     "metadata": {},
     "output_type": "execute_result"
    }
   ],
   "source": [
    "iris.load(f'/gws/nopw/j04/kscale/DYAMOND3_data/5km-RAL3/glm/field.pp/apverb.pp/glm.n2560_RAL3p3.apverb_20200122T00.pp').extract('moisture_content_of_soil_layer')"
   ]
  },
  {
   "cell_type": "code",
   "execution_count": null,
   "id": "6f2ccedf-4910-4f4e-ba42-9e188c67d43f",
   "metadata": {},
   "outputs": [],
   "source": []
  },
  {
   "cell_type": "code",
   "execution_count": null,
   "id": "26fd5339-26e0-400f-b4f5-c7252f812721",
   "metadata": {},
   "outputs": [],
   "source": []
  }
 ],
 "metadata": {
  "kernelspec": {
   "display_name": "hackathon_env",
   "language": "python",
   "name": "hackathon_env"
  },
  "language_info": {
   "codemirror_mode": {
    "name": "ipython",
    "version": 3
   },
   "file_extension": ".py",
   "mimetype": "text/x-python",
   "name": "python",
   "nbconvert_exporter": "python",
   "pygments_lexer": "ipython3",
   "version": "3.12.9"
  }
 },
 "nbformat": 4,
 "nbformat_minor": 5
}
