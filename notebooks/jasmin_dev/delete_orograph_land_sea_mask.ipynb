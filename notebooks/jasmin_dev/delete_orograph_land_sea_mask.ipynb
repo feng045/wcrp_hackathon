{
 "cells": [
  {
   "cell_type": "code",
   "execution_count": 1,
   "id": "191860ba-33ec-44b2-908c-5a6d07257e5e",
   "metadata": {
    "execution": {
     "iopub.execute_input": "2025-05-03T16:15:42.815944Z",
     "iopub.status.busy": "2025-05-03T16:15:42.815766Z",
     "iopub.status.idle": "2025-05-03T16:15:43.774563Z",
     "shell.execute_reply": "2025-05-03T16:15:43.774208Z",
     "shell.execute_reply.started": "2025-05-03T16:15:42.815932Z"
    }
   },
   "outputs": [],
   "source": [
    "from pathlib import Path\n",
    "\n",
    "import fsspec\n",
    "import s3fs\n",
    "import xarray as xr\n",
    "import zarr"
   ]
  },
  {
   "cell_type": "code",
   "execution_count": 2,
   "id": "5cd9c2d9-afd1-46b8-bbc1-92d9db5cc899",
   "metadata": {
    "execution": {
     "iopub.execute_input": "2025-05-03T16:15:43.775192Z",
     "iopub.status.busy": "2025-05-03T16:15:43.774945Z",
     "iopub.status.idle": "2025-05-03T16:15:43.777158Z",
     "shell.execute_reply": "2025-05-03T16:15:43.776905Z",
     "shell.execute_reply.started": "2025-05-03T16:15:43.775180Z"
    }
   },
   "outputs": [],
   "source": [
    "s3cfg = dict([l.split(' = ') for l in Path('/home/users/mmuetz/.s3cfg').read_text().split('\\n') if l])"
   ]
  },
  {
   "cell_type": "code",
   "execution_count": 3,
   "id": "ea111af1-cd75-4e93-b8b5-1eaba9de8cf6",
   "metadata": {
    "execution": {
     "iopub.execute_input": "2025-05-03T16:15:43.777692Z",
     "iopub.status.busy": "2025-05-03T16:15:43.777474Z",
     "iopub.status.idle": "2025-05-03T16:15:43.779793Z",
     "shell.execute_reply": "2025-05-03T16:15:43.779534Z",
     "shell.execute_reply.started": "2025-05-03T16:15:43.777682Z"
    }
   },
   "outputs": [],
   "source": [
    "# Internal access allowed in notebooks - no https and s3-ext.\n",
    "jasmin_s3 = s3fs.S3FileSystem(\n",
    "    anon=False, secret=s3cfg['secret_key'],\n",
    "    key=s3cfg['access_key'],\n",
    "    client_kwargs={'endpoint_url': 'http://hackathon-o.s3.jc.rl.ac.uk'}\n",
    ")\n",
    "#jasmin_s3.ls('sim-data')"
   ]
  },
  {
   "cell_type": "code",
   "execution_count": 4,
   "id": "11f99631-cb62-470f-a235-08778cfcae70",
   "metadata": {
    "execution": {
     "iopub.execute_input": "2025-05-03T16:15:43.780290Z",
     "iopub.status.busy": "2025-05-03T16:15:43.780108Z",
     "iopub.status.idle": "2025-05-03T16:15:43.781771Z",
     "shell.execute_reply": "2025-05-03T16:15:43.781519Z",
     "shell.execute_reply.started": "2025-05-03T16:15:43.780281Z"
    }
   },
   "outputs": [],
   "source": [
    "store_url = 's3://sim-data/dev/v5/glm.n1280_CoMA9/um.PT3H.hp_z0.zarr'"
   ]
  },
  {
   "cell_type": "code",
   "execution_count": 5,
   "id": "9968b467-2b6f-4618-b44e-cf38701ad33d",
   "metadata": {
    "execution": {
     "iopub.execute_input": "2025-05-03T16:15:43.782131Z",
     "iopub.status.busy": "2025-05-03T16:15:43.782046Z",
     "iopub.status.idle": "2025-05-03T16:15:43.783613Z",
     "shell.execute_reply": "2025-05-03T16:15:43.783360Z",
     "shell.execute_reply.started": "2025-05-03T16:15:43.782123Z"
    }
   },
   "outputs": [],
   "source": [
    "zarr_store = s3fs.S3Map(\n",
    "    root=store_url,\n",
    "    s3=jasmin_s3, check=False)"
   ]
  },
  {
   "cell_type": "code",
   "execution_count": null,
   "id": "472985a8-62a4-4890-839e-a03ad74ee18a",
   "metadata": {},
   "outputs": [],
   "source": []
  },
  {
   "cell_type": "code",
   "execution_count": 6,
   "id": "8a7c4360-74a6-438b-b9f4-ac228bdd9e34",
   "metadata": {
    "execution": {
     "iopub.execute_input": "2025-05-03T16:15:43.784452Z",
     "iopub.status.busy": "2025-05-03T16:15:43.784284Z",
     "iopub.status.idle": "2025-05-03T16:15:48.737971Z",
     "shell.execute_reply": "2025-05-03T16:15:48.737608Z",
     "shell.execute_reply.started": "2025-05-03T16:15:43.784443Z"
    }
   },
   "outputs": [],
   "source": [
    "root = zarr.open(zarr_store, mode=\"a\")"
   ]
  },
  {
   "cell_type": "code",
   "execution_count": 9,
   "id": "c342bbab-3b22-47cf-aeb9-3e37cbf60950",
   "metadata": {
    "execution": {
     "iopub.execute_input": "2025-05-03T16:16:41.565533Z",
     "iopub.status.busy": "2025-05-03T16:16:41.565271Z",
     "iopub.status.idle": "2025-05-03T16:16:44.620847Z",
     "shell.execute_reply": "2025-05-03T16:16:44.620521Z",
     "shell.execute_reply.started": "2025-05-03T16:16:41.565521Z"
    }
   },
   "outputs": [],
   "source": [
    "del root['orography']"
   ]
  },
  {
   "cell_type": "code",
   "execution_count": 11,
   "id": "18d311d7-fe29-4558-b7f5-55d8c7d08632",
   "metadata": {
    "execution": {
     "iopub.execute_input": "2025-05-03T16:20:31.638300Z",
     "iopub.status.busy": "2025-05-03T16:20:31.638044Z",
     "iopub.status.idle": "2025-05-03T16:20:33.620828Z",
     "shell.execute_reply": "2025-05-03T16:20:33.620497Z",
     "shell.execute_reply.started": "2025-05-03T16:20:31.638287Z"
    }
   },
   "outputs": [],
   "source": [
    "del root['land_sea_mask']"
   ]
  },
  {
   "cell_type": "code",
   "execution_count": 13,
   "id": "62638d90-3602-4f89-8c5d-51a52bfeccbe",
   "metadata": {
    "execution": {
     "iopub.execute_input": "2025-05-03T16:46:40.256117Z",
     "iopub.status.busy": "2025-05-03T16:46:40.255942Z",
     "iopub.status.idle": "2025-05-03T16:49:15.953017Z",
     "shell.execute_reply": "2025-05-03T16:49:15.952697Z",
     "shell.execute_reply.started": "2025-05-03T16:46:40.256105Z"
    }
   },
   "outputs": [
    {
     "name": "stdout",
     "output_type": "stream",
     "text": [
      "1 PT1H\n",
      "1 PT1H error\n",
      "1 PT1H error\n",
      "1 PT3H\n",
      "1 PT3H error\n",
      "1 PT3H error\n",
      "2 PT1H\n",
      "2 PT3H\n",
      "3 PT1H\n",
      "3 PT3H\n",
      "4 PT1H\n",
      "4 PT3H\n",
      "5 PT1H\n",
      "5 PT3H\n",
      "6 PT1H\n",
      "6 PT3H\n",
      "7 PT1H\n",
      "7 PT3H\n",
      "8 PT1H\n",
      "8 PT3H\n",
      "9 PT1H\n",
      "9 PT3H\n",
      "10 PT1H\n",
      "10 PT1H error\n",
      "10 PT1H error\n",
      "10 PT3H\n",
      "10 PT3H error\n",
      "10 PT3H error\n"
     ]
    }
   ],
   "source": [
    "for z in range(1, 11):\n",
    "    for t in ['PT1H', 'PT3H']:\n",
    "        print(z, t)\n",
    "        store_url = f's3://sim-data/dev/v5/glm.n1280_CoMA9/um.{t}.hp_z{z}.zarr'\n",
    "        zarr_store = s3fs.S3Map(\n",
    "            root=store_url,\n",
    "            s3=jasmin_s3, check=False)\n",
    "        root = zarr.open(zarr_store, mode=\"a\")\n",
    "        try:\n",
    "            del root['orog']\n",
    "        except KeyError:\n",
    "            print(z, t, 'error')\n",
    "        try:\n",
    "            del root['sftlf']\n",
    "        except KeyError:\n",
    "            print(z, t, 'error')\n",
    "        \n",
    "        "
   ]
  },
  {
   "cell_type": "code",
   "execution_count": null,
   "id": "c416c0fa-bf29-49ca-a2cf-93cd03caa91a",
   "metadata": {},
   "outputs": [],
   "source": []
  }
 ],
 "metadata": {
  "kernelspec": {
   "display_name": "hackathon_env",
   "language": "python",
   "name": "hackathon_env"
  },
  "language_info": {
   "codemirror_mode": {
    "name": "ipython",
    "version": 3
   },
   "file_extension": ".py",
   "mimetype": "text/x-python",
   "name": "python",
   "nbconvert_exporter": "python",
   "pygments_lexer": "ipython3",
   "version": "3.12.9"
  }
 },
 "nbformat": 4,
 "nbformat_minor": 5
}
