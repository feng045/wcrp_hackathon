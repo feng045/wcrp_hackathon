{
 "cells": [
  {
   "cell_type": "code",
   "execution_count": 2,
   "id": "93194230-8a10-4ca7-ae03-d583712acbe5",
   "metadata": {
    "execution": {
     "iopub.execute_input": "2025-03-21T22:53:30.924011Z",
     "iopub.status.busy": "2025-03-21T22:53:30.923142Z",
     "iopub.status.idle": "2025-03-21T22:53:34.938081Z",
     "shell.execute_reply": "2025-03-21T22:53:34.936683Z",
     "shell.execute_reply.started": "2025-03-21T22:53:30.923953Z"
    }
   },
   "outputs": [],
   "source": [
    "from pathlib import Path\n",
    "\n",
    "import dask\n",
    "import iris"
   ]
  },
  {
   "cell_type": "code",
   "execution_count": 3,
   "id": "70b04942-03d6-42cf-8d0d-ea806e56f143",
   "metadata": {
    "execution": {
     "iopub.execute_input": "2025-03-21T22:53:34.941360Z",
     "iopub.status.busy": "2025-03-21T22:53:34.940531Z",
     "iopub.status.idle": "2025-03-21T22:53:34.947384Z",
     "shell.execute_reply": "2025-03-21T22:53:34.945953Z",
     "shell.execute_reply.started": "2025-03-21T22:53:34.941307Z"
    }
   },
   "outputs": [],
   "source": [
    "basedir = Path('/gws/nopw/j04/kscale/DYAMOND3_example_data/sample_data_hirerarchy/5km-RAL3/glm/field.pp')"
   ]
  },
  {
   "cell_type": "code",
   "execution_count": 4,
   "id": "eba98c6c-8bbd-4a85-87ce-8972cc2ae9ba",
   "metadata": {
    "execution": {
     "iopub.execute_input": "2025-03-21T22:53:34.948490Z",
     "iopub.status.busy": "2025-03-21T22:53:34.948184Z",
     "iopub.status.idle": "2025-03-21T22:53:34.970096Z",
     "shell.execute_reply": "2025-03-21T22:53:34.969081Z",
     "shell.execute_reply.started": "2025-03-21T22:53:34.948463Z"
    }
   },
   "outputs": [
    {
     "data": {
      "text/plain": [
       "[PosixPath('/gws/nopw/j04/kscale/DYAMOND3_example_data/sample_data_hirerarchy/5km-RAL3/glm/field.pp/apvera.pp'),\n",
       " PosixPath('/gws/nopw/j04/kscale/DYAMOND3_example_data/sample_data_hirerarchy/5km-RAL3/glm/field.pp/apverb.pp'),\n",
       " PosixPath('/gws/nopw/j04/kscale/DYAMOND3_example_data/sample_data_hirerarchy/5km-RAL3/glm/field.pp/apverc.pp'),\n",
       " PosixPath('/gws/nopw/j04/kscale/DYAMOND3_example_data/sample_data_hirerarchy/5km-RAL3/glm/field.pp/apverd.pp')]"
      ]
     },
     "execution_count": 4,
     "metadata": {},
     "output_type": "execute_result"
    }
   ],
   "source": [
    "streams = sorted(basedir.glob('apver*.pp'))\n",
    "streams"
   ]
  },
  {
   "cell_type": "code",
   "execution_count": 5,
   "id": "fcd04ecb-8265-45fb-af1e-d7ba54412af4",
   "metadata": {
    "execution": {
     "iopub.execute_input": "2025-03-21T22:53:34.971884Z",
     "iopub.status.busy": "2025-03-21T22:53:34.971616Z",
     "iopub.status.idle": "2025-03-21T22:53:34.977536Z",
     "shell.execute_reply": "2025-03-21T22:53:34.976745Z",
     "shell.execute_reply.started": "2025-03-21T22:53:34.971860Z"
    }
   },
   "outputs": [
    {
     "data": {
      "text/plain": [
       "[PosixPath('/gws/nopw/j04/kscale/DYAMOND3_example_data/sample_data_hirerarchy/5km-RAL3/glm/field.pp/apvera.pp'),\n",
       " PosixPath('/gws/nopw/j04/kscale/DYAMOND3_example_data/sample_data_hirerarchy/5km-RAL3/glm/field.pp/apverb.pp'),\n",
       " PosixPath('/gws/nopw/j04/kscale/DYAMOND3_example_data/sample_data_hirerarchy/5km-RAL3/glm/field.pp/apverc.pp'),\n",
       " PosixPath('/gws/nopw/j04/kscale/DYAMOND3_example_data/sample_data_hirerarchy/5km-RAL3/glm/field.pp/apverd.pp')]"
      ]
     },
     "execution_count": 5,
     "metadata": {},
     "output_type": "execute_result"
    }
   ],
   "source": [
    "streams"
   ]
  },
  {
   "cell_type": "code",
   "execution_count": 6,
   "id": "40c41d65-464d-4806-9684-c6ac95da77c8",
   "metadata": {
    "execution": {
     "iopub.execute_input": "2025-03-21T22:53:34.978372Z",
     "iopub.status.busy": "2025-03-21T22:53:34.978179Z",
     "iopub.status.idle": "2025-03-21T22:53:35.025092Z",
     "shell.execute_reply": "2025-03-21T22:53:35.023682Z",
     "shell.execute_reply.started": "2025-03-21T22:53:34.978354Z"
    }
   },
   "outputs": [],
   "source": [
    "paths = [sorted(s.glob('*.pp'))[0] for s in streams]"
   ]
  },
  {
   "cell_type": "code",
   "execution_count": 7,
   "id": "607fa4a1-8ba4-40d7-8ea0-8bb4b6758692",
   "metadata": {
    "execution": {
     "iopub.execute_input": "2025-03-21T22:53:35.027310Z",
     "iopub.status.busy": "2025-03-21T22:53:35.026579Z",
     "iopub.status.idle": "2025-03-21T22:53:35.036465Z",
     "shell.execute_reply": "2025-03-21T22:53:35.035620Z",
     "shell.execute_reply.started": "2025-03-21T22:53:35.027261Z"
    }
   },
   "outputs": [
    {
     "data": {
      "text/plain": [
       "[PosixPath('/gws/nopw/j04/kscale/DYAMOND3_example_data/sample_data_hirerarchy/5km-RAL3/glm/field.pp/apvera.pp/glm.n2560_RAL3p3.apvera_20200120T00.pp'),\n",
       " PosixPath('/gws/nopw/j04/kscale/DYAMOND3_example_data/sample_data_hirerarchy/5km-RAL3/glm/field.pp/apverb.pp/glm.n2560_RAL3p3.apverb_20200120T00.pp'),\n",
       " PosixPath('/gws/nopw/j04/kscale/DYAMOND3_example_data/sample_data_hirerarchy/5km-RAL3/glm/field.pp/apverc.pp/glm.n2560_RAL3p3.apverc_20200120T00.pp'),\n",
       " PosixPath('/gws/nopw/j04/kscale/DYAMOND3_example_data/sample_data_hirerarchy/5km-RAL3/glm/field.pp/apverd.pp/glm.n2560_RAL3p3.apverd_20200120T00.pp')]"
      ]
     },
     "execution_count": 7,
     "metadata": {},
     "output_type": "execute_result"
    }
   ],
   "source": [
    "paths"
   ]
  },
  {
   "cell_type": "code",
   "execution_count": 8,
   "id": "4a258766-ab76-408a-a123-b373e3d03402",
   "metadata": {
    "execution": {
     "iopub.execute_input": "2025-03-21T22:53:35.038126Z",
     "iopub.status.busy": "2025-03-21T22:53:35.037463Z",
     "iopub.status.idle": "2025-03-21T22:53:35.041789Z",
     "shell.execute_reply": "2025-03-21T22:53:35.041272Z",
     "shell.execute_reply.started": "2025-03-21T22:53:35.038086Z"
    }
   },
   "outputs": [
    {
     "data": {
      "text/plain": [
       "[PosixPath('/gws/nopw/j04/kscale/DYAMOND3_example_data/sample_data_hirerarchy/5km-RAL3/glm/field.pp/apvera.pp/glm.n2560_RAL3p3.apvera_20200120T00.pp'),\n",
       " PosixPath('/gws/nopw/j04/kscale/DYAMOND3_example_data/sample_data_hirerarchy/5km-RAL3/glm/field.pp/apverb.pp/glm.n2560_RAL3p3.apverb_20200120T00.pp')]"
      ]
     },
     "execution_count": 8,
     "metadata": {},
     "output_type": "execute_result"
    }
   ],
   "source": [
    "paths[:2]"
   ]
  },
  {
   "cell_type": "code",
   "execution_count": 9,
   "id": "34e27343-1d1f-4d95-ad78-e4a1f06c3dc0",
   "metadata": {
    "execution": {
     "iopub.execute_input": "2025-03-21T22:53:35.701000Z",
     "iopub.status.busy": "2025-03-21T22:53:35.700086Z",
     "iopub.status.idle": "2025-03-21T22:53:58.476202Z",
     "shell.execute_reply": "2025-03-21T22:53:58.475067Z",
     "shell.execute_reply.started": "2025-03-21T22:53:35.700946Z"
    }
   },
   "outputs": [
    {
     "name": "stderr",
     "output_type": "stream",
     "text": [
      "/home/users/mmuetz/miniforge3/envs/hackathon_env/lib/python3.12/site-packages/pyproj/network.py:59: UserWarning: pyproj unable to set PROJ database path.\n",
      "  _set_context_ca_bundle_path(ca_bundle_path)\n"
     ]
    }
   ],
   "source": [
    "cubes = iris.load(paths[:2])"
   ]
  },
  {
   "cell_type": "code",
   "execution_count": 10,
   "id": "79c1a4ea-90d9-4bfa-9d3b-459f2bd09cb5",
   "metadata": {
    "execution": {
     "iopub.execute_input": "2025-03-21T22:54:13.612732Z",
     "iopub.status.busy": "2025-03-21T22:54:13.611534Z",
     "iopub.status.idle": "2025-03-21T22:54:13.620205Z",
     "shell.execute_reply": "2025-03-21T22:54:13.619053Z",
     "shell.execute_reply.started": "2025-03-21T22:54:13.612676Z"
    }
   },
   "outputs": [],
   "source": [
    "@dask.delayed\n",
    "def cube_sum(cube):\n",
    "    return cube.data.sum()"
   ]
  },
  {
   "cell_type": "code",
   "execution_count": 11,
   "id": "246f607f-6aa4-4dde-b56a-f4986f9f269a",
   "metadata": {
    "execution": {
     "iopub.execute_input": "2025-03-21T22:54:25.186113Z",
     "iopub.status.busy": "2025-03-21T22:54:25.185502Z",
     "iopub.status.idle": "2025-03-21T22:54:25.193261Z",
     "shell.execute_reply": "2025-03-21T22:54:25.191916Z",
     "shell.execute_reply.started": "2025-03-21T22:54:25.186062Z"
    }
   },
   "outputs": [],
   "source": [
    "res = [cube_sum(cube) for cube in cubes[:5]]\n"
   ]
  },
  {
   "cell_type": "code",
   "execution_count": 12,
   "id": "258723f0-fdb6-4a22-99d9-ad4caedf8995",
   "metadata": {
    "execution": {
     "iopub.execute_input": "2025-03-21T22:54:27.873712Z",
     "iopub.status.busy": "2025-03-21T22:54:27.872974Z",
     "iopub.status.idle": "2025-03-21T22:54:27.883141Z",
     "shell.execute_reply": "2025-03-21T22:54:27.881813Z",
     "shell.execute_reply.started": "2025-03-21T22:54:27.873660Z"
    }
   },
   "outputs": [
    {
     "data": {
      "text/plain": [
       "[Delayed('cube_sum-1c9e5ec6-9142-415e-816d-3611a3ed9ce8'),\n",
       " Delayed('cube_sum-1022d2d0-9134-4bd9-913b-e6917f7c7604'),\n",
       " Delayed('cube_sum-da646cfb-0f43-4cbc-99f4-ec7d3515e0b4'),\n",
       " Delayed('cube_sum-8df24387-ed40-4b65-8ebb-a0acc4e826f1'),\n",
       " Delayed('cube_sum-f81a3ee6-ef49-4c63-8119-48a05d3f1bfe')]"
      ]
     },
     "execution_count": 12,
     "metadata": {},
     "output_type": "execute_result"
    }
   ],
   "source": [
    "res"
   ]
  },
  {
   "cell_type": "code",
   "execution_count": 18,
   "id": "073c7778-2e61-4ee2-a52e-8f58d5e22fcc",
   "metadata": {
    "execution": {
     "iopub.execute_input": "2025-03-21T22:56:48.985503Z",
     "iopub.status.busy": "2025-03-21T22:56:48.984662Z",
     "iopub.status.idle": "2025-03-21T22:56:49.854097Z",
     "shell.execute_reply": "2025-03-21T22:56:49.853148Z",
     "shell.execute_reply.started": "2025-03-21T22:56:48.985448Z"
    }
   },
   "outputs": [
    {
     "data": {
      "text/plain": [
       "([np.float32(29897791000.0),\n",
       "  np.float32(3338188500.0),\n",
       "  np.float32(2519572000000.0),\n",
       "  np.float32(4763554000.0),\n",
       "  np.float32(8364943400.0)],)"
      ]
     },
     "execution_count": 18,
     "metadata": {},
     "output_type": "execute_result"
    }
   ],
   "source": [
    "dask.compute(res)"
   ]
  },
  {
   "cell_type": "code",
   "execution_count": 16,
   "id": "ace29d42-a5ff-4c93-9190-0d91ef437dc6",
   "metadata": {
    "execution": {
     "iopub.execute_input": "2025-03-21T22:56:10.125471Z",
     "iopub.status.busy": "2025-03-21T22:56:10.124878Z",
     "iopub.status.idle": "2025-03-21T22:56:14.238441Z",
     "shell.execute_reply": "2025-03-21T22:56:14.237580Z",
     "shell.execute_reply.started": "2025-03-21T22:56:10.125421Z"
    }
   },
   "outputs": [],
   "source": [
    "cubes2 = iris.load(paths[:2])"
   ]
  },
  {
   "cell_type": "code",
   "execution_count": 19,
   "id": "33806381-0f11-439c-8085-93a2900442fa",
   "metadata": {
    "execution": {
     "iopub.execute_input": "2025-03-21T22:56:56.149922Z",
     "iopub.status.busy": "2025-03-21T22:56:56.149465Z",
     "iopub.status.idle": "2025-03-21T22:56:57.522954Z",
     "shell.execute_reply": "2025-03-21T22:56:57.522305Z",
     "shell.execute_reply.started": "2025-03-21T22:56:56.149899Z"
    }
   },
   "outputs": [],
   "source": [
    "res2 = [c.data.sum() for c in cubes2[:5]]"
   ]
  },
  {
   "cell_type": "code",
   "execution_count": 15,
   "id": "b6db0ed3-92f9-4b0b-9695-9004910c28f5",
   "metadata": {
    "execution": {
     "iopub.execute_input": "2025-03-21T22:55:36.284867Z",
     "iopub.status.busy": "2025-03-21T22:55:36.284048Z",
     "iopub.status.idle": "2025-03-21T22:55:36.293217Z",
     "shell.execute_reply": "2025-03-21T22:55:36.291876Z",
     "shell.execute_reply.started": "2025-03-21T22:55:36.284816Z"
    }
   },
   "outputs": [
    {
     "data": {
      "text/plain": [
       "[np.float32(29897791000.0),\n",
       " np.float32(3338188500.0),\n",
       " np.float32(2519572000000.0),\n",
       " np.float32(4763554000.0),\n",
       " np.float32(8364943400.0)]"
      ]
     },
     "execution_count": 15,
     "metadata": {},
     "output_type": "execute_result"
    }
   ],
   "source": [
    "res2"
   ]
  },
  {
   "cell_type": "code",
   "execution_count": 28,
   "id": "92d55ac1-f0cb-4edb-b5ac-fa758b4960bd",
   "metadata": {
    "execution": {
     "iopub.execute_input": "2025-03-21T23:12:26.116159Z",
     "iopub.status.busy": "2025-03-21T23:12:26.114902Z",
     "iopub.status.idle": "2025-03-21T23:12:26.121674Z",
     "shell.execute_reply": "2025-03-21T23:12:26.120170Z",
     "shell.execute_reply.started": "2025-03-21T23:12:26.116096Z"
    }
   },
   "outputs": [],
   "source": [
    "import numpy as np\n",
    "import xarray as xr"
   ]
  },
  {
   "cell_type": "code",
   "execution_count": 20,
   "id": "a1eaa943-39f3-4759-9ed6-3d77e12379df",
   "metadata": {
    "execution": {
     "iopub.execute_input": "2025-03-21T23:04:38.973729Z",
     "iopub.status.busy": "2025-03-21T23:04:38.972422Z",
     "iopub.status.idle": "2025-03-21T23:04:38.978942Z",
     "shell.execute_reply": "2025-03-21T23:04:38.977808Z",
     "shell.execute_reply.started": "2025-03-21T23:04:38.973676Z"
    }
   },
   "outputs": [],
   "source": [
    "def model_level_to_pressure(cube):\n",
    "    return cube"
   ]
  },
  {
   "cell_type": "code",
   "execution_count": 21,
   "id": "29e27e84-3921-42b9-8bff-b6b1a2f64e58",
   "metadata": {
    "execution": {
     "iopub.execute_input": "2025-03-21T23:05:08.095941Z",
     "iopub.status.busy": "2025-03-21T23:05:08.095596Z",
     "iopub.status.idle": "2025-03-21T23:05:08.098727Z",
     "shell.execute_reply": "2025-03-21T23:05:08.098248Z",
     "shell.execute_reply.started": "2025-03-21T23:05:08.095918Z"
    }
   },
   "outputs": [],
   "source": [
    "def cube_to_da(cube):\n",
    "    return xr.DataArray.from_iris(cube)"
   ]
  },
  {
   "cell_type": "code",
   "execution_count": 36,
   "id": "2db04684-d1f7-461a-9462-59d70f35cd0a",
   "metadata": {
    "execution": {
     "iopub.execute_input": "2025-03-21T23:15:39.400237Z",
     "iopub.status.busy": "2025-03-21T23:15:39.399498Z",
     "iopub.status.idle": "2025-03-21T23:15:39.408592Z",
     "shell.execute_reply": "2025-03-21T23:15:39.407394Z",
     "shell.execute_reply.started": "2025-03-21T23:15:39.400184Z"
    }
   },
   "outputs": [],
   "source": [
    "def da_to_healpix(da):\n",
    "    rdims = list(da.dims[:-2])\n",
    "    coords = {d: da[d] for d in rdims}\n",
    "    shape = list(da.shape[:-2])\n",
    "    ncell = 12 * 4**5\n",
    "    ndata = np.zeros(shape + [ncell])\n",
    "    coords['cell'] = np.arange(ncell)\n",
    "    return xr.DataArray(ndata, dims=rdims + ['cell'], coords=coords, name=da.name, attrs=da.attrs)"
   ]
  },
  {
   "cell_type": "code",
   "execution_count": 33,
   "id": "97ef924a-4a0c-4c12-9a9f-98a37b4509c7",
   "metadata": {
    "execution": {
     "iopub.execute_input": "2025-03-21T23:13:30.098532Z",
     "iopub.status.busy": "2025-03-21T23:13:30.097423Z",
     "iopub.status.idle": "2025-03-21T23:13:30.103574Z",
     "shell.execute_reply": "2025-03-21T23:13:30.102506Z",
     "shell.execute_reply.started": "2025-03-21T23:13:30.098480Z"
    }
   },
   "outputs": [],
   "source": [
    "def write_to_zarr(da_hp):\n",
    "    print(da_hp)\n",
    "    return da_hp"
   ]
  },
  {
   "cell_type": "code",
   "execution_count": 38,
   "id": "b96bfed9-2d68-4d18-b014-b93e913e23f2",
   "metadata": {
    "execution": {
     "iopub.execute_input": "2025-03-21T23:17:25.626429Z",
     "iopub.status.busy": "2025-03-21T23:17:25.625724Z",
     "iopub.status.idle": "2025-03-21T23:17:25.639347Z",
     "shell.execute_reply": "2025-03-21T23:17:25.638256Z",
     "shell.execute_reply.started": "2025-03-21T23:17:25.626382Z"
    }
   },
   "outputs": [
    {
     "name": "stdout",
     "output_type": "stream",
     "text": [
      "m01s01i202\n",
      "m01s09i223\n",
      "m01s30i403\n",
      "m01s30i461\n",
      "m01s30i462\n"
     ]
    },
    {
     "data": {
      "text/plain": [
       "[Delayed('write_to_zarr-393e1c63-81a2-4553-bb92-ab57c8df9366'),\n",
       " Delayed('write_to_zarr-8a3cb3d8-d183-45c5-aff8-c441a64badfe'),\n",
       " Delayed('write_to_zarr-a7fb68dc-45bf-4264-a260-704bc5b8619d'),\n",
       " Delayed('write_to_zarr-4f8e2282-126d-40a6-ab10-171118c70fdc'),\n",
       " Delayed('write_to_zarr-eaee1a77-363d-47b3-a17b-4f7b09b1edfa')]"
      ]
     },
     "execution_count": 38,
     "metadata": {},
     "output_type": "execute_result"
    }
   ],
   "source": [
    "res = []\n",
    "for cube in cubes[:5]:\n",
    "    print(cube.name())\n",
    "    if cube == cubes[0]:\n",
    "        pcube = dask.delayed(model_level_to_pressure)(cube)\n",
    "    else:\n",
    "        pcube = cube\n",
    "    da = dask.delayed(cube_to_da)(pcube)\n",
    "    da_hp = dask.delayed(da_to_healpix)(da)\n",
    "    res.append(dask.delayed(write_to_zarr)(da_hp))\n",
    "res"
   ]
  },
  {
   "cell_type": "code",
   "execution_count": 39,
   "id": "26df97f1-a4a3-4bd7-8f56-b0593cb53a05",
   "metadata": {
    "execution": {
     "iopub.execute_input": "2025-03-21T23:17:56.788588Z",
     "iopub.status.busy": "2025-03-21T23:17:56.787595Z",
     "iopub.status.idle": "2025-03-21T23:17:57.430736Z",
     "shell.execute_reply": "2025-03-21T23:17:57.430024Z",
     "shell.execute_reply.started": "2025-03-21T23:17:56.788535Z"
    }
   },
   "outputs": [
    {
     "data": {
      "text/plain": [
       "([<xarray.DataArray (time: 13, cell: 12288)> Size: 1MB\n",
       "  array([[0., 0., 0., ..., 0., 0., 0.],\n",
       "         [0., 0., 0., ..., 0., 0., 0.],\n",
       "         [0., 0., 0., ..., 0., 0., 0.],\n",
       "         ...,\n",
       "         [0., 0., 0., ..., 0., 0., 0.],\n",
       "         [0., 0., 0., ..., 0., 0., 0.],\n",
       "         [0., 0., 0., ..., 0., 0., 0.]])\n",
       "  Coordinates:\n",
       "    * time     (time) datetime64[ns] 104B 2020-01-20T00:02:00 ... 2020-01-20T12...\n",
       "    * cell     (cell) int64 98kB 0 1 2 3 4 5 ... 12283 12284 12285 12286 12287\n",
       "  Attributes:\n",
       "      source:      Data from Met Office Unified Model\n",
       "      um_version:  13.5\n",
       "      STASH:       m01s01i202,\n",
       "  <xarray.DataArray (time: 12, cell: 12288)> Size: 1MB\n",
       "  array([[0., 0., 0., ..., 0., 0., 0.],\n",
       "         [0., 0., 0., ..., 0., 0., 0.],\n",
       "         [0., 0., 0., ..., 0., 0., 0.],\n",
       "         ...,\n",
       "         [0., 0., 0., ..., 0., 0., 0.],\n",
       "         [0., 0., 0., ..., 0., 0., 0.],\n",
       "         [0., 0., 0., ..., 0., 0., 0.]])\n",
       "  Coordinates:\n",
       "    * time     (time) datetime64[ns] 96B 2020-01-20T01:00:00 ... 2020-01-20T12:...\n",
       "    * cell     (cell) int64 98kB 0 1 2 3 4 5 ... 12283 12284 12285 12286 12287\n",
       "  Attributes:\n",
       "      source:      Data from Met Office Unified Model\n",
       "      um_version:  13.5\n",
       "      STASH:       m01s09i223,\n",
       "  <xarray.DataArray (time: 13, cell: 12288)> Size: 1MB\n",
       "  array([[0., 0., 0., ..., 0., 0., 0.],\n",
       "         [0., 0., 0., ..., 0., 0., 0.],\n",
       "         [0., 0., 0., ..., 0., 0., 0.],\n",
       "         ...,\n",
       "         [0., 0., 0., ..., 0., 0., 0.],\n",
       "         [0., 0., 0., ..., 0., 0., 0.],\n",
       "         [0., 0., 0., ..., 0., 0., 0.]])\n",
       "  Coordinates:\n",
       "    * time     (time) datetime64[ns] 104B 2020-01-20 ... 2020-01-20T12:00:00\n",
       "    * cell     (cell) int64 98kB 0 1 2 3 4 5 ... 12283 12284 12285 12286 12287\n",
       "  Attributes:\n",
       "      source:      Data from Met Office Unified Model\n",
       "      um_version:  13.5\n",
       "      STASH:       m01s30i403,\n",
       "  <xarray.DataArray (time: 13, cell: 12288)> Size: 1MB\n",
       "  array([[0., 0., 0., ..., 0., 0., 0.],\n",
       "         [0., 0., 0., ..., 0., 0., 0.],\n",
       "         [0., 0., 0., ..., 0., 0., 0.],\n",
       "         ...,\n",
       "         [0., 0., 0., ..., 0., 0., 0.],\n",
       "         [0., 0., 0., ..., 0., 0., 0.],\n",
       "         [0., 0., 0., ..., 0., 0., 0.]])\n",
       "  Coordinates:\n",
       "    * time     (time) datetime64[ns] 104B 2020-01-20 ... 2020-01-20T12:00:00\n",
       "    * cell     (cell) int64 98kB 0 1 2 3 4 5 ... 12283 12284 12285 12286 12287\n",
       "  Attributes:\n",
       "      source:      Data from Met Office Unified Model\n",
       "      um_version:  13.5\n",
       "      STASH:       m01s30i461,\n",
       "  <xarray.DataArray (time: 13, cell: 12288)> Size: 1MB\n",
       "  array([[0., 0., 0., ..., 0., 0., 0.],\n",
       "         [0., 0., 0., ..., 0., 0., 0.],\n",
       "         [0., 0., 0., ..., 0., 0., 0.],\n",
       "         ...,\n",
       "         [0., 0., 0., ..., 0., 0., 0.],\n",
       "         [0., 0., 0., ..., 0., 0., 0.],\n",
       "         [0., 0., 0., ..., 0., 0., 0.]])\n",
       "  Coordinates:\n",
       "    * time     (time) datetime64[ns] 104B 2020-01-20 ... 2020-01-20T12:00:00\n",
       "    * cell     (cell) int64 98kB 0 1 2 3 4 5 ... 12283 12284 12285 12286 12287\n",
       "  Attributes:\n",
       "      source:      Data from Met Office Unified Model\n",
       "      um_version:  13.5\n",
       "      STASH:       m01s30i462],)"
      ]
     },
     "execution_count": 39,
     "metadata": {},
     "output_type": "execute_result"
    }
   ],
   "source": [
    "dask.compute(res)"
   ]
  },
  {
   "cell_type": "code",
   "execution_count": null,
   "id": "cbc013a7-50a2-45c8-918a-34dac2f03b4b",
   "metadata": {},
   "outputs": [],
   "source": []
  }
 ],
 "metadata": {
  "kernelspec": {
   "display_name": "hackathon_env",
   "language": "python",
   "name": "hackathon_env"
  },
  "language_info": {
   "codemirror_mode": {
    "name": "ipython",
    "version": 3
   },
   "file_extension": ".py",
   "mimetype": "text/x-python",
   "name": "python",
   "nbconvert_exporter": "python",
   "pygments_lexer": "ipython3",
   "version": "3.12.9"
  }
 },
 "nbformat": 4,
 "nbformat_minor": 5
}
