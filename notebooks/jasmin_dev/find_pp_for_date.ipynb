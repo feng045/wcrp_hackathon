{
 "cells": [
  {
   "cell_type": "code",
   "execution_count": 6,
   "id": "4e72cfcf-ada4-4722-994c-75a5a9fd7727",
   "metadata": {
    "execution": {
     "iopub.execute_input": "2025-03-12T16:25:42.682564Z",
     "iopub.status.busy": "2025-03-12T16:25:42.682202Z",
     "iopub.status.idle": "2025-03-12T16:25:42.685385Z",
     "shell.execute_reply": "2025-03-12T16:25:42.684728Z",
     "shell.execute_reply.started": "2025-03-12T16:25:42.682541Z"
    }
   },
   "outputs": [],
   "source": [
    "from collections import defaultdict\n",
    "from pathlib import Path"
   ]
  },
  {
   "cell_type": "code",
   "execution_count": 2,
   "id": "9da7c50f-0b80-451d-9f50-f86e9be13c78",
   "metadata": {
    "execution": {
     "iopub.execute_input": "2025-03-12T16:23:57.937079Z",
     "iopub.status.busy": "2025-03-12T16:23:57.936660Z",
     "iopub.status.idle": "2025-03-12T16:23:57.940201Z",
     "shell.execute_reply": "2025-03-12T16:23:57.939600Z",
     "shell.execute_reply.started": "2025-03-12T16:23:57.937040Z"
    }
   },
   "outputs": [],
   "source": [
    "basedir = Path('/gws/nopw/j04/kscale/DYAMOND3_example_data/sample_data_hirerarchy/5km-RAL3')\n"
   ]
  },
  {
   "cell_type": "code",
   "execution_count": 12,
   "id": "dcb74bc8-9472-4930-bd0b-8b123dca9cfd",
   "metadata": {
    "execution": {
     "iopub.execute_input": "2025-03-12T16:28:45.236198Z",
     "iopub.status.busy": "2025-03-12T16:28:45.235844Z",
     "iopub.status.idle": "2025-03-12T16:28:45.253246Z",
     "shell.execute_reply": "2025-03-12T16:28:45.252778Z",
     "shell.execute_reply.started": "2025-03-12T16:28:45.236174Z"
    }
   },
   "outputs": [
    {
     "data": {
      "text/plain": [
       "[PosixPath('/gws/nopw/j04/kscale/DYAMOND3_example_data/sample_data_hirerarchy/5km-RAL3/glm/field.pp/apvera.pp/glm.n2560_RAL3p3.apvera_20200120T00.pp'),\n",
       " PosixPath('/gws/nopw/j04/kscale/DYAMOND3_example_data/sample_data_hirerarchy/5km-RAL3/glm/field.pp/apvera.pp/glm.n2560_RAL3p3.apvera_20200120T12.pp'),\n",
       " PosixPath('/gws/nopw/j04/kscale/DYAMOND3_example_data/sample_data_hirerarchy/5km-RAL3/glm/field.pp/apvera.pp/glm.n2560_RAL3p3.apvera_20200121T00.pp'),\n",
       " PosixPath('/gws/nopw/j04/kscale/DYAMOND3_example_data/sample_data_hirerarchy/5km-RAL3/glm/field.pp/apvera.pp/glm.n2560_RAL3p3.apvera_20200121T12.pp'),\n",
       " PosixPath('/gws/nopw/j04/kscale/DYAMOND3_example_data/sample_data_hirerarchy/5km-RAL3/glm/field.pp/apvera.pp/glm.n2560_RAL3p3.apvera_20200122T00.pp'),\n",
       " PosixPath('/gws/nopw/j04/kscale/DYAMOND3_example_data/sample_data_hirerarchy/5km-RAL3/glm/field.pp/apvera.pp/glm.n2560_RAL3p3.apvera_20200122T12.pp'),\n",
       " PosixPath('/gws/nopw/j04/kscale/DYAMOND3_example_data/sample_data_hirerarchy/5km-RAL3/glm/field.pp/apvera.pp/glm.n2560_RAL3p3.apvera_20200123T00.pp'),\n",
       " PosixPath('/gws/nopw/j04/kscale/DYAMOND3_example_data/sample_data_hirerarchy/5km-RAL3/glm/field.pp/apvera.pp/glm.n2560_RAL3p3.apvera_20200123T12.pp'),\n",
       " PosixPath('/gws/nopw/j04/kscale/DYAMOND3_example_data/sample_data_hirerarchy/5km-RAL3/glm/field.pp/apvera.pp/glm.n2560_RAL3p3.apvera_20200124T00.pp'),\n",
       " PosixPath('/gws/nopw/j04/kscale/DYAMOND3_example_data/sample_data_hirerarchy/5km-RAL3/glm/field.pp/apvera.pp/glm.n2560_RAL3p3.apvera_20200124T12.pp'),\n",
       " PosixPath('/gws/nopw/j04/kscale/DYAMOND3_example_data/sample_data_hirerarchy/5km-RAL3/glm/field.pp/apvera.pp/glm.n2560_RAL3p3.apvera_20200125T00.pp'),\n",
       " PosixPath('/gws/nopw/j04/kscale/DYAMOND3_example_data/sample_data_hirerarchy/5km-RAL3/glm/field.pp/apvera.pp/glm.n2560_RAL3p3.apvera_20200125T12.pp'),\n",
       " PosixPath('/gws/nopw/j04/kscale/DYAMOND3_example_data/sample_data_hirerarchy/5km-RAL3/glm/field.pp/apvera.pp/glm.n2560_RAL3p3.apvera_20200126T00.pp'),\n",
       " PosixPath('/gws/nopw/j04/kscale/DYAMOND3_example_data/sample_data_hirerarchy/5km-RAL3/glm/field.pp/apvera.pp/glm.n2560_RAL3p3.apvera_20200126T12.pp'),\n",
       " PosixPath('/gws/nopw/j04/kscale/DYAMOND3_example_data/sample_data_hirerarchy/5km-RAL3/glm/field.pp/apverb.pp/glm.n2560_RAL3p3.apverb_20200120T00.pp'),\n",
       " PosixPath('/gws/nopw/j04/kscale/DYAMOND3_example_data/sample_data_hirerarchy/5km-RAL3/glm/field.pp/apverb.pp/glm.n2560_RAL3p3.apverb_20200120T12.pp'),\n",
       " PosixPath('/gws/nopw/j04/kscale/DYAMOND3_example_data/sample_data_hirerarchy/5km-RAL3/glm/field.pp/apverb.pp/glm.n2560_RAL3p3.apverb_20200121T00.pp'),\n",
       " PosixPath('/gws/nopw/j04/kscale/DYAMOND3_example_data/sample_data_hirerarchy/5km-RAL3/glm/field.pp/apverb.pp/glm.n2560_RAL3p3.apverb_20200121T12.pp'),\n",
       " PosixPath('/gws/nopw/j04/kscale/DYAMOND3_example_data/sample_data_hirerarchy/5km-RAL3/glm/field.pp/apverb.pp/glm.n2560_RAL3p3.apverb_20200122T00.pp'),\n",
       " PosixPath('/gws/nopw/j04/kscale/DYAMOND3_example_data/sample_data_hirerarchy/5km-RAL3/glm/field.pp/apverb.pp/glm.n2560_RAL3p3.apverb_20200122T12.pp'),\n",
       " PosixPath('/gws/nopw/j04/kscale/DYAMOND3_example_data/sample_data_hirerarchy/5km-RAL3/glm/field.pp/apverb.pp/glm.n2560_RAL3p3.apverb_20200123T00.pp'),\n",
       " PosixPath('/gws/nopw/j04/kscale/DYAMOND3_example_data/sample_data_hirerarchy/5km-RAL3/glm/field.pp/apverb.pp/glm.n2560_RAL3p3.apverb_20200123T12.pp'),\n",
       " PosixPath('/gws/nopw/j04/kscale/DYAMOND3_example_data/sample_data_hirerarchy/5km-RAL3/glm/field.pp/apverb.pp/glm.n2560_RAL3p3.apverb_20200124T00.pp'),\n",
       " PosixPath('/gws/nopw/j04/kscale/DYAMOND3_example_data/sample_data_hirerarchy/5km-RAL3/glm/field.pp/apverb.pp/glm.n2560_RAL3p3.apverb_20200124T12.pp'),\n",
       " PosixPath('/gws/nopw/j04/kscale/DYAMOND3_example_data/sample_data_hirerarchy/5km-RAL3/glm/field.pp/apverb.pp/glm.n2560_RAL3p3.apverb_20200125T00.pp'),\n",
       " PosixPath('/gws/nopw/j04/kscale/DYAMOND3_example_data/sample_data_hirerarchy/5km-RAL3/glm/field.pp/apverb.pp/glm.n2560_RAL3p3.apverb_20200125T12.pp'),\n",
       " PosixPath('/gws/nopw/j04/kscale/DYAMOND3_example_data/sample_data_hirerarchy/5km-RAL3/glm/field.pp/apverb.pp/glm.n2560_RAL3p3.apverb_20200126T00.pp'),\n",
       " PosixPath('/gws/nopw/j04/kscale/DYAMOND3_example_data/sample_data_hirerarchy/5km-RAL3/glm/field.pp/apverb.pp/glm.n2560_RAL3p3.apverb_20200126T12.pp'),\n",
       " PosixPath('/gws/nopw/j04/kscale/DYAMOND3_example_data/sample_data_hirerarchy/5km-RAL3/glm/field.pp/apverb.pp/glm.n2560_RAL3p3.apverb_20200127T00.pp'),\n",
       " PosixPath('/gws/nopw/j04/kscale/DYAMOND3_example_data/sample_data_hirerarchy/5km-RAL3/glm/field.pp/apverb.pp/glm.n2560_RAL3p3.apverb_20200127T12.pp'),\n",
       " PosixPath('/gws/nopw/j04/kscale/DYAMOND3_example_data/sample_data_hirerarchy/5km-RAL3/glm/field.pp/apverb.pp/glm.n2560_RAL3p3.apverb_20200128T00.pp'),\n",
       " PosixPath('/gws/nopw/j04/kscale/DYAMOND3_example_data/sample_data_hirerarchy/5km-RAL3/glm/field.pp/apverb.pp/glm.n2560_RAL3p3.apverb_20200128T12.pp'),\n",
       " PosixPath('/gws/nopw/j04/kscale/DYAMOND3_example_data/sample_data_hirerarchy/5km-RAL3/glm/field.pp/apverb.pp/glm.n2560_RAL3p3.apverb_20200129T00.pp'),\n",
       " PosixPath('/gws/nopw/j04/kscale/DYAMOND3_example_data/sample_data_hirerarchy/5km-RAL3/glm/field.pp/apverb.pp/glm.n2560_RAL3p3.apverb_20200129T12.pp'),\n",
       " PosixPath('/gws/nopw/j04/kscale/DYAMOND3_example_data/sample_data_hirerarchy/5km-RAL3/glm/field.pp/apverc.pp/glm.n2560_RAL3p3.apverc_20200120T00.pp'),\n",
       " PosixPath('/gws/nopw/j04/kscale/DYAMOND3_example_data/sample_data_hirerarchy/5km-RAL3/glm/field.pp/apverc.pp/glm.n2560_RAL3p3.apverc_20200120T12.pp'),\n",
       " PosixPath('/gws/nopw/j04/kscale/DYAMOND3_example_data/sample_data_hirerarchy/5km-RAL3/glm/field.pp/apverc.pp/glm.n2560_RAL3p3.apverc_20200121T00.pp'),\n",
       " PosixPath('/gws/nopw/j04/kscale/DYAMOND3_example_data/sample_data_hirerarchy/5km-RAL3/glm/field.pp/apverc.pp/glm.n2560_RAL3p3.apverc_20200121T12.pp'),\n",
       " PosixPath('/gws/nopw/j04/kscale/DYAMOND3_example_data/sample_data_hirerarchy/5km-RAL3/glm/field.pp/apverc.pp/glm.n2560_RAL3p3.apverc_20200122T00.pp'),\n",
       " PosixPath('/gws/nopw/j04/kscale/DYAMOND3_example_data/sample_data_hirerarchy/5km-RAL3/glm/field.pp/apverc.pp/glm.n2560_RAL3p3.apverc_20200122T12.pp'),\n",
       " PosixPath('/gws/nopw/j04/kscale/DYAMOND3_example_data/sample_data_hirerarchy/5km-RAL3/glm/field.pp/apverc.pp/glm.n2560_RAL3p3.apverc_20200123T00.pp'),\n",
       " PosixPath('/gws/nopw/j04/kscale/DYAMOND3_example_data/sample_data_hirerarchy/5km-RAL3/glm/field.pp/apverc.pp/glm.n2560_RAL3p3.apverc_20200123T12.pp'),\n",
       " PosixPath('/gws/nopw/j04/kscale/DYAMOND3_example_data/sample_data_hirerarchy/5km-RAL3/glm/field.pp/apverc.pp/glm.n2560_RAL3p3.apverc_20200124T00.pp'),\n",
       " PosixPath('/gws/nopw/j04/kscale/DYAMOND3_example_data/sample_data_hirerarchy/5km-RAL3/glm/field.pp/apverc.pp/glm.n2560_RAL3p3.apverc_20200124T12.pp'),\n",
       " PosixPath('/gws/nopw/j04/kscale/DYAMOND3_example_data/sample_data_hirerarchy/5km-RAL3/glm/field.pp/apverc.pp/glm.n2560_RAL3p3.apverc_20200125T00.pp'),\n",
       " PosixPath('/gws/nopw/j04/kscale/DYAMOND3_example_data/sample_data_hirerarchy/5km-RAL3/glm/field.pp/apverc.pp/glm.n2560_RAL3p3.apverc_20200125T12.pp'),\n",
       " PosixPath('/gws/nopw/j04/kscale/DYAMOND3_example_data/sample_data_hirerarchy/5km-RAL3/glm/field.pp/apverc.pp/glm.n2560_RAL3p3.apverc_20200126T00.pp'),\n",
       " PosixPath('/gws/nopw/j04/kscale/DYAMOND3_example_data/sample_data_hirerarchy/5km-RAL3/glm/field.pp/apverc.pp/glm.n2560_RAL3p3.apverc_20200126T12.pp'),\n",
       " PosixPath('/gws/nopw/j04/kscale/DYAMOND3_example_data/sample_data_hirerarchy/5km-RAL3/glm/field.pp/apverc.pp/glm.n2560_RAL3p3.apverc_20200127T00.pp'),\n",
       " PosixPath('/gws/nopw/j04/kscale/DYAMOND3_example_data/sample_data_hirerarchy/5km-RAL3/glm/field.pp/apverc.pp/glm.n2560_RAL3p3.apverc_20200127T12.pp'),\n",
       " PosixPath('/gws/nopw/j04/kscale/DYAMOND3_example_data/sample_data_hirerarchy/5km-RAL3/glm/field.pp/apverc.pp/glm.n2560_RAL3p3.apverc_20200128T00.pp'),\n",
       " PosixPath('/gws/nopw/j04/kscale/DYAMOND3_example_data/sample_data_hirerarchy/5km-RAL3/glm/field.pp/apverc.pp/glm.n2560_RAL3p3.apverc_20200128T12.pp'),\n",
       " PosixPath('/gws/nopw/j04/kscale/DYAMOND3_example_data/sample_data_hirerarchy/5km-RAL3/glm/field.pp/apverc.pp/glm.n2560_RAL3p3.apverc_20200129T00.pp'),\n",
       " PosixPath('/gws/nopw/j04/kscale/DYAMOND3_example_data/sample_data_hirerarchy/5km-RAL3/glm/field.pp/apverc.pp/glm.n2560_RAL3p3.apverc_20200129T12.pp'),\n",
       " PosixPath('/gws/nopw/j04/kscale/DYAMOND3_example_data/sample_data_hirerarchy/5km-RAL3/glm/field.pp/apverd.pp/glm.n2560_RAL3p3.apverd_20200120T00.pp'),\n",
       " PosixPath('/gws/nopw/j04/kscale/DYAMOND3_example_data/sample_data_hirerarchy/5km-RAL3/glm/field.pp/apverd.pp/glm.n2560_RAL3p3.apverd_20200120T12.pp'),\n",
       " PosixPath('/gws/nopw/j04/kscale/DYAMOND3_example_data/sample_data_hirerarchy/5km-RAL3/glm/field.pp/apverd.pp/glm.n2560_RAL3p3.apverd_20200121T00.pp'),\n",
       " PosixPath('/gws/nopw/j04/kscale/DYAMOND3_example_data/sample_data_hirerarchy/5km-RAL3/glm/field.pp/apverd.pp/glm.n2560_RAL3p3.apverd_20200121T12.pp'),\n",
       " PosixPath('/gws/nopw/j04/kscale/DYAMOND3_example_data/sample_data_hirerarchy/5km-RAL3/glm/field.pp/apverd.pp/glm.n2560_RAL3p3.apverd_20200122T00.pp'),\n",
       " PosixPath('/gws/nopw/j04/kscale/DYAMOND3_example_data/sample_data_hirerarchy/5km-RAL3/glm/field.pp/apverd.pp/glm.n2560_RAL3p3.apverd_20200129T00.pp'),\n",
       " PosixPath('/gws/nopw/j04/kscale/DYAMOND3_example_data/sample_data_hirerarchy/5km-RAL3/glm/field.pp/apverd.pp/glm.n2560_RAL3p3.apverd_20200129T12.pp')]"
      ]
     },
     "execution_count": 12,
     "metadata": {},
     "output_type": "execute_result"
    }
   ],
   "source": [
    "pp_paths = sorted(basedir.glob('glm/field.pp/apve*/**/*.pp'))\n",
    "pp_paths = [p for p in pp_paths if p.is_file()]\n",
    "pp_paths"
   ]
  },
  {
   "cell_type": "code",
   "execution_count": null,
   "id": "32aea9c7-2525-4327-a58e-3c5b525a8501",
   "metadata": {},
   "outputs": [],
   "source": []
  },
  {
   "cell_type": "code",
   "execution_count": 13,
   "id": "237c8e41-b1c6-458e-84f5-d82127b287b4",
   "metadata": {
    "execution": {
     "iopub.execute_input": "2025-03-12T16:28:57.666549Z",
     "iopub.status.busy": "2025-03-12T16:28:57.666190Z",
     "iopub.status.idle": "2025-03-12T16:28:57.669373Z",
     "shell.execute_reply": "2025-03-12T16:28:57.668899Z",
     "shell.execute_reply.started": "2025-03-12T16:28:57.666523Z"
    }
   },
   "outputs": [],
   "source": [
    "def parse_date_from_pp_path(path):\n",
    "    return path.stem.split('.')[-1].split('_')[1]"
   ]
  },
  {
   "cell_type": "code",
   "execution_count": 14,
   "id": "a079a680-6bed-453d-8f14-09a09fb239f8",
   "metadata": {
    "execution": {
     "iopub.execute_input": "2025-03-12T16:28:58.336882Z",
     "iopub.status.busy": "2025-03-12T16:28:58.336525Z",
     "iopub.status.idle": "2025-03-12T16:28:58.339519Z",
     "shell.execute_reply": "2025-03-12T16:28:58.339055Z",
     "shell.execute_reply.started": "2025-03-12T16:28:58.336859Z"
    }
   },
   "outputs": [],
   "source": [
    "dates_to_paths = defaultdict(list)"
   ]
  },
  {
   "cell_type": "code",
   "execution_count": 15,
   "id": "619e5a4d-48d4-40a3-a3bf-fef0f8e603cf",
   "metadata": {
    "execution": {
     "iopub.execute_input": "2025-03-12T16:28:59.085607Z",
     "iopub.status.busy": "2025-03-12T16:28:59.085259Z",
     "iopub.status.idle": "2025-03-12T16:28:59.088378Z",
     "shell.execute_reply": "2025-03-12T16:28:59.087915Z",
     "shell.execute_reply.started": "2025-03-12T16:28:59.085584Z"
    }
   },
   "outputs": [],
   "source": [
    "for path in pp_paths:\n",
    "    dates_to_paths[parse_date_from_pp_path(path)].append(path)"
   ]
  },
  {
   "cell_type": "code",
   "execution_count": 16,
   "id": "ca878fdc-bdc9-4856-be48-cc3ae4ec497c",
   "metadata": {
    "execution": {
     "iopub.execute_input": "2025-03-12T16:28:59.888729Z",
     "iopub.status.busy": "2025-03-12T16:28:59.888378Z",
     "iopub.status.idle": "2025-03-12T16:28:59.893480Z",
     "shell.execute_reply": "2025-03-12T16:28:59.892934Z",
     "shell.execute_reply.started": "2025-03-12T16:28:59.888707Z"
    }
   },
   "outputs": [
    {
     "data": {
      "text/plain": [
       "defaultdict(list,\n",
       "            {'20200120T00': [PosixPath('/gws/nopw/j04/kscale/DYAMOND3_example_data/sample_data_hirerarchy/5km-RAL3/glm/field.pp/apvera.pp/glm.n2560_RAL3p3.apvera_20200120T00.pp'),\n",
       "              PosixPath('/gws/nopw/j04/kscale/DYAMOND3_example_data/sample_data_hirerarchy/5km-RAL3/glm/field.pp/apverb.pp/glm.n2560_RAL3p3.apverb_20200120T00.pp'),\n",
       "              PosixPath('/gws/nopw/j04/kscale/DYAMOND3_example_data/sample_data_hirerarchy/5km-RAL3/glm/field.pp/apverc.pp/glm.n2560_RAL3p3.apverc_20200120T00.pp'),\n",
       "              PosixPath('/gws/nopw/j04/kscale/DYAMOND3_example_data/sample_data_hirerarchy/5km-RAL3/glm/field.pp/apverd.pp/glm.n2560_RAL3p3.apverd_20200120T00.pp')],\n",
       "             '20200120T12': [PosixPath('/gws/nopw/j04/kscale/DYAMOND3_example_data/sample_data_hirerarchy/5km-RAL3/glm/field.pp/apvera.pp/glm.n2560_RAL3p3.apvera_20200120T12.pp'),\n",
       "              PosixPath('/gws/nopw/j04/kscale/DYAMOND3_example_data/sample_data_hirerarchy/5km-RAL3/glm/field.pp/apverb.pp/glm.n2560_RAL3p3.apverb_20200120T12.pp'),\n",
       "              PosixPath('/gws/nopw/j04/kscale/DYAMOND3_example_data/sample_data_hirerarchy/5km-RAL3/glm/field.pp/apverc.pp/glm.n2560_RAL3p3.apverc_20200120T12.pp'),\n",
       "              PosixPath('/gws/nopw/j04/kscale/DYAMOND3_example_data/sample_data_hirerarchy/5km-RAL3/glm/field.pp/apverd.pp/glm.n2560_RAL3p3.apverd_20200120T12.pp')],\n",
       "             '20200121T00': [PosixPath('/gws/nopw/j04/kscale/DYAMOND3_example_data/sample_data_hirerarchy/5km-RAL3/glm/field.pp/apvera.pp/glm.n2560_RAL3p3.apvera_20200121T00.pp'),\n",
       "              PosixPath('/gws/nopw/j04/kscale/DYAMOND3_example_data/sample_data_hirerarchy/5km-RAL3/glm/field.pp/apverb.pp/glm.n2560_RAL3p3.apverb_20200121T00.pp'),\n",
       "              PosixPath('/gws/nopw/j04/kscale/DYAMOND3_example_data/sample_data_hirerarchy/5km-RAL3/glm/field.pp/apverc.pp/glm.n2560_RAL3p3.apverc_20200121T00.pp'),\n",
       "              PosixPath('/gws/nopw/j04/kscale/DYAMOND3_example_data/sample_data_hirerarchy/5km-RAL3/glm/field.pp/apverd.pp/glm.n2560_RAL3p3.apverd_20200121T00.pp')],\n",
       "             '20200121T12': [PosixPath('/gws/nopw/j04/kscale/DYAMOND3_example_data/sample_data_hirerarchy/5km-RAL3/glm/field.pp/apvera.pp/glm.n2560_RAL3p3.apvera_20200121T12.pp'),\n",
       "              PosixPath('/gws/nopw/j04/kscale/DYAMOND3_example_data/sample_data_hirerarchy/5km-RAL3/glm/field.pp/apverb.pp/glm.n2560_RAL3p3.apverb_20200121T12.pp'),\n",
       "              PosixPath('/gws/nopw/j04/kscale/DYAMOND3_example_data/sample_data_hirerarchy/5km-RAL3/glm/field.pp/apverc.pp/glm.n2560_RAL3p3.apverc_20200121T12.pp'),\n",
       "              PosixPath('/gws/nopw/j04/kscale/DYAMOND3_example_data/sample_data_hirerarchy/5km-RAL3/glm/field.pp/apverd.pp/glm.n2560_RAL3p3.apverd_20200121T12.pp')],\n",
       "             '20200122T00': [PosixPath('/gws/nopw/j04/kscale/DYAMOND3_example_data/sample_data_hirerarchy/5km-RAL3/glm/field.pp/apvera.pp/glm.n2560_RAL3p3.apvera_20200122T00.pp'),\n",
       "              PosixPath('/gws/nopw/j04/kscale/DYAMOND3_example_data/sample_data_hirerarchy/5km-RAL3/glm/field.pp/apverb.pp/glm.n2560_RAL3p3.apverb_20200122T00.pp'),\n",
       "              PosixPath('/gws/nopw/j04/kscale/DYAMOND3_example_data/sample_data_hirerarchy/5km-RAL3/glm/field.pp/apverc.pp/glm.n2560_RAL3p3.apverc_20200122T00.pp'),\n",
       "              PosixPath('/gws/nopw/j04/kscale/DYAMOND3_example_data/sample_data_hirerarchy/5km-RAL3/glm/field.pp/apverd.pp/glm.n2560_RAL3p3.apverd_20200122T00.pp')],\n",
       "             '20200122T12': [PosixPath('/gws/nopw/j04/kscale/DYAMOND3_example_data/sample_data_hirerarchy/5km-RAL3/glm/field.pp/apvera.pp/glm.n2560_RAL3p3.apvera_20200122T12.pp'),\n",
       "              PosixPath('/gws/nopw/j04/kscale/DYAMOND3_example_data/sample_data_hirerarchy/5km-RAL3/glm/field.pp/apverb.pp/glm.n2560_RAL3p3.apverb_20200122T12.pp'),\n",
       "              PosixPath('/gws/nopw/j04/kscale/DYAMOND3_example_data/sample_data_hirerarchy/5km-RAL3/glm/field.pp/apverc.pp/glm.n2560_RAL3p3.apverc_20200122T12.pp')],\n",
       "             '20200123T00': [PosixPath('/gws/nopw/j04/kscale/DYAMOND3_example_data/sample_data_hirerarchy/5km-RAL3/glm/field.pp/apvera.pp/glm.n2560_RAL3p3.apvera_20200123T00.pp'),\n",
       "              PosixPath('/gws/nopw/j04/kscale/DYAMOND3_example_data/sample_data_hirerarchy/5km-RAL3/glm/field.pp/apverb.pp/glm.n2560_RAL3p3.apverb_20200123T00.pp'),\n",
       "              PosixPath('/gws/nopw/j04/kscale/DYAMOND3_example_data/sample_data_hirerarchy/5km-RAL3/glm/field.pp/apverc.pp/glm.n2560_RAL3p3.apverc_20200123T00.pp')],\n",
       "             '20200123T12': [PosixPath('/gws/nopw/j04/kscale/DYAMOND3_example_data/sample_data_hirerarchy/5km-RAL3/glm/field.pp/apvera.pp/glm.n2560_RAL3p3.apvera_20200123T12.pp'),\n",
       "              PosixPath('/gws/nopw/j04/kscale/DYAMOND3_example_data/sample_data_hirerarchy/5km-RAL3/glm/field.pp/apverb.pp/glm.n2560_RAL3p3.apverb_20200123T12.pp'),\n",
       "              PosixPath('/gws/nopw/j04/kscale/DYAMOND3_example_data/sample_data_hirerarchy/5km-RAL3/glm/field.pp/apverc.pp/glm.n2560_RAL3p3.apverc_20200123T12.pp')],\n",
       "             '20200124T00': [PosixPath('/gws/nopw/j04/kscale/DYAMOND3_example_data/sample_data_hirerarchy/5km-RAL3/glm/field.pp/apvera.pp/glm.n2560_RAL3p3.apvera_20200124T00.pp'),\n",
       "              PosixPath('/gws/nopw/j04/kscale/DYAMOND3_example_data/sample_data_hirerarchy/5km-RAL3/glm/field.pp/apverb.pp/glm.n2560_RAL3p3.apverb_20200124T00.pp'),\n",
       "              PosixPath('/gws/nopw/j04/kscale/DYAMOND3_example_data/sample_data_hirerarchy/5km-RAL3/glm/field.pp/apverc.pp/glm.n2560_RAL3p3.apverc_20200124T00.pp')],\n",
       "             '20200124T12': [PosixPath('/gws/nopw/j04/kscale/DYAMOND3_example_data/sample_data_hirerarchy/5km-RAL3/glm/field.pp/apvera.pp/glm.n2560_RAL3p3.apvera_20200124T12.pp'),\n",
       "              PosixPath('/gws/nopw/j04/kscale/DYAMOND3_example_data/sample_data_hirerarchy/5km-RAL3/glm/field.pp/apverb.pp/glm.n2560_RAL3p3.apverb_20200124T12.pp'),\n",
       "              PosixPath('/gws/nopw/j04/kscale/DYAMOND3_example_data/sample_data_hirerarchy/5km-RAL3/glm/field.pp/apverc.pp/glm.n2560_RAL3p3.apverc_20200124T12.pp')],\n",
       "             '20200125T00': [PosixPath('/gws/nopw/j04/kscale/DYAMOND3_example_data/sample_data_hirerarchy/5km-RAL3/glm/field.pp/apvera.pp/glm.n2560_RAL3p3.apvera_20200125T00.pp'),\n",
       "              PosixPath('/gws/nopw/j04/kscale/DYAMOND3_example_data/sample_data_hirerarchy/5km-RAL3/glm/field.pp/apverb.pp/glm.n2560_RAL3p3.apverb_20200125T00.pp'),\n",
       "              PosixPath('/gws/nopw/j04/kscale/DYAMOND3_example_data/sample_data_hirerarchy/5km-RAL3/glm/field.pp/apverc.pp/glm.n2560_RAL3p3.apverc_20200125T00.pp')],\n",
       "             '20200125T12': [PosixPath('/gws/nopw/j04/kscale/DYAMOND3_example_data/sample_data_hirerarchy/5km-RAL3/glm/field.pp/apvera.pp/glm.n2560_RAL3p3.apvera_20200125T12.pp'),\n",
       "              PosixPath('/gws/nopw/j04/kscale/DYAMOND3_example_data/sample_data_hirerarchy/5km-RAL3/glm/field.pp/apverb.pp/glm.n2560_RAL3p3.apverb_20200125T12.pp'),\n",
       "              PosixPath('/gws/nopw/j04/kscale/DYAMOND3_example_data/sample_data_hirerarchy/5km-RAL3/glm/field.pp/apverc.pp/glm.n2560_RAL3p3.apverc_20200125T12.pp')],\n",
       "             '20200126T00': [PosixPath('/gws/nopw/j04/kscale/DYAMOND3_example_data/sample_data_hirerarchy/5km-RAL3/glm/field.pp/apvera.pp/glm.n2560_RAL3p3.apvera_20200126T00.pp'),\n",
       "              PosixPath('/gws/nopw/j04/kscale/DYAMOND3_example_data/sample_data_hirerarchy/5km-RAL3/glm/field.pp/apverb.pp/glm.n2560_RAL3p3.apverb_20200126T00.pp'),\n",
       "              PosixPath('/gws/nopw/j04/kscale/DYAMOND3_example_data/sample_data_hirerarchy/5km-RAL3/glm/field.pp/apverc.pp/glm.n2560_RAL3p3.apverc_20200126T00.pp')],\n",
       "             '20200126T12': [PosixPath('/gws/nopw/j04/kscale/DYAMOND3_example_data/sample_data_hirerarchy/5km-RAL3/glm/field.pp/apvera.pp/glm.n2560_RAL3p3.apvera_20200126T12.pp'),\n",
       "              PosixPath('/gws/nopw/j04/kscale/DYAMOND3_example_data/sample_data_hirerarchy/5km-RAL3/glm/field.pp/apverb.pp/glm.n2560_RAL3p3.apverb_20200126T12.pp'),\n",
       "              PosixPath('/gws/nopw/j04/kscale/DYAMOND3_example_data/sample_data_hirerarchy/5km-RAL3/glm/field.pp/apverc.pp/glm.n2560_RAL3p3.apverc_20200126T12.pp')],\n",
       "             '20200127T00': [PosixPath('/gws/nopw/j04/kscale/DYAMOND3_example_data/sample_data_hirerarchy/5km-RAL3/glm/field.pp/apverb.pp/glm.n2560_RAL3p3.apverb_20200127T00.pp'),\n",
       "              PosixPath('/gws/nopw/j04/kscale/DYAMOND3_example_data/sample_data_hirerarchy/5km-RAL3/glm/field.pp/apverc.pp/glm.n2560_RAL3p3.apverc_20200127T00.pp')],\n",
       "             '20200127T12': [PosixPath('/gws/nopw/j04/kscale/DYAMOND3_example_data/sample_data_hirerarchy/5km-RAL3/glm/field.pp/apverb.pp/glm.n2560_RAL3p3.apverb_20200127T12.pp'),\n",
       "              PosixPath('/gws/nopw/j04/kscale/DYAMOND3_example_data/sample_data_hirerarchy/5km-RAL3/glm/field.pp/apverc.pp/glm.n2560_RAL3p3.apverc_20200127T12.pp')],\n",
       "             '20200128T00': [PosixPath('/gws/nopw/j04/kscale/DYAMOND3_example_data/sample_data_hirerarchy/5km-RAL3/glm/field.pp/apverb.pp/glm.n2560_RAL3p3.apverb_20200128T00.pp'),\n",
       "              PosixPath('/gws/nopw/j04/kscale/DYAMOND3_example_data/sample_data_hirerarchy/5km-RAL3/glm/field.pp/apverc.pp/glm.n2560_RAL3p3.apverc_20200128T00.pp')],\n",
       "             '20200128T12': [PosixPath('/gws/nopw/j04/kscale/DYAMOND3_example_data/sample_data_hirerarchy/5km-RAL3/glm/field.pp/apverb.pp/glm.n2560_RAL3p3.apverb_20200128T12.pp'),\n",
       "              PosixPath('/gws/nopw/j04/kscale/DYAMOND3_example_data/sample_data_hirerarchy/5km-RAL3/glm/field.pp/apverc.pp/glm.n2560_RAL3p3.apverc_20200128T12.pp')],\n",
       "             '20200129T00': [PosixPath('/gws/nopw/j04/kscale/DYAMOND3_example_data/sample_data_hirerarchy/5km-RAL3/glm/field.pp/apverb.pp/glm.n2560_RAL3p3.apverb_20200129T00.pp'),\n",
       "              PosixPath('/gws/nopw/j04/kscale/DYAMOND3_example_data/sample_data_hirerarchy/5km-RAL3/glm/field.pp/apverc.pp/glm.n2560_RAL3p3.apverc_20200129T00.pp'),\n",
       "              PosixPath('/gws/nopw/j04/kscale/DYAMOND3_example_data/sample_data_hirerarchy/5km-RAL3/glm/field.pp/apverd.pp/glm.n2560_RAL3p3.apverd_20200129T00.pp')],\n",
       "             '20200129T12': [PosixPath('/gws/nopw/j04/kscale/DYAMOND3_example_data/sample_data_hirerarchy/5km-RAL3/glm/field.pp/apverb.pp/glm.n2560_RAL3p3.apverb_20200129T12.pp'),\n",
       "              PosixPath('/gws/nopw/j04/kscale/DYAMOND3_example_data/sample_data_hirerarchy/5km-RAL3/glm/field.pp/apverc.pp/glm.n2560_RAL3p3.apverc_20200129T12.pp'),\n",
       "              PosixPath('/gws/nopw/j04/kscale/DYAMOND3_example_data/sample_data_hirerarchy/5km-RAL3/glm/field.pp/apverd.pp/glm.n2560_RAL3p3.apverd_20200129T12.pp')]})"
      ]
     },
     "execution_count": 16,
     "metadata": {},
     "output_type": "execute_result"
    }
   ],
   "source": [
    "dates_to_paths"
   ]
  },
  {
   "cell_type": "code",
   "execution_count": 18,
   "id": "9b85e32c-18a8-4f64-8fe4-edb917202e44",
   "metadata": {
    "execution": {
     "iopub.execute_input": "2025-03-12T16:29:36.264042Z",
     "iopub.status.busy": "2025-03-12T16:29:36.263677Z",
     "iopub.status.idle": "2025-03-12T16:29:36.268355Z",
     "shell.execute_reply": "2025-03-12T16:29:36.267911Z",
     "shell.execute_reply.started": "2025-03-12T16:29:36.264019Z"
    }
   },
   "outputs": [
    {
     "data": {
      "text/plain": [
       "[('20200120T00', 4),\n",
       " ('20200120T12', 4),\n",
       " ('20200121T00', 4),\n",
       " ('20200121T12', 4),\n",
       " ('20200122T00', 4),\n",
       " ('20200122T12', 3),\n",
       " ('20200123T00', 3),\n",
       " ('20200123T12', 3),\n",
       " ('20200124T00', 3),\n",
       " ('20200124T12', 3),\n",
       " ('20200125T00', 3),\n",
       " ('20200125T12', 3),\n",
       " ('20200126T00', 3),\n",
       " ('20200126T12', 3),\n",
       " ('20200127T00', 2),\n",
       " ('20200127T12', 2),\n",
       " ('20200128T00', 2),\n",
       " ('20200128T12', 2),\n",
       " ('20200129T00', 3),\n",
       " ('20200129T12', 3)]"
      ]
     },
     "execution_count": 18,
     "metadata": {},
     "output_type": "execute_result"
    }
   ],
   "source": [
    "[(k, len(v)) for k, v in dates_to_paths.items()]"
   ]
  },
  {
   "cell_type": "code",
   "execution_count": null,
   "id": "8131046f-7aec-4ac5-bb8e-761122a91882",
   "metadata": {},
   "outputs": [],
   "source": []
  }
 ],
 "metadata": {
  "kernelspec": {
   "display_name": "hackathon_env",
   "language": "python",
   "name": "hackathon_env"
  },
  "language_info": {
   "codemirror_mode": {
    "name": "ipython",
    "version": 3
   },
   "file_extension": ".py",
   "mimetype": "text/x-python",
   "name": "python",
   "nbconvert_exporter": "python",
   "pygments_lexer": "ipython3",
   "version": "3.12.9"
  }
 },
 "nbformat": 4,
 "nbformat_minor": 5
}
