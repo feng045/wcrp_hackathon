{
 "cells": [
  {
   "cell_type": "code",
   "execution_count": 1,
   "id": "b89db7bc-c7b3-4beb-9efd-09ea1f5beff7",
   "metadata": {
    "editable": true,
    "execution": {
     "iopub.execute_input": "2025-03-17T13:48:07.742105Z",
     "iopub.status.busy": "2025-03-17T13:48:07.741739Z",
     "iopub.status.idle": "2025-03-17T13:48:08.207260Z",
     "shell.execute_reply": "2025-03-17T13:48:08.206759Z",
     "shell.execute_reply.started": "2025-03-17T13:48:07.742081Z"
    },
    "slideshow": {
     "slide_type": ""
    },
    "tags": []
   },
   "outputs": [],
   "source": [
    "from io import StringIO\n",
    "\n",
    "from loguru import logger"
   ]
  },
  {
   "cell_type": "code",
   "execution_count": 2,
   "id": "2a337310-195b-44b8-a853-7ee9ba0f9167",
   "metadata": {
    "execution": {
     "iopub.execute_input": "2025-03-17T13:48:22.101114Z",
     "iopub.status.busy": "2025-03-17T13:48:22.100731Z",
     "iopub.status.idle": "2025-03-17T13:48:22.103728Z",
     "shell.execute_reply": "2025-03-17T13:48:22.103232Z",
     "shell.execute_reply.started": "2025-03-17T13:48:22.101089Z"
    }
   },
   "outputs": [],
   "source": [
    "out = StringIO()"
   ]
  },
  {
   "cell_type": "code",
   "execution_count": 3,
   "id": "c9f4367a-bb9a-429e-9ee2-8413fc658524",
   "metadata": {
    "execution": {
     "iopub.execute_input": "2025-03-17T13:48:27.809937Z",
     "iopub.status.busy": "2025-03-17T13:48:27.809580Z",
     "iopub.status.idle": "2025-03-17T13:48:27.821330Z",
     "shell.execute_reply": "2025-03-17T13:48:27.820904Z",
     "shell.execute_reply.started": "2025-03-17T13:48:27.809914Z"
    }
   },
   "outputs": [
    {
     "data": {
      "text/plain": [
       "1"
      ]
     },
     "execution_count": 3,
     "metadata": {},
     "output_type": "execute_result"
    }
   ],
   "source": [
    "logger.add(out)"
   ]
  },
  {
   "cell_type": "code",
   "execution_count": 4,
   "id": "32db163c-7591-4f0a-beed-a7d0c6aad1e1",
   "metadata": {
    "execution": {
     "iopub.execute_input": "2025-03-17T13:48:38.298218Z",
     "iopub.status.busy": "2025-03-17T13:48:38.297868Z",
     "iopub.status.idle": "2025-03-17T13:48:38.302089Z",
     "shell.execute_reply": "2025-03-17T13:48:38.301439Z",
     "shell.execute_reply.started": "2025-03-17T13:48:38.298196Z"
    }
   },
   "outputs": [
    {
     "name": "stderr",
     "output_type": "stream",
     "text": [
      "\u001b[32m2025-03-17 13:48:38.298\u001b[0m | \u001b[34m\u001b[1mDEBUG   \u001b[0m | \u001b[36m__main__\u001b[0m:\u001b[36m<module>\u001b[0m:\u001b[36m1\u001b[0m - \u001b[34m\u001b[1moh hai!\u001b[0m\n"
     ]
    }
   ],
   "source": [
    "logger.debug('oh hai!')"
   ]
  },
  {
   "cell_type": "code",
   "execution_count": 5,
   "id": "00dd7f68-1794-4304-a17c-8afdae2ec451",
   "metadata": {
    "execution": {
     "iopub.execute_input": "2025-03-17T13:48:48.372044Z",
     "iopub.status.busy": "2025-03-17T13:48:48.371684Z",
     "iopub.status.idle": "2025-03-17T13:48:48.375233Z",
     "shell.execute_reply": "2025-03-17T13:48:48.374723Z",
     "shell.execute_reply.started": "2025-03-17T13:48:48.372020Z"
    }
   },
   "outputs": [
    {
     "name": "stdout",
     "output_type": "stream",
     "text": [
      "2025-03-17 13:48:38.298 | DEBUG    | __main__:<module>:1 - oh hai!\n",
      "\n"
     ]
    }
   ],
   "source": [
    "print(out.getvalue())"
   ]
  },
  {
   "cell_type": "code",
   "execution_count": 6,
   "id": "25031d39-686a-46a2-9553-6793fb3293e3",
   "metadata": {
    "execution": {
     "iopub.execute_input": "2025-03-17T13:49:00.609428Z",
     "iopub.status.busy": "2025-03-17T13:49:00.609082Z",
     "iopub.status.idle": "2025-03-17T13:49:00.612797Z",
     "shell.execute_reply": "2025-03-17T13:49:00.612308Z",
     "shell.execute_reply.started": "2025-03-17T13:49:00.609405Z"
    }
   },
   "outputs": [
    {
     "name": "stderr",
     "output_type": "stream",
     "text": [
      "\u001b[32m2025-03-17 13:49:00.610\u001b[0m | \u001b[1mINFO    \u001b[0m | \u001b[36m__main__\u001b[0m:\u001b[36m<module>\u001b[0m:\u001b[36m1\u001b[0m - \u001b[1moh hai!\u001b[0m\n"
     ]
    }
   ],
   "source": [
    "logger.info('oh hai!')"
   ]
  },
  {
   "cell_type": "code",
   "execution_count": 7,
   "id": "f9bae51f-e7bc-4651-868a-b151709cc250",
   "metadata": {
    "execution": {
     "iopub.execute_input": "2025-03-17T13:49:08.484617Z",
     "iopub.status.busy": "2025-03-17T13:49:08.484267Z",
     "iopub.status.idle": "2025-03-17T13:49:08.487688Z",
     "shell.execute_reply": "2025-03-17T13:49:08.487222Z",
     "shell.execute_reply.started": "2025-03-17T13:49:08.484595Z"
    }
   },
   "outputs": [
    {
     "name": "stdout",
     "output_type": "stream",
     "text": [
      "2025-03-17 13:48:38.298 | DEBUG    | __main__:<module>:1 - oh hai!\n",
      "2025-03-17 13:49:00.610 | INFO     | __main__:<module>:1 - oh hai!\n",
      "\n"
     ]
    }
   ],
   "source": [
    "print(out.getvalue())"
   ]
  },
  {
   "cell_type": "code",
   "execution_count": null,
   "id": "5466d8db-6b7d-47cb-b432-31bedbd3c9ee",
   "metadata": {},
   "outputs": [],
   "source": []
  }
 ],
 "metadata": {
  "kernelspec": {
   "display_name": "hackathon_env",
   "language": "python",
   "name": "hackathon_env"
  },
  "language_info": {
   "codemirror_mode": {
    "name": "ipython",
    "version": 3
   },
   "file_extension": ".py",
   "mimetype": "text/x-python",
   "name": "python",
   "nbconvert_exporter": "python",
   "pygments_lexer": "ipython3",
   "version": "3.12.9"
  }
 },
 "nbformat": 4,
 "nbformat_minor": 5
}
