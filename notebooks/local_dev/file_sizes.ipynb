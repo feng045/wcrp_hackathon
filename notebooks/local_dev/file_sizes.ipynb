{
 "cells": [
  {
   "cell_type": "code",
   "execution_count": 20,
   "id": "04d7c6b7-a115-4a2a-8ff3-7492f819927a",
   "metadata": {
    "execution": {
     "iopub.execute_input": "2025-03-20T11:53:46.940960Z",
     "iopub.status.busy": "2025-03-20T11:53:46.940402Z",
     "iopub.status.idle": "2025-03-20T11:53:46.947485Z",
     "shell.execute_reply": "2025-03-20T11:53:46.946709Z",
     "shell.execute_reply.started": "2025-03-20T11:53:46.940913Z"
    }
   },
   "outputs": [
    {
     "name": "stdout",
     "output_type": "stream",
     "text": [
      ".pp for 400 days: 40.00T\n"
     ]
    }
   ],
   "source": [
    "# PP files.\n",
    "dt = 0.5 # day\n",
    "apvera = 9 # G\n",
    "apverb = 12 # G\n",
    "apverc = 23 # G\n",
    "apverd = 6 # G\n",
    "\n",
    "pp_total_per_day = (apvera + apverb + apverc + apverd) / dt\n",
    "pp_total_400d = pp_total_per_day * 400\n",
    "print(f'.pp for 400 days: {pp_total_400d / 1e3:.2f}T')\n",
    "\n"
   ]
  },
  {
   "cell_type": "code",
   "execution_count": 18,
   "id": "8f39347d-4813-4e42-ad1d-1628c1778bff",
   "metadata": {
    "execution": {
     "iopub.execute_input": "2025-03-20T11:53:35.005903Z",
     "iopub.status.busy": "2025-03-20T11:53:35.004567Z",
     "iopub.status.idle": "2025-03-20T11:53:35.020589Z",
     "shell.execute_reply": "2025-03-20T11:53:35.018877Z",
     "shell.execute_reply.started": "2025-03-20T11:53:35.005778Z"
    }
   },
   "outputs": [
    {
     "name": "stdout",
     "output_type": "stream",
     "text": [
      ".nc for 400 days: 121.60T (2d/3d): 16.92%\n"
     ]
    }
   ],
   "source": [
    "# NC files (temporary)\n",
    "dt = 0.5\n",
    "data2d = 22\n",
    "data3d = 130\n",
    "\n",
    "nc_total_per_day = (data2d + data3d) / dt\n",
    "nc_ratio_2d_to_3d = data2d / data3d\n",
    "\n",
    "nc_total_400d = nc_total_per_day * 400\n",
    "print(f'.nc for 400 days: {nc_total_400d / 1e3:.2f}T (2d/3d): {nc_ratio_2d_to_3d * 100:.2f}%')"
   ]
  },
  {
   "cell_type": "code",
   "execution_count": 17,
   "id": "3fa500e7-eadd-48ec-bf12-6b008c74aa7b",
   "metadata": {
    "execution": {
     "iopub.execute_input": "2025-03-20T11:53:27.056732Z",
     "iopub.status.busy": "2025-03-20T11:53:27.055933Z",
     "iopub.status.idle": "2025-03-20T11:53:27.067002Z",
     "shell.execute_reply": "2025-03-20T11:53:27.065708Z",
     "shell.execute_reply.started": "2025-03-20T11:53:27.056660Z"
    }
   },
   "outputs": [
    {
     "name": "stdout",
     "output_type": "stream",
     "text": [
      ".zarr for 400 days: 55.39T (2d/3d): 37.85%\n"
     ]
    }
   ],
   "source": [
    "# ZARR stores\n",
    "# 2d\n",
    "dt2d = 6.5\n",
    "zarr2d = 247127765303 / 1e9\n",
    "\n",
    "dt3d = 1\n",
    "zarr3d = 100453950415 / 1e9 \n",
    "\n",
    "zarr_total_per_day = zarr2d / dt2d + zarr3d / dt3d\n",
    "zarr_ratio_2d_to_3d = (zarr2d / dt2d) / (zarr3d / dt3d)\n",
    "zarr_total_400d = zarr_total_per_day * 400\n",
    "\n",
    "\n",
    "print(f'.zarr for 400 days: {zarr_total_400d / 1e3:.2f}T (2d/3d): {zarr_ratio_2d_to_3d * 100:.2f}%')"
   ]
  },
  {
   "cell_type": "code",
   "execution_count": 6,
   "id": "da989f17-7bfa-409f-b631-1a29e024d6bf",
   "metadata": {
    "execution": {
     "iopub.execute_input": "2025-03-20T15:28:18.966560Z",
     "iopub.status.busy": "2025-03-20T15:28:18.965630Z",
     "iopub.status.idle": "2025-03-20T15:28:18.981341Z",
     "shell.execute_reply": "2025-03-20T15:28:18.980175Z",
     "shell.execute_reply.started": "2025-03-20T15:28:18.966483Z"
    }
   },
   "outputs": [
    {
     "data": {
      "text/plain": [
       "1.3873895903867723"
      ]
     },
     "execution_count": 6,
     "metadata": {},
     "output_type": "execute_result"
    }
   ],
   "source": [
    "s3cmd_out = \"\"\"100453950415    5798 objects s3://sim-data/DYAMOND3_example_data/5km-RAL3/3d/data.full.v2.3d.z10.zarr/\n",
    " 28571117776    1472 objects s3://sim-data/DYAMOND3_example_data/5km-RAL3/3d/data.full.v2.3d.z9.zarr/\n",
    "  7611356324     516 objects s3://sim-data/DYAMOND3_example_data/5km-RAL3/3d/data.full.v2.3d.z8.zarr/\n",
    "  2005783338     504 objects s3://sim-data/DYAMOND3_example_data/5km-RAL3/3d/data.full.v2.3d.z7.zarr/\n",
    "   531383133     502 objects s3://sim-data/DYAMOND3_example_data/5km-RAL3/3d/data.full.v2.3d.z6.zarr/\n",
    "   142233524     501 objects s3://sim-data/DYAMOND3_example_data/5km-RAL3/3d/data.full.v2.3d.z5.zarr/\n",
    "    38572140     501 objects s3://sim-data/DYAMOND3_example_data/5km-RAL3/3d/data.full.v2.3d.z4.zarr/\n",
    "    10500963     501 objects s3://sim-data/DYAMOND3_example_data/5km-RAL3/3d/data.full.v2.3d.z3.zarr/\n",
    "     2852647     501 objects s3://sim-data/DYAMOND3_example_data/5km-RAL3/3d/data.full.v2.3d.z2.zarr/\n",
    "      789205     501 objects s3://sim-data/DYAMOND3_example_data/5km-RAL3/3d/data.full.v2.3d.z1.zarr/\n",
    "      225654     501 objects s3://sim-data/DYAMOND3_example_data/5km-RAL3/3d/data.full.v2.3d.z0.zarr/\"\"\"\n",
    "lines = s3cmd_out.split('\\n')\n",
    "sizes = [int(l.split()[0].strip()) for l in lines]\n",
    "sum(sizes) / sizes[0]\n"
   ]
  },
  {
   "cell_type": "code",
   "execution_count": 1,
   "id": "3b72fb08-2eea-4f1a-809a-17d1bc8f5674",
   "metadata": {
    "execution": {
     "iopub.execute_input": "2025-03-21T17:27:20.198115Z",
     "iopub.status.busy": "2025-03-21T17:27:20.197223Z",
     "iopub.status.idle": "2025-03-21T17:27:20.214552Z",
     "shell.execute_reply": "2025-03-21T17:27:20.213898Z",
     "shell.execute_reply.started": "2025-03-21T17:27:20.198030Z"
    }
   },
   "outputs": [
    {
     "data": {
      "text/plain": [
       "76.8398"
      ]
     },
     "execution_count": 1,
     "metadata": {},
     "output_type": "execute_result"
    }
   ],
   "source": [
    "55.4 * 1.387"
   ]
  },
  {
   "cell_type": "code",
   "execution_count": 1,
   "id": "aaf2c18c-7f58-43ca-bbfd-1e9821af6ad3",
   "metadata": {
    "execution": {
     "iopub.execute_input": "2025-04-03T09:25:01.306659Z",
     "iopub.status.busy": "2025-04-03T09:25:01.306181Z",
     "iopub.status.idle": "2025-04-03T09:25:01.962209Z",
     "shell.execute_reply": "2025-04-03T09:25:01.961337Z",
     "shell.execute_reply.started": "2025-04-03T09:25:01.306634Z"
    }
   },
   "outputs": [],
   "source": [
    "import pandas as pd"
   ]
  },
  {
   "cell_type": "code",
   "execution_count": 2,
   "id": "cd1a9e68-81bc-4ac3-a73f-67855028d322",
   "metadata": {
    "execution": {
     "iopub.execute_input": "2025-04-03T09:26:05.636632Z",
     "iopub.status.busy": "2025-04-03T09:26:05.635568Z",
     "iopub.status.idle": "2025-04-03T09:26:05.654603Z",
     "shell.execute_reply": "2025-04-03T09:26:05.652678Z",
     "shell.execute_reply.started": "2025-04-03T09:26:05.636543Z"
    }
   },
   "outputs": [],
   "source": [
    "start = pd.Timestamp('2020-01-20') \n",
    "end = pd.Timestamp('2021-04-01')"
   ]
  },
  {
   "cell_type": "code",
   "execution_count": 3,
   "id": "be0a28b9-6a66-46fa-91d1-819c7d174316",
   "metadata": {
    "execution": {
     "iopub.execute_input": "2025-04-03T09:26:09.676351Z",
     "iopub.status.busy": "2025-04-03T09:26:09.675450Z",
     "iopub.status.idle": "2025-04-03T09:26:09.690434Z",
     "shell.execute_reply": "2025-04-03T09:26:09.689605Z",
     "shell.execute_reply.started": "2025-04-03T09:26:09.676268Z"
    }
   },
   "outputs": [
    {
     "data": {
      "text/plain": [
       "Timedelta('437 days 00:00:00')"
      ]
     },
     "execution_count": 3,
     "metadata": {},
     "output_type": "execute_result"
    }
   ],
   "source": [
    "end - start"
   ]
  },
  {
   "cell_type": "code",
   "execution_count": 8,
   "id": "0fa257f4-da17-425c-a011-02aed6c4801e",
   "metadata": {
    "execution": {
     "iopub.execute_input": "2025-04-03T09:29:45.972942Z",
     "iopub.status.busy": "2025-04-03T09:29:45.971311Z",
     "iopub.status.idle": "2025-04-03T09:29:45.982544Z",
     "shell.execute_reply": "2025-04-03T09:29:45.980155Z",
     "shell.execute_reply.started": "2025-04-03T09:29:45.972856Z"
    }
   },
   "outputs": [],
   "source": [
    "s2d_z10 = 586863976002\n",
    "s3d_z10 = 1627744309002"
   ]
  },
  {
   "cell_type": "code",
   "execution_count": 15,
   "id": "258bfad2-5e3b-412d-a950-9aa8438adbc6",
   "metadata": {
    "execution": {
     "iopub.execute_input": "2025-04-03T10:25:40.307171Z",
     "iopub.status.busy": "2025-04-03T10:25:40.306251Z",
     "iopub.status.idle": "2025-04-03T10:25:40.316996Z",
     "shell.execute_reply": "2025-04-03T10:25:40.315793Z",
     "shell.execute_reply.started": "2025-04-03T10:25:40.307092Z"
    }
   },
   "outputs": [
    {
     "data": {
      "text/plain": [
       "0.586863976002"
      ]
     },
     "execution_count": 15,
     "metadata": {},
     "output_type": "execute_result"
    }
   ],
   "source": [
    "s2d_z10 / 1e12"
   ]
  },
  {
   "cell_type": "code",
   "execution_count": 16,
   "id": "0c444478-3dc6-4e41-a59a-c87abcc5e914",
   "metadata": {
    "execution": {
     "iopub.execute_input": "2025-04-03T10:25:49.851968Z",
     "iopub.status.busy": "2025-04-03T10:25:49.850452Z",
     "iopub.status.idle": "2025-04-03T10:25:49.864138Z",
     "shell.execute_reply": "2025-04-03T10:25:49.862549Z",
     "shell.execute_reply.started": "2025-04-03T10:25:49.851890Z"
    }
   },
   "outputs": [
    {
     "data": {
      "text/plain": [
       "1.627744309002"
      ]
     },
     "execution_count": 16,
     "metadata": {},
     "output_type": "execute_result"
    }
   ],
   "source": [
    "s3d_z10 / 1e12"
   ]
  },
  {
   "cell_type": "code",
   "execution_count": 5,
   "id": "5779560a-4948-4892-9d34-2b53bd8041cc",
   "metadata": {
    "execution": {
     "iopub.execute_input": "2025-04-03T09:28:54.385209Z",
     "iopub.status.busy": "2025-04-03T09:28:54.384927Z",
     "iopub.status.idle": "2025-04-03T09:28:54.388530Z",
     "shell.execute_reply": "2025-04-03T09:28:54.387896Z",
     "shell.execute_reply.started": "2025-04-03T09:28:54.385184Z"
    }
   },
   "outputs": [],
   "source": [
    "completed_days = 72 / 2"
   ]
  },
  {
   "cell_type": "code",
   "execution_count": 7,
   "id": "132e13b3-415d-40b1-bb19-d3c1ae8dca88",
   "metadata": {
    "execution": {
     "iopub.execute_input": "2025-04-03T09:29:25.972708Z",
     "iopub.status.busy": "2025-04-03T09:29:25.972271Z",
     "iopub.status.idle": "2025-04-03T09:29:25.975940Z",
     "shell.execute_reply": "2025-04-03T09:29:25.975569Z",
     "shell.execute_reply.started": "2025-04-03T09:29:25.972690Z"
    }
   },
   "outputs": [
    {
     "data": {
      "text/plain": [
       "7.123876597579833"
      ]
     },
     "execution_count": 7,
     "metadata": {},
     "output_type": "execute_result"
    }
   ],
   "source": [
    "s2d_z10 / completed_days * 437 / 1e12"
   ]
  },
  {
   "cell_type": "code",
   "execution_count": 9,
   "id": "6b9214f7-c400-4b0b-b3e5-4bcee98f8a8a",
   "metadata": {
    "execution": {
     "iopub.execute_input": "2025-04-03T09:29:57.485662Z",
     "iopub.status.busy": "2025-04-03T09:29:57.485070Z",
     "iopub.status.idle": "2025-04-03T09:29:57.492665Z",
     "shell.execute_reply": "2025-04-03T09:29:57.491768Z",
     "shell.execute_reply.started": "2025-04-03T09:29:57.485609Z"
    }
   },
   "outputs": [
    {
     "data": {
      "text/plain": [
       "19.7590073064965"
      ]
     },
     "execution_count": 9,
     "metadata": {},
     "output_type": "execute_result"
    }
   ],
   "source": [
    "s3d_z10 / completed_days * 437 / 1e12"
   ]
  },
  {
   "cell_type": "code",
   "execution_count": 17,
   "id": "a946bf18-7ac3-41d5-9667-35e0506b7691",
   "metadata": {
    "execution": {
     "iopub.execute_input": "2025-04-03T10:26:23.903251Z",
     "iopub.status.busy": "2025-04-03T10:26:23.902332Z",
     "iopub.status.idle": "2025-04-03T10:26:23.916247Z",
     "shell.execute_reply": "2025-04-03T10:26:23.914689Z",
     "shell.execute_reply.started": "2025-04-03T10:26:23.903169Z"
    }
   },
   "outputs": [
    {
     "data": {
      "text/plain": [
       "26.882883904076333"
      ]
     },
     "execution_count": 17,
     "metadata": {},
     "output_type": "execute_result"
    }
   ],
   "source": [
    "(s2d_z10 / completed_days * 437 + s3d_z10 / completed_days * 437) / 1e12\n"
   ]
  },
  {
   "cell_type": "code",
   "execution_count": 18,
   "id": "5e8034af-5847-466b-a82e-6115cb41e45c",
   "metadata": {
    "execution": {
     "iopub.execute_input": "2025-04-03T10:26:24.329939Z",
     "iopub.status.busy": "2025-04-03T10:26:24.328773Z",
     "iopub.status.idle": "2025-04-03T10:26:24.337339Z",
     "shell.execute_reply": "2025-04-03T10:26:24.336437Z",
     "shell.execute_reply.started": "2025-04-03T10:26:24.329865Z"
    }
   },
   "outputs": [
    {
     "data": {
      "text/plain": [
       "37.286559974953875"
      ]
     },
     "execution_count": 18,
     "metadata": {},
     "output_type": "execute_result"
    }
   ],
   "source": [
    "(s2d_z10 / completed_days * 437 + s3d_z10 / completed_days * 437) / 1e12 * 1.387\n"
   ]
  },
  {
   "cell_type": "code",
   "execution_count": 12,
   "id": "83853a7e-a023-4d56-b96c-5411c26f0cf3",
   "metadata": {
    "execution": {
     "iopub.execute_input": "2025-04-03T10:17:33.143073Z",
     "iopub.status.busy": "2025-04-03T10:17:33.142151Z",
     "iopub.status.idle": "2025-04-03T10:17:33.151913Z",
     "shell.execute_reply": "2025-04-03T10:17:33.150723Z",
     "shell.execute_reply.started": "2025-04-03T10:17:33.142988Z"
    }
   },
   "outputs": [
    {
     "data": {
      "text/plain": [
       "874"
      ]
     },
     "execution_count": 12,
     "metadata": {},
     "output_type": "execute_result"
    }
   ],
   "source": [
    "437 * 2"
   ]
  },
  {
   "cell_type": "code",
   "execution_count": 13,
   "id": "e6148d1d-4565-4790-af4d-f00cb19086d6",
   "metadata": {
    "execution": {
     "iopub.execute_input": "2025-04-03T10:17:46.820470Z",
     "iopub.status.busy": "2025-04-03T10:17:46.820180Z",
     "iopub.status.idle": "2025-04-03T10:17:46.824847Z",
     "shell.execute_reply": "2025-04-03T10:17:46.824151Z",
     "shell.execute_reply.started": "2025-04-03T10:17:46.820446Z"
    }
   },
   "outputs": [
    {
     "data": {
      "text/plain": [
       "12.13888888888889"
      ]
     },
     "execution_count": 13,
     "metadata": {},
     "output_type": "execute_result"
    }
   ],
   "source": [
    "437 * 2 / 72"
   ]
  },
  {
   "cell_type": "code",
   "execution_count": 14,
   "id": "b14faf7c-190e-4db7-9ce8-bed93a9191b7",
   "metadata": {
    "execution": {
     "iopub.execute_input": "2025-04-03T10:18:05.821515Z",
     "iopub.status.busy": "2025-04-03T10:18:05.819995Z",
     "iopub.status.idle": "2025-04-03T10:18:05.827545Z",
     "shell.execute_reply": "2025-04-03T10:18:05.826720Z",
     "shell.execute_reply.started": "2025-04-03T10:18:05.821433Z"
    }
   },
   "outputs": [
    {
     "data": {
      "text/plain": [
       "30.34722222222222"
      ]
     },
     "execution_count": 14,
     "metadata": {},
     "output_type": "execute_result"
    }
   ],
   "source": [
    "437 * 2 / 72 * 2.5"
   ]
  },
  {
   "cell_type": "code",
   "execution_count": null,
   "id": "9fc873a6-7ad0-496f-9f8b-6bebabffe540",
   "metadata": {},
   "outputs": [],
   "source": []
  }
 ],
 "metadata": {
  "kernelspec": {
   "display_name": "hackathon_env",
   "language": "python",
   "name": "hackathon_env"
  },
  "language_info": {
   "codemirror_mode": {
    "name": "ipython",
    "version": 3
   },
   "file_extension": ".py",
   "mimetype": "text/x-python",
   "name": "python",
   "nbconvert_exporter": "python",
   "pygments_lexer": "ipython3",
   "version": "3.12.9"
  }
 },
 "nbformat": 4,
 "nbformat_minor": 5
}
