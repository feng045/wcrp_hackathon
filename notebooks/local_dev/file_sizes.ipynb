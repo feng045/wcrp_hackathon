{
 "cells": [
  {
   "cell_type": "code",
   "execution_count": 20,
   "id": "04d7c6b7-a115-4a2a-8ff3-7492f819927a",
   "metadata": {
    "execution": {
     "iopub.execute_input": "2025-03-20T11:53:46.940960Z",
     "iopub.status.busy": "2025-03-20T11:53:46.940402Z",
     "iopub.status.idle": "2025-03-20T11:53:46.947485Z",
     "shell.execute_reply": "2025-03-20T11:53:46.946709Z",
     "shell.execute_reply.started": "2025-03-20T11:53:46.940913Z"
    }
   },
   "outputs": [
    {
     "name": "stdout",
     "output_type": "stream",
     "text": [
      ".pp for 400 days: 40.00T\n"
     ]
    }
   ],
   "source": [
    "# PP files.\n",
    "dt = 0.5 # day\n",
    "apvera = 9 # G\n",
    "apverb = 12 # G\n",
    "apverc = 23 # G\n",
    "apverd = 6 # G\n",
    "\n",
    "pp_total_per_day = (apvera + apverb + apverc + apverd) / dt\n",
    "pp_total_400d = pp_total_per_day * 400\n",
    "print(f'.pp for 400 days: {pp_total_400d / 1e3:.2f}T')\n",
    "\n"
   ]
  },
  {
   "cell_type": "code",
   "execution_count": 18,
   "id": "8f39347d-4813-4e42-ad1d-1628c1778bff",
   "metadata": {
    "execution": {
     "iopub.execute_input": "2025-03-20T11:53:35.005903Z",
     "iopub.status.busy": "2025-03-20T11:53:35.004567Z",
     "iopub.status.idle": "2025-03-20T11:53:35.020589Z",
     "shell.execute_reply": "2025-03-20T11:53:35.018877Z",
     "shell.execute_reply.started": "2025-03-20T11:53:35.005778Z"
    }
   },
   "outputs": [
    {
     "name": "stdout",
     "output_type": "stream",
     "text": [
      ".nc for 400 days: 121.60T (2d/3d): 16.92%\n"
     ]
    }
   ],
   "source": [
    "# NC files (temporary)\n",
    "dt = 0.5\n",
    "data2d = 22\n",
    "data3d = 130\n",
    "\n",
    "nc_total_per_day = (data2d + data3d) / dt\n",
    "nc_ratio_2d_to_3d = data2d / data3d\n",
    "\n",
    "nc_total_400d = nc_total_per_day * 400\n",
    "print(f'.nc for 400 days: {nc_total_400d / 1e3:.2f}T (2d/3d): {nc_ratio_2d_to_3d * 100:.2f}%')"
   ]
  },
  {
   "cell_type": "code",
   "execution_count": 17,
   "id": "3fa500e7-eadd-48ec-bf12-6b008c74aa7b",
   "metadata": {
    "execution": {
     "iopub.execute_input": "2025-03-20T11:53:27.056732Z",
     "iopub.status.busy": "2025-03-20T11:53:27.055933Z",
     "iopub.status.idle": "2025-03-20T11:53:27.067002Z",
     "shell.execute_reply": "2025-03-20T11:53:27.065708Z",
     "shell.execute_reply.started": "2025-03-20T11:53:27.056660Z"
    }
   },
   "outputs": [
    {
     "name": "stdout",
     "output_type": "stream",
     "text": [
      ".zarr for 400 days: 55.39T (2d/3d): 37.85%\n"
     ]
    }
   ],
   "source": [
    "# ZARR stores\n",
    "# 2d\n",
    "dt2d = 6.5\n",
    "zarr2d = 247127765303 / 1e9\n",
    "\n",
    "dt3d = 1\n",
    "zarr3d = 100453950415 / 1e9 \n",
    "\n",
    "zarr_total_per_day = zarr2d / dt2d + zarr3d / dt3d\n",
    "zarr_ratio_2d_to_3d = (zarr2d / dt2d) / (zarr3d / dt3d)\n",
    "zarr_total_400d = zarr_total_per_day * 400\n",
    "\n",
    "\n",
    "print(f'.zarr for 400 days: {zarr_total_400d / 1e3:.2f}T (2d/3d): {zarr_ratio_2d_to_3d * 100:.2f}%')"
   ]
  },
  {
   "cell_type": "code",
   "execution_count": 6,
   "id": "da989f17-7bfa-409f-b631-1a29e024d6bf",
   "metadata": {
    "execution": {
     "iopub.execute_input": "2025-03-20T15:28:18.966560Z",
     "iopub.status.busy": "2025-03-20T15:28:18.965630Z",
     "iopub.status.idle": "2025-03-20T15:28:18.981341Z",
     "shell.execute_reply": "2025-03-20T15:28:18.980175Z",
     "shell.execute_reply.started": "2025-03-20T15:28:18.966483Z"
    }
   },
   "outputs": [
    {
     "data": {
      "text/plain": [
       "1.3873895903867723"
      ]
     },
     "execution_count": 6,
     "metadata": {},
     "output_type": "execute_result"
    }
   ],
   "source": [
    "s3cmd_out = \"\"\"100453950415    5798 objects s3://sim-data/DYAMOND3_example_data/5km-RAL3/3d/data.full.v2.3d.z10.zarr/\n",
    " 28571117776    1472 objects s3://sim-data/DYAMOND3_example_data/5km-RAL3/3d/data.full.v2.3d.z9.zarr/\n",
    "  7611356324     516 objects s3://sim-data/DYAMOND3_example_data/5km-RAL3/3d/data.full.v2.3d.z8.zarr/\n",
    "  2005783338     504 objects s3://sim-data/DYAMOND3_example_data/5km-RAL3/3d/data.full.v2.3d.z7.zarr/\n",
    "   531383133     502 objects s3://sim-data/DYAMOND3_example_data/5km-RAL3/3d/data.full.v2.3d.z6.zarr/\n",
    "   142233524     501 objects s3://sim-data/DYAMOND3_example_data/5km-RAL3/3d/data.full.v2.3d.z5.zarr/\n",
    "    38572140     501 objects s3://sim-data/DYAMOND3_example_data/5km-RAL3/3d/data.full.v2.3d.z4.zarr/\n",
    "    10500963     501 objects s3://sim-data/DYAMOND3_example_data/5km-RAL3/3d/data.full.v2.3d.z3.zarr/\n",
    "     2852647     501 objects s3://sim-data/DYAMOND3_example_data/5km-RAL3/3d/data.full.v2.3d.z2.zarr/\n",
    "      789205     501 objects s3://sim-data/DYAMOND3_example_data/5km-RAL3/3d/data.full.v2.3d.z1.zarr/\n",
    "      225654     501 objects s3://sim-data/DYAMOND3_example_data/5km-RAL3/3d/data.full.v2.3d.z0.zarr/\"\"\"\n",
    "lines = s3cmd_out.split('\\n')\n",
    "sizes = [int(l.split()[0].strip()) for l in lines]\n",
    "sum(sizes) / sizes[0]\n"
   ]
  },
  {
   "cell_type": "code",
   "execution_count": 1,
   "id": "3b72fb08-2eea-4f1a-809a-17d1bc8f5674",
   "metadata": {
    "execution": {
     "iopub.execute_input": "2025-03-21T17:27:20.198115Z",
     "iopub.status.busy": "2025-03-21T17:27:20.197223Z",
     "iopub.status.idle": "2025-03-21T17:27:20.214552Z",
     "shell.execute_reply": "2025-03-21T17:27:20.213898Z",
     "shell.execute_reply.started": "2025-03-21T17:27:20.198030Z"
    }
   },
   "outputs": [
    {
     "data": {
      "text/plain": [
       "76.8398"
      ]
     },
     "execution_count": 1,
     "metadata": {},
     "output_type": "execute_result"
    }
   ],
   "source": [
    "55.4 * 1.387"
   ]
  },
  {
   "cell_type": "code",
   "execution_count": null,
   "id": "aaf2c18c-7f58-43ca-bbfd-1e9821af6ad3",
   "metadata": {},
   "outputs": [],
   "source": []
  }
 ],
 "metadata": {
  "kernelspec": {
   "display_name": "hackathon_env",
   "language": "python",
   "name": "hackathon_env"
  },
  "language_info": {
   "codemirror_mode": {
    "name": "ipython",
    "version": 3
   },
   "file_extension": ".py",
   "mimetype": "text/x-python",
   "name": "python",
   "nbconvert_exporter": "python",
   "pygments_lexer": "ipython3",
   "version": "3.12.9"
  }
 },
 "nbformat": 4,
 "nbformat_minor": 5
}
