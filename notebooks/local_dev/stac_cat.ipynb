{
 "cells": [
  {
   "cell_type": "code",
   "execution_count": 3,
   "id": "42a1a2a3-aa06-4cf2-9d47-0024b1b76817",
   "metadata": {
    "execution": {
     "iopub.execute_input": "2025-04-23T18:01:47.027197Z",
     "iopub.status.busy": "2025-04-23T18:01:47.025137Z",
     "iopub.status.idle": "2025-04-23T18:01:47.080417Z",
     "shell.execute_reply": "2025-04-23T18:01:47.079726Z",
     "shell.execute_reply.started": "2025-04-23T18:01:47.027109Z"
    }
   },
   "outputs": [],
   "source": [
    "from pystac.client import Client"
   ]
  },
  {
   "cell_type": "code",
   "execution_count": 4,
   "id": "d7426347-5f33-46a2-a249-585505afb0d8",
   "metadata": {
    "execution": {
     "iopub.execute_input": "2025-04-23T18:01:47.232024Z",
     "iopub.status.busy": "2025-04-23T18:01:47.231077Z",
     "iopub.status.idle": "2025-04-23T18:01:47.474406Z",
     "shell.execute_reply": "2025-04-23T18:01:47.473370Z",
     "shell.execute_reply.started": "2025-04-23T18:01:47.231925Z"
    }
   },
   "outputs": [
    {
     "name": "stdout",
     "output_type": "stream",
     "text": [
      "DYAMOND3_example_data_5km-RAL3_2d_data.2d.z9.earth2grid\n",
      "DYAMOND3_example_data_5km-RAL3_2d_data.2d.z9\n",
      "DYAMOND3_example_data_5km-RAL3_2d_data.2d.z8.earth2grid\n",
      "DYAMOND3_example_data_5km-RAL3_2d_data.2d.z8\n",
      "DYAMOND3_example_data_5km-RAL3_2d_data.2d.z7.earth2grid\n",
      "DYAMOND3_example_data_5km-RAL3_2d_data.2d.z7\n",
      "DYAMOND3_example_data_5km-RAL3_2d_data.2d.z6.earth2grid\n",
      "DYAMOND3_example_data_5km-RAL3_2d_data.2d.z6\n",
      "DYAMOND3_example_data_5km-RAL3_2d_data.2d.z5.earth2grid\n",
      "DYAMOND3_example_data_5km-RAL3_2d_data.2d.z5\n",
      "DYAMOND3_example_data_5km-RAL3_2d_data.2d.z4.earth2grid\n",
      "DYAMOND3_example_data_5km-RAL3_2d_data.2d.z4\n",
      "DYAMOND3_example_data_5km-RAL3_2d_data.2d.z3.earth2grid\n",
      "DYAMOND3_example_data_5km-RAL3_2d_data.2d.z3\n",
      "DYAMOND3_example_data_5km-RAL3_2d_data.2d.z2.earth2grid\n",
      "DYAMOND3_example_data_5km-RAL3_2d_data.2d.z2\n",
      "DYAMOND3_example_data_5km-RAL3_2d_data.2d.z10.earth2grid\n",
      "DYAMOND3_example_data_5km-RAL3_2d_data.2d.z10\n",
      "DYAMOND3_example_data_5km-RAL3_2d_data.2d.z1.earth2grid\n",
      "DYAMOND3_example_data_5km-RAL3_2d_data.2d.z1\n",
      "DYAMOND3_example_data_5km-RAL3_2d_data.2d.z0.earth2grid\n",
      "DYAMOND3_example_data_5km-RAL3_2d_data.2d.z0\n"
     ]
    }
   ],
   "source": [
    "client = Client.open(url='https://api.stac.ceda.ac.uk/')\n",
    "search = client.search(collections=['DYAMOND3_N2560'])\n",
    "for it in search.items():\n",
    "     print(it.id)"
   ]
  },
  {
   "cell_type": "code",
   "execution_count": null,
   "id": "656a7324-5f30-4da1-9c84-11ab11ade883",
   "metadata": {},
   "outputs": [],
   "source": []
  },
  {
   "cell_type": "code",
   "execution_count": null,
   "id": "78e8a0a4-7ea5-41b0-9350-d5236b4a4801",
   "metadata": {},
   "outputs": [],
   "source": []
  }
 ],
 "metadata": {
  "kernelspec": {
   "display_name": "hackathon_env",
   "language": "python",
   "name": "hackathon_env"
  },
  "language_info": {
   "codemirror_mode": {
    "name": "ipython",
    "version": 3
   },
   "file_extension": ".py",
   "mimetype": "text/x-python",
   "name": "python",
   "nbconvert_exporter": "python",
   "pygments_lexer": "ipython3",
   "version": "3.12.9"
  }
 },
 "nbformat": 4,
 "nbformat_minor": 5
}
