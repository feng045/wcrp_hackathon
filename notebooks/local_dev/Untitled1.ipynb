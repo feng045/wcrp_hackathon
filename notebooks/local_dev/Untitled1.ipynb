{
 "cells": [
  {
   "cell_type": "code",
   "execution_count": 6,
   "id": "c88038e5-56e8-4440-9b9a-4357a00b7654",
   "metadata": {
    "execution": {
     "iopub.execute_input": "2025-04-23T20:52:07.482921Z",
     "iopub.status.busy": "2025-04-23T20:52:07.482312Z",
     "iopub.status.idle": "2025-04-23T20:52:07.488057Z",
     "shell.execute_reply": "2025-04-23T20:52:07.486914Z",
     "shell.execute_reply.started": "2025-04-23T20:52:07.482867Z"
    }
   },
   "outputs": [],
   "source": [
    "import numpy as np\n",
    "Re = 6371e3"
   ]
  },
  {
   "cell_type": "code",
   "execution_count": 7,
   "id": "bf27090e-5ebc-4459-b71d-4e2b1b928e61",
   "metadata": {
    "execution": {
     "iopub.execute_input": "2025-04-23T20:52:08.035541Z",
     "iopub.status.busy": "2025-04-23T20:52:08.034719Z",
     "iopub.status.idle": "2025-04-23T20:52:08.046843Z",
     "shell.execute_reply": "2025-04-23T20:52:08.044077Z",
     "shell.execute_reply.started": "2025-04-23T20:52:08.035458Z"
    }
   },
   "outputs": [],
   "source": [
    "c = 2 * np.pi * Re"
   ]
  },
  {
   "cell_type": "code",
   "execution_count": 8,
   "id": "f450b680-e294-46d2-ba7a-201ace150805",
   "metadata": {
    "execution": {
     "iopub.execute_input": "2025-04-23T20:52:08.423742Z",
     "iopub.status.busy": "2025-04-23T20:52:08.422974Z",
     "iopub.status.idle": "2025-04-23T20:52:08.433451Z",
     "shell.execute_reply": "2025-04-23T20:52:08.432201Z",
     "shell.execute_reply.started": "2025-04-23T20:52:08.423674Z"
    }
   },
   "outputs": [
    {
     "data": {
      "text/plain": [
       "40030173.59204114"
      ]
     },
     "execution_count": 8,
     "metadata": {},
     "output_type": "execute_result"
    }
   ],
   "source": [
    "c"
   ]
  },
  {
   "cell_type": "code",
   "execution_count": 9,
   "id": "0c5fa361-0419-4424-a33c-c71b03c954df",
   "metadata": {
    "execution": {
     "iopub.execute_input": "2025-04-23T20:52:08.941972Z",
     "iopub.status.busy": "2025-04-23T20:52:08.940762Z",
     "iopub.status.idle": "2025-04-23T20:52:08.953088Z",
     "shell.execute_reply": "2025-04-23T20:52:08.951865Z",
     "shell.execute_reply.started": "2025-04-23T20:52:08.941857Z"
    }
   },
   "outputs": [
    {
     "data": {
      "text/plain": [
       "6671695.598673523"
      ]
     },
     "execution_count": 9,
     "metadata": {},
     "output_type": "execute_result"
    }
   ],
   "source": [
    "c * 60 / 360"
   ]
  },
  {
   "cell_type": "code",
   "execution_count": 10,
   "id": "8a5bf1e5-a495-49ca-bd59-a67a72df8b68",
   "metadata": {
    "execution": {
     "iopub.execute_input": "2025-04-23T20:52:12.757372Z",
     "iopub.status.busy": "2025-04-23T20:52:12.756559Z",
     "iopub.status.idle": "2025-04-23T20:52:12.770331Z",
     "shell.execute_reply": "2025-04-23T20:52:12.767985Z",
     "shell.execute_reply.started": "2025-04-23T20:52:12.757302Z"
    }
   },
   "outputs": [
    {
     "data": {
      "text/plain": [
       "257.3956635290711"
      ]
     },
     "execution_count": 10,
     "metadata": {},
     "output_type": "execute_result"
    }
   ],
   "source": [
    "c * 60 / 360 / (0.3 * 86400)"
   ]
  },
  {
   "cell_type": "code",
   "execution_count": null,
   "id": "ad5bdb00-8577-4bb9-b99e-fd0ac8078695",
   "metadata": {},
   "outputs": [],
   "source": []
  }
 ],
 "metadata": {
  "kernelspec": {
   "display_name": "hackathon_env",
   "language": "python",
   "name": "hackathon_env"
  },
  "language_info": {
   "codemirror_mode": {
    "name": "ipython",
    "version": 3
   },
   "file_extension": ".py",
   "mimetype": "text/x-python",
   "name": "python",
   "nbconvert_exporter": "python",
   "pygments_lexer": "ipython3",
   "version": "3.12.9"
  }
 },
 "nbformat": 4,
 "nbformat_minor": 5
}
