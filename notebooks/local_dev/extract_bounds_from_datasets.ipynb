{
 "cells": [
  {
   "cell_type": "code",
   "execution_count": 16,
   "id": "4fee1355-a65e-4acb-a49b-ae8157cee6f0",
   "metadata": {
    "execution": {
     "iopub.execute_input": "2025-04-25T13:48:12.122028Z",
     "iopub.status.busy": "2025-04-25T13:48:12.121458Z",
     "iopub.status.idle": "2025-04-25T13:48:12.126822Z",
     "shell.execute_reply": "2025-04-25T13:48:12.125766Z",
     "shell.execute_reply.started": "2025-04-25T13:48:12.121981Z"
    }
   },
   "outputs": [],
   "source": [
    "import intake"
   ]
  },
  {
   "cell_type": "code",
   "execution_count": 17,
   "id": "4d960c3f-d791-4de8-8827-9a3e4d9bdee0",
   "metadata": {
    "execution": {
     "iopub.execute_input": "2025-04-25T13:48:12.306705Z",
     "iopub.status.busy": "2025-04-25T13:48:12.306365Z",
     "iopub.status.idle": "2025-04-25T13:48:12.311031Z",
     "shell.execute_reply": "2025-04-25T13:48:12.310126Z",
     "shell.execute_reply.started": "2025-04-25T13:48:12.306677Z"
    }
   },
   "outputs": [],
   "source": [
    "import warnings\n",
    "\n",
    "# Suppress specific FutureWarnings matching the message pattern\n",
    "warnings.filterwarnings(\n",
    "    \"ignore\",\n",
    "    message=\".*The return type of `Dataset.dims` will be changed.*\",\n",
    "    category=FutureWarning,\n",
    ")"
   ]
  },
  {
   "cell_type": "code",
   "execution_count": 18,
   "id": "d3636d14-2474-4679-8000-9b8310318c77",
   "metadata": {
    "execution": {
     "iopub.execute_input": "2025-04-25T13:48:12.565386Z",
     "iopub.status.busy": "2025-04-25T13:48:12.564894Z",
     "iopub.status.idle": "2025-04-25T13:48:12.597880Z",
     "shell.execute_reply": "2025-04-25T13:48:12.597255Z",
     "shell.execute_reply.started": "2025-04-25T13:48:12.565345Z"
    }
   },
   "outputs": [],
   "source": [
    "cat = intake.open_catalog('/home/markmuetz/projects/opt/catalog/online/main.yaml')"
   ]
  },
  {
   "cell_type": "code",
   "execution_count": 57,
   "id": "ced16788-6356-48af-b34b-ee4dced0649b",
   "metadata": {
    "execution": {
     "iopub.execute_input": "2025-04-25T15:39:47.710588Z",
     "iopub.status.busy": "2025-04-25T15:39:47.710184Z",
     "iopub.status.idle": "2025-04-25T15:39:49.134050Z",
     "shell.execute_reply": "2025-04-25T15:39:49.133338Z",
     "shell.execute_reply.started": "2025-04-25T15:39:47.710555Z"
    }
   },
   "outputs": [],
   "source": [
    "#print(list(cat.keys()))\n",
    "import intake\n",
    "cat = intake.open_catalog('https://raw.githubusercontent.com/digital-earths-global-hackathon/catalog/e79212031c72d30344d03b378a3cb304d174f0c3/online/main.yaml')\n",
    "um_keys = [k for k in cat.keys() if k.startswith('um_') and not k == 'um_glm_n1280_CoMA9'] # um_glm_n1280_CoMA9 not available yet.\n",
    "datasets = {k: cat[key](zoom=9).to_dask()}  # open all at level 9 (level 10 not produced for N1280/10-km sims)."
   ]
  },
  {
   "cell_type": "code",
   "execution_count": 56,
   "id": "94fce4a8-9ee4-4855-8d65-aec697de11fc",
   "metadata": {
    "execution": {
     "iopub.execute_input": "2025-04-25T15:36:13.816303Z",
     "iopub.status.busy": "2025-04-25T15:36:13.815696Z",
     "iopub.status.idle": "2025-04-25T15:36:13.829793Z",
     "shell.execute_reply": "2025-04-25T15:36:13.828994Z",
     "shell.execute_reply.started": "2025-04-25T15:36:13.816274Z"
    }
   },
   "outputs": [
    {
     "data": {
      "application/yaml": "um_Africa_km4p4_RAL3P3_n1280_GAL9_nest:\n  args:\n    chunks: null\n    consolidated: true\n    urlpath: https://hackathon-o.s3-ext.jc.rl.ac.uk/sim-data/dev/v5/Africa_km4p4_RAL3P3.n1280_GAL9_nest/um.PT1H.hp_z8.zarr\n  description: ''\n  driver: intake_xarray.xzarr.ZarrSource\n  metadata:\n    catalog_dir: /home/markmuetz/projects/opt/catalog/online/\n    experiment_id: hackathon\n    geospatial_lat_max: 25.96\n    geospatial_lat_min: -40.0\n    geospatial_lon_max: 53.96\n    geospatial_lon_min: 340.0\n    project: global_hackathon\n    simulation_id: Africa_km4p4_RAL3P3_n1280_GAL9_nest\n    source_id: Unified_Model\n",
      "text/plain": [
       "um_Africa_km4p4_RAL3P3_n1280_GAL9_nest:\n",
       "  args:\n",
       "    chunks: null\n",
       "    consolidated: true\n",
       "    urlpath: https://hackathon-o.s3-ext.jc.rl.ac.uk/sim-data/dev/v5/Africa_km4p4_RAL3P3.n1280_GAL9_nest/um.PT1H.hp_z8.zarr\n",
       "  description: ''\n",
       "  driver: intake_xarray.xzarr.ZarrSource\n",
       "  metadata:\n",
       "    catalog_dir: /home/markmuetz/projects/opt/catalog/online/\n",
       "    experiment_id: hackathon\n",
       "    geospatial_lat_max: 25.96\n",
       "    geospatial_lat_min: -40.0\n",
       "    geospatial_lon_max: 53.96\n",
       "    geospatial_lon_min: 340.0\n",
       "    project: global_hackathon\n",
       "    simulation_id: Africa_km4p4_RAL3P3_n1280_GAL9_nest\n",
       "    source_id: Unified_Model\n"
      ]
     },
     "metadata": {
      "application/json": {
       "root": "um_Africa_km4p4_RAL3P3_n1280_GAL9_nest"
      }
     },
     "output_type": "display_data"
    }
   ],
   "source": [
    "cat['um_Africa_km4p4_RAL3P3_n1280_GAL9_nest']"
   ]
  },
  {
   "cell_type": "code",
   "execution_count": 28,
   "id": "a7c5d459-306b-4609-9b14-419c51297e97",
   "metadata": {
    "execution": {
     "iopub.execute_input": "2025-04-25T13:51:35.159691Z",
     "iopub.status.busy": "2025-04-25T13:51:35.158465Z",
     "iopub.status.idle": "2025-04-25T13:51:38.472155Z",
     "shell.execute_reply": "2025-04-25T13:51:38.469485Z",
     "shell.execute_reply.started": "2025-04-25T13:51:35.159582Z"
    }
   },
   "outputs": [
    {
     "name": "stdout",
     "output_type": "stream",
     "text": [
      "um_glm_n1280_CoMA9 not available yet\n"
     ]
    }
   ],
   "source": [
    "dss = {}\n",
    "for key in um_keys:\n",
    "    if key == 'um_glm_n1280_CoMA9':\n",
    "        print(f'{key} not available yet')\n",
    "        continue\n",
    "    dss[key] = cat[key](zoom=9).to_dask()"
   ]
  },
  {
   "cell_type": "code",
   "execution_count": 29,
   "id": "58092a3b-d0f7-429f-870f-3e180f0f086e",
   "metadata": {
    "execution": {
     "iopub.execute_input": "2025-04-25T13:51:59.857101Z",
     "iopub.status.busy": "2025-04-25T13:51:59.856186Z",
     "iopub.status.idle": "2025-04-25T13:51:59.866608Z",
     "shell.execute_reply": "2025-04-25T13:51:59.865517Z",
     "shell.execute_reply.started": "2025-04-25T13:51:59.857024Z"
    }
   },
   "outputs": [
    {
     "data": {
      "text/plain": [
       "dict_keys(['um_glm_n2560_RAL3p3', 'um_glm_n1280_GAL9', 'um_CTC_km4p4_RAL3P3_n1280_GAL9_nest', 'um_SAmer_km4p4_RAL3P3_n1280_GAL9_nest', 'um_Africa_km4p4_RAL3P3_n1280_GAL9_nest', 'um_SEA_km4p4_RAL3P3_n1280_GAL9_nest'])"
      ]
     },
     "execution_count": 29,
     "metadata": {},
     "output_type": "execute_result"
    }
   ],
   "source": [
    "dss"
   ]
  },
  {
   "cell_type": "code",
   "execution_count": 31,
   "id": "d421b10e-38ac-4d01-a06a-1f9247f41794",
   "metadata": {
    "execution": {
     "iopub.execute_input": "2025-04-25T15:22:16.576999Z",
     "iopub.status.busy": "2025-04-25T15:22:16.575908Z",
     "iopub.status.idle": "2025-04-25T15:22:16.587477Z",
     "shell.execute_reply": "2025-04-25T15:22:16.586131Z",
     "shell.execute_reply.started": "2025-04-25T15:22:16.576910Z"
    }
   },
   "outputs": [],
   "source": [
    "reg_dss = {k: ds for k, ds in dss.items() if ds.attrs['regional']}"
   ]
  },
  {
   "cell_type": "code",
   "execution_count": 33,
   "id": "c0ba77ea-1073-48a5-910e-91fba8429978",
   "metadata": {
    "execution": {
     "iopub.execute_input": "2025-04-25T15:22:29.099166Z",
     "iopub.status.busy": "2025-04-25T15:22:29.098701Z",
     "iopub.status.idle": "2025-04-25T15:22:29.102959Z",
     "shell.execute_reply": "2025-04-25T15:22:29.102398Z",
     "shell.execute_reply.started": "2025-04-25T15:22:29.099146Z"
    }
   },
   "outputs": [
    {
     "data": {
      "text/plain": [
       "dict_keys(['um_CTC_km4p4_RAL3P3_n1280_GAL9_nest', 'um_SAmer_km4p4_RAL3P3_n1280_GAL9_nest', 'um_Africa_km4p4_RAL3P3_n1280_GAL9_nest', 'um_SEA_km4p4_RAL3P3_n1280_GAL9_nest'])"
      ]
     },
     "execution_count": 33,
     "metadata": {},
     "output_type": "execute_result"
    }
   ],
   "source": [
    "reg_dss.keys()"
   ]
  },
  {
   "cell_type": "code",
   "execution_count": 48,
   "id": "eca87a62-cec2-4880-a6c2-b67a807e200a",
   "metadata": {
    "execution": {
     "iopub.execute_input": "2025-04-25T15:27:56.892018Z",
     "iopub.status.busy": "2025-04-25T15:27:56.890266Z",
     "iopub.status.idle": "2025-04-25T15:27:56.901468Z",
     "shell.execute_reply": "2025-04-25T15:27:56.899351Z",
     "shell.execute_reply.started": "2025-04-25T15:27:56.891928Z"
    }
   },
   "outputs": [],
   "source": [
    "ds = reg_dss['um_Africa_km4p4_RAL3P3_n1280_GAL9_nest']\n"
   ]
  },
  {
   "cell_type": "code",
   "execution_count": 49,
   "id": "bf6403c4-e408-4f87-a1ee-4efd247f34e7",
   "metadata": {
    "execution": {
     "iopub.execute_input": "2025-04-25T15:27:57.312978Z",
     "iopub.status.busy": "2025-04-25T15:27:57.312584Z",
     "iopub.status.idle": "2025-04-25T15:27:57.318875Z",
     "shell.execute_reply": "2025-04-25T15:27:57.317731Z",
     "shell.execute_reply.started": "2025-04-25T15:27:57.312946Z"
    }
   },
   "outputs": [],
   "source": [
    "def print_yaml_bounds(ds):\n",
    "    print(f\"      geospatial_lon_min: {ds.attrs['bounds']['lower_left_lon']:.2f}\")\n",
    "    print(f\"      geospatial_lon_max: {ds.attrs['bounds']['upper_right_lon']:.2f}\")    \n",
    "    print(f\"      geospatial_lat_min: {ds.attrs['bounds']['lower_left_lat']:.2f}\")\n",
    "    print(f\"      geospatial_lat_max: {ds.attrs['bounds']['upper_right_lat']:.2f}\")"
   ]
  },
  {
   "cell_type": "code",
   "execution_count": 50,
   "id": "3f4c618f-4cc4-4f0f-8b0f-30e1d646bb31",
   "metadata": {
    "execution": {
     "iopub.execute_input": "2025-04-25T15:27:57.735646Z",
     "iopub.status.busy": "2025-04-25T15:27:57.735212Z",
     "iopub.status.idle": "2025-04-25T15:27:57.741122Z",
     "shell.execute_reply": "2025-04-25T15:27:57.740122Z",
     "shell.execute_reply.started": "2025-04-25T15:27:57.735606Z"
    }
   },
   "outputs": [
    {
     "name": "stdout",
     "output_type": "stream",
     "text": [
      "      geospatial_lon_min: 340.00\n",
      "      geospatial_lon_max: 53.96\n",
      "      geospatial_lat_min: -40.00\n",
      "      geospatial_lat_max: 25.96\n"
     ]
    }
   ],
   "source": [
    "print_yaml_bounds(ds)"
   ]
  },
  {
   "cell_type": "code",
   "execution_count": 52,
   "id": "bbe82623-223c-4591-a2db-c08996e192e3",
   "metadata": {
    "execution": {
     "iopub.execute_input": "2025-04-25T15:28:55.822396Z",
     "iopub.status.busy": "2025-04-25T15:28:55.821477Z",
     "iopub.status.idle": "2025-04-25T15:28:55.832536Z",
     "shell.execute_reply": "2025-04-25T15:28:55.830968Z",
     "shell.execute_reply.started": "2025-04-25T15:28:55.822313Z"
    }
   },
   "outputs": [
    {
     "name": "stdout",
     "output_type": "stream",
     "text": [
      "um_CTC_km4p4_RAL3P3_n1280_GAL9_nest\n",
      "      geospatial_lon_min: 0.02\n",
      "      geospatial_lon_max: 359.98\n",
      "      geospatial_lat_min: -39.98\n",
      "      geospatial_lat_max: 25.98\n",
      "um_SAmer_km4p4_RAL3P3_n1280_GAL9_nest\n",
      "      geospatial_lon_min: 274.00\n",
      "      geospatial_lon_max: 333.96\n",
      "      geospatial_lat_min: -30.00\n",
      "      geospatial_lat_max: 13.96\n",
      "um_Africa_km4p4_RAL3P3_n1280_GAL9_nest\n",
      "      geospatial_lon_min: 340.00\n",
      "      geospatial_lon_max: 53.96\n",
      "      geospatial_lat_min: -40.00\n",
      "      geospatial_lat_max: 25.96\n",
      "um_SEA_km4p4_RAL3P3_n1280_GAL9_nest\n",
      "      geospatial_lon_min: 90.00\n",
      "      geospatial_lon_max: 153.96\n",
      "      geospatial_lat_min: -18.00\n",
      "      geospatial_lat_max: 25.96\n"
     ]
    }
   ],
   "source": [
    "for k, ds in reg_dss.items():\n",
    "    print(k)\n",
    "    print_yaml_bounds(ds)"
   ]
  },
  {
   "cell_type": "code",
   "execution_count": null,
   "id": "fc31c691-1aef-4eb6-bd23-5491a037ba9d",
   "metadata": {},
   "outputs": [],
   "source": []
  }
 ],
 "metadata": {
  "kernelspec": {
   "display_name": "hackathon_env",
   "language": "python",
   "name": "hackathon_env"
  },
  "language_info": {
   "codemirror_mode": {
    "name": "ipython",
    "version": 3
   },
   "file_extension": ".py",
   "mimetype": "text/x-python",
   "name": "python",
   "nbconvert_exporter": "python",
   "pygments_lexer": "ipython3",
   "version": "3.12.9"
  }
 },
 "nbformat": 4,
 "nbformat_minor": 5
}
