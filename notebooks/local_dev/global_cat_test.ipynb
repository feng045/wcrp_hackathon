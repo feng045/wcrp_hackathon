{
 "cells": [
  {
   "cell_type": "code",
   "execution_count": 1,
   "id": "d4f422c3-9dd0-4edc-919e-33c49cccef31",
   "metadata": {
    "execution": {
     "iopub.execute_input": "2025-04-24T09:37:56.984290Z",
     "iopub.status.busy": "2025-04-24T09:37:56.983674Z",
     "iopub.status.idle": "2025-04-24T09:37:59.171456Z",
     "shell.execute_reply": "2025-04-24T09:37:59.170970Z",
     "shell.execute_reply.started": "2025-04-24T09:37:56.984258Z"
    }
   },
   "outputs": [],
   "source": [
    "import intake"
   ]
  },
  {
   "cell_type": "code",
   "execution_count": 2,
   "id": "2543ead5-7ede-4a17-9df4-dd796722d9e8",
   "metadata": {
    "execution": {
     "iopub.execute_input": "2025-04-24T09:40:14.213889Z",
     "iopub.status.busy": "2025-04-24T09:40:14.212279Z",
     "iopub.status.idle": "2025-04-24T09:40:14.881511Z",
     "shell.execute_reply": "2025-04-24T09:40:14.880692Z",
     "shell.execute_reply.started": "2025-04-24T09:40:14.213796Z"
    }
   },
   "outputs": [],
   "source": [
    "cat = intake.open_catalog('https://raw.githubusercontent.com/digital-earths-global-hackathon/catalog/bd7a85e49b7d99f6787aaa1105b4f758c7614e7b/online/main.yaml')"
   ]
  },
  {
   "cell_type": "code",
   "execution_count": 6,
   "id": "4a66a5c6-72db-4d6f-b79f-3be73324ea73",
   "metadata": {
    "execution": {
     "iopub.execute_input": "2025-04-24T09:40:53.567599Z",
     "iopub.status.busy": "2025-04-24T09:40:53.566682Z",
     "iopub.status.idle": "2025-04-24T09:40:53.578738Z",
     "shell.execute_reply": "2025-04-24T09:40:53.577366Z",
     "shell.execute_reply.started": "2025-04-24T09:40:53.567524Z"
    }
   },
   "outputs": [
    {
     "data": {
      "text/plain": [
       "['ERA5', 'JRA3Q', 'MERRA2', 'icon_ngc4008', 'glm_n2560_RAL3p3']"
      ]
     },
     "execution_count": 6,
     "metadata": {},
     "output_type": "execute_result"
    }
   ],
   "source": [
    "list(cat.keys())"
   ]
  },
  {
   "cell_type": "code",
   "execution_count": 7,
   "id": "9854bbe9-0d07-4eb4-84cc-61e1e5d76837",
   "metadata": {
    "execution": {
     "iopub.execute_input": "2025-04-24T09:41:20.717312Z",
     "iopub.status.busy": "2025-04-24T09:41:20.716615Z",
     "iopub.status.idle": "2025-04-24T09:41:20.737518Z",
     "shell.execute_reply": "2025-04-24T09:41:20.736695Z",
     "shell.execute_reply.started": "2025-04-24T09:41:20.717286Z"
    }
   },
   "outputs": [],
   "source": [
    "um = cat['glm_n2560_RAL3p3']"
   ]
  },
  {
   "cell_type": "code",
   "execution_count": 8,
   "id": "9b248f17-ca9c-4226-a70d-4da51925bcf1",
   "metadata": {
    "execution": {
     "iopub.execute_input": "2025-04-24T09:41:24.274255Z",
     "iopub.status.busy": "2025-04-24T09:41:24.272293Z",
     "iopub.status.idle": "2025-04-24T09:41:24.290543Z",
     "shell.execute_reply": "2025-04-24T09:41:24.288885Z",
     "shell.execute_reply.started": "2025-04-24T09:41:24.274167Z"
    }
   },
   "outputs": [
    {
     "data": {
      "text/plain": [
       "{'name': 'glm_n2560_RAL3p3',\n",
       " 'container': 'xarray',\n",
       " 'plugin': ['zarr'],\n",
       " 'driver': ['zarr'],\n",
       " 'description': '',\n",
       " 'direct_access': 'forbid',\n",
       " 'user_parameters': [{'name': 'time',\n",
       "   'description': 'time resolution of the dataset',\n",
       "   'type': 'str',\n",
       "   'allowed': ['PT1H', 'PT3H'],\n",
       "   'default': 'PT1H'},\n",
       "  {'name': 'zoom',\n",
       "   'description': 'zoom resolution of the dataset',\n",
       "   'type': 'int',\n",
       "   'allowed': [10, 9, 8, 7, 6, 5, 4, 3, 2, 1, 0],\n",
       "   'default': 8}],\n",
       " 'metadata': {'project': 'global_hackathon',\n",
       "  'experiment_id': 'hackathon',\n",
       "  'source_id': 'Unified_Model',\n",
       "  'simulation_id': 'RAL3p3'},\n",
       " 'args': {'chunks': None,\n",
       "  'consolidated': True,\n",
       "  'urlpath': 'https://hackathon-o.s3-ext.jc.rl.ac.uk/sim-data/dev/glm.n2560_RAL3p3/v4/data.healpix.{{ time }}.z{{ zoom }}.zarr'}}"
      ]
     },
     "execution_count": 8,
     "metadata": {},
     "output_type": "execute_result"
    }
   ],
   "source": [
    "um.describe()"
   ]
  },
  {
   "cell_type": "code",
   "execution_count": 13,
   "id": "f1ac3af5-85a8-421b-b9c5-6270fff30885",
   "metadata": {
    "execution": {
     "iopub.execute_input": "2025-04-24T09:45:02.229866Z",
     "iopub.status.busy": "2025-04-24T09:45:02.229335Z",
     "iopub.status.idle": "2025-04-24T09:45:03.543537Z",
     "shell.execute_reply": "2025-04-24T09:45:03.540659Z",
     "shell.execute_reply.started": "2025-04-24T09:45:02.229833Z"
    }
   },
   "outputs": [
    {
     "name": "stderr",
     "output_type": "stream",
     "text": [
      "/home/markmuetz/anaconda3/envs/hackathon_env/lib/python3.12/site-packages/intake_xarray/base.py:21: FutureWarning: The return type of `Dataset.dims` will be changed to return a set of dimension names in future, in order to be more consistent with `DataArray.dims`. To access a mapping from dimension names to lengths, please use `Dataset.sizes`.\n",
      "  'dims': dict(self._ds.dims),\n"
     ]
    }
   ],
   "source": [
    "cat = intake.open_catalog('https://raw.githubusercontent.com/digital-earths-global-hackathon/catalog/bd7a85e49b7d99f6787aaa1105b4f758c7614e7b/online/main.yaml')\n",
    "ds = cat['glm_n2560_RAL3p3'](zoom=10, time='PT1H').to_dask()"
   ]
  },
  {
   "cell_type": "code",
   "execution_count": 12,
   "id": "2b7fb563-7e6c-4dd3-af2f-e8b1a11c7d79",
   "metadata": {
    "execution": {
     "iopub.execute_input": "2025-04-24T09:43:34.321783Z",
     "iopub.status.busy": "2025-04-24T09:43:34.321519Z",
     "iopub.status.idle": "2025-04-24T09:43:38.982690Z",
     "shell.execute_reply": "2025-04-24T09:43:38.981846Z",
     "shell.execute_reply.started": "2025-04-24T09:43:34.321759Z"
    }
   },
   "outputs": [
    {
     "data": {
      "text/plain": [
       "array([299.83914, 299.84232, 299.82617, ..., 300.6401 , 300.65768,\n",
       "       300.63742], dtype=float32)"
      ]
     },
     "execution_count": 12,
     "metadata": {},
     "output_type": "execute_result"
    }
   ],
   "source": [
    "ds.isel(time=0).tas.values"
   ]
  },
  {
   "cell_type": "code",
   "execution_count": 14,
   "id": "cd6fd50c-0fc5-4436-bd72-3bdc65ea2033",
   "metadata": {
    "execution": {
     "iopub.execute_input": "2025-04-24T09:47:18.307818Z",
     "iopub.status.busy": "2025-04-24T09:47:18.306828Z",
     "iopub.status.idle": "2025-04-24T09:47:18.322914Z",
     "shell.execute_reply": "2025-04-24T09:47:18.321126Z",
     "shell.execute_reply.started": "2025-04-24T09:47:18.307699Z"
    }
   },
   "outputs": [
    {
     "data": {
      "text/plain": [
       "'0.7.0'"
      ]
     },
     "execution_count": 14,
     "metadata": {},
     "output_type": "execute_result"
    }
   ],
   "source": [
    "intake.__version__"
   ]
  },
  {
   "cell_type": "code",
   "execution_count": 15,
   "id": "d056c66f-0d08-42d4-948a-a5def8a35ac4",
   "metadata": {
    "execution": {
     "iopub.execute_input": "2025-04-24T09:47:28.765351Z",
     "iopub.status.busy": "2025-04-24T09:47:28.764222Z",
     "iopub.status.idle": "2025-04-24T09:47:28.780036Z",
     "shell.execute_reply": "2025-04-24T09:47:28.778090Z",
     "shell.execute_reply.started": "2025-04-24T09:47:28.765258Z"
    }
   },
   "outputs": [
    {
     "data": {
      "text/plain": [
       "'2025.1.2'"
      ]
     },
     "execution_count": 15,
     "metadata": {},
     "output_type": "execute_result"
    }
   ],
   "source": [
    "import xarray as xr\n",
    "xr.__version__"
   ]
  },
  {
   "cell_type": "code",
   "execution_count": null,
   "id": "1994023d-8593-4777-b063-a745fe9fcf60",
   "metadata": {},
   "outputs": [],
   "source": []
  }
 ],
 "metadata": {
  "kernelspec": {
   "display_name": "hackathon_env",
   "language": "python",
   "name": "hackathon_env"
  },
  "language_info": {
   "codemirror_mode": {
    "name": "ipython",
    "version": 3
   },
   "file_extension": ".py",
   "mimetype": "text/x-python",
   "name": "python",
   "nbconvert_exporter": "python",
   "pygments_lexer": "ipython3",
   "version": "3.12.9"
  }
 },
 "nbformat": 4,
 "nbformat_minor": 5
}
